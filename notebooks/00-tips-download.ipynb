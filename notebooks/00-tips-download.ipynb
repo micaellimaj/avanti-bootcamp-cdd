{
 "cells": [
  {
   "cell_type": "markdown",
   "metadata": {},
   "source": [
    "# Análise exploratória de dados"
   ]
  },
  {
   "cell_type": "code",
   "execution_count": 1,
   "metadata": {},
   "outputs": [],
   "source": [
    "import pandas as pd"
   ]
  },
  {
   "cell_type": "markdown",
   "metadata": {},
   "source": [
    "Leitura do arquivo:"
   ]
  },
  {
   "cell_type": "code",
   "execution_count": 2,
   "metadata": {},
   "outputs": [],
   "source": [
    "df = pd.read_csv('https://raw.githubusercontent.com/atlantico-academy/datasets/refs/heads/main/tips.csv')\n",
    "df = df.to_csv('../data/raw/tips.csv')"
   ]
  },
  {
   "cell_type": "markdown",
   "metadata": {},
   "source": [
    "Dicionário de dados:"
   ]
  },
  {
   "cell_type": "code",
   "execution_count": 2,
   "metadata": {},
   "outputs": [],
   "source": [
    "data_dictionary = pd.DataFrame([\n",
    "    {\n",
    "        'variavel': 'total_bill',\n",
    "        'descricao': 'Representa o valor total da conta em dólares',\n",
    "        'tipo': 'quantitativa',\n",
    "        'subtipo': 'contínua',\n",
    "    },\n",
    "    {\n",
    "        'variavel': 'tip',\n",
    "        'descricao': 'Representa o valor da gorjeta em dólares',\n",
    "        'tipo': 'quantitativa',\n",
    "        'subtipo': 'contínua',\n",
    "    },\n",
    "    {\n",
    "        'variavel': 'sex',\n",
    "        'descricao': 'Indica o sexo da pessoa (Masculino ou Feminino)',\n",
    "        'tipo': 'qualitativa',\n",
    "        'subtipo': 'nominal',\n",
    "    },\n",
    "    {\n",
    "        'variavel': 'smoker',\n",
    "        'descricao': 'Indica se a pessoa é fumante ou não',\n",
    "        'tipo': 'qualitativa',\n",
    "        'subtipo': 'nominal',\n",
    "    },\n",
    "    {\n",
    "        'variavel': 'day',\n",
    "        'descricao': 'Indica o dia da semana em que a refeição ocorreu',\n",
    "        'tipo': 'qualitativa',\n",
    "        'subtipo': 'nominal',\n",
    "    },\n",
    "    {\n",
    "        'variavel': 'time',\n",
    "        'descricao': 'Indica se a refeição ocorreu no almoço ou jantar',\n",
    "        'tipo': 'qualitativa',\n",
    "        'subtipo': 'nominal',\n",
    "    },\n",
    "    {\n",
    "        'variavel': 'size',\n",
    "        'descricao': 'Indica o número de pessoas no grupo',\n",
    "        'tipo': 'quantitativa',\n",
    "        'subtipo': 'discreta',\n",
    "    }\n",
    "])\n"
   ]
  },
  {
   "cell_type": "markdown",
   "metadata": {},
   "source": [
    "Salvando dicionário de dados:"
   ]
  },
  {
   "cell_type": "code",
   "execution_count": null,
   "metadata": {},
   "outputs": [],
   "source": [
    "data_dictionary.to_csv(\"../data/external/dictionary.csv\", index=False)"
   ]
  },
  {
   "cell_type": "markdown",
   "metadata": {},
   "source": [
    "## 1. Descrição dos dados"
   ]
  },
  {
   "cell_type": "code",
   "execution_count": null,
   "metadata": {},
   "outputs": [],
   "source": []
  },
  {
   "cell_type": "markdown",
   "metadata": {},
   "source": [
    "## 2. Perguntas de partida e hipóteses"
   ]
  },
  {
   "cell_type": "code",
   "execution_count": null,
   "metadata": {},
   "outputs": [],
   "source": []
  },
  {
   "cell_type": "markdown",
   "metadata": {},
   "source": [
    "## 3. Insights"
   ]
  },
  {
   "cell_type": "code",
   "execution_count": null,
   "metadata": {},
   "outputs": [],
   "source": []
  }
 ],
 "metadata": {
  "kernelspec": {
   "display_name": "base",
   "language": "python",
   "name": "python3"
  },
  "language_info": {
   "codemirror_mode": {
    "name": "ipython",
    "version": 3
   },
   "file_extension": ".py",
   "mimetype": "text/x-python",
   "name": "python",
   "nbconvert_exporter": "python",
   "pygments_lexer": "ipython3",
   "version": "3.11.7"
  },
  "orig_nbformat": 4
 },
 "nbformat": 4,
 "nbformat_minor": 2
}
