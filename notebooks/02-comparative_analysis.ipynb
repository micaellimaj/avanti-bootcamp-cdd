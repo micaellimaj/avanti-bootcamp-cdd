{
 "cells": [
  {
   "cell_type": "markdown",
   "metadata": {},
   "source": [
    "# Comparação de Modelos de ML"
   ]
  },
  {
   "cell_type": "markdown",
   "metadata": {},
   "source": [
    "* Bibliotecas:"
   ]
  },
  {
   "cell_type": "code",
   "execution_count": null,
   "metadata": {},
   "outputs": [],
   "source": [
    "import pandas as pd\n",
    "import numpy as np\n",
    "import seaborn as sns\n",
    "import matplotlib.pyplot as plt\n",
    "from sklearn.impute import SimpleImputer, KNNImputer\n",
    "from sklearn.pipeline import Pipeline\n",
    "from sklearn.compose import ColumnTransformer\n",
    "from sklearn.preprocessing import OneHotEncoder, OrdinalEncoder, StandardScaler\n",
    "from sklearn.linear_model import LinearRegression\n",
    "from sklearn.model_selection import train_test_split"
   ]
  },
  {
   "cell_type": "markdown",
   "metadata": {},
   "source": [
    "* Leitura dos dados:"
   ]
  },
  {
   "cell_type": "code",
   "execution_count": 49,
   "metadata": {},
   "outputs": [],
   "source": [
    "dados = pd.read_csv('https://raw.githubusercontent.com/atlantico-academy/datasets/refs/heads/main/tips.csv')"
   ]
  },
  {
   "cell_type": "code",
   "execution_count": 50,
   "metadata": {},
   "outputs": [],
   "source": [
    "dados_dict = pd.read_csv('../data/external/dictionary.csv')"
   ]
  },
  {
   "cell_type": "code",
   "execution_count": 51,
   "metadata": {},
   "outputs": [
    {
     "data": {
      "text/html": [
       "<div>\n",
       "<style scoped>\n",
       "    .dataframe tbody tr th:only-of-type {\n",
       "        vertical-align: middle;\n",
       "    }\n",
       "\n",
       "    .dataframe tbody tr th {\n",
       "        vertical-align: top;\n",
       "    }\n",
       "\n",
       "    .dataframe thead th {\n",
       "        text-align: right;\n",
       "    }\n",
       "</style>\n",
       "<table border=\"1\" class=\"dataframe\">\n",
       "  <thead>\n",
       "    <tr style=\"text-align: right;\">\n",
       "      <th></th>\n",
       "      <th>total_bill</th>\n",
       "      <th>tip</th>\n",
       "      <th>sex</th>\n",
       "      <th>smoker</th>\n",
       "      <th>day</th>\n",
       "      <th>time</th>\n",
       "      <th>size</th>\n",
       "    </tr>\n",
       "  </thead>\n",
       "  <tbody>\n",
       "    <tr>\n",
       "      <th>0</th>\n",
       "      <td>16.99</td>\n",
       "      <td>1.01</td>\n",
       "      <td>Female</td>\n",
       "      <td>No</td>\n",
       "      <td>Sun</td>\n",
       "      <td>Dinner</td>\n",
       "      <td>2</td>\n",
       "    </tr>\n",
       "    <tr>\n",
       "      <th>1</th>\n",
       "      <td>10.34</td>\n",
       "      <td>1.66</td>\n",
       "      <td>Male</td>\n",
       "      <td>No</td>\n",
       "      <td>Sun</td>\n",
       "      <td>Dinner</td>\n",
       "      <td>3</td>\n",
       "    </tr>\n",
       "    <tr>\n",
       "      <th>2</th>\n",
       "      <td>21.01</td>\n",
       "      <td>3.50</td>\n",
       "      <td>Male</td>\n",
       "      <td>No</td>\n",
       "      <td>Sun</td>\n",
       "      <td>Dinner</td>\n",
       "      <td>3</td>\n",
       "    </tr>\n",
       "    <tr>\n",
       "      <th>3</th>\n",
       "      <td>23.68</td>\n",
       "      <td>3.31</td>\n",
       "      <td>Male</td>\n",
       "      <td>No</td>\n",
       "      <td>Sun</td>\n",
       "      <td>Dinner</td>\n",
       "      <td>2</td>\n",
       "    </tr>\n",
       "    <tr>\n",
       "      <th>4</th>\n",
       "      <td>24.59</td>\n",
       "      <td>3.61</td>\n",
       "      <td>Female</td>\n",
       "      <td>No</td>\n",
       "      <td>Sun</td>\n",
       "      <td>Dinner</td>\n",
       "      <td>4</td>\n",
       "    </tr>\n",
       "  </tbody>\n",
       "</table>\n",
       "</div>"
      ],
      "text/plain": [
       "   total_bill   tip     sex smoker  day    time  size\n",
       "0       16.99  1.01  Female     No  Sun  Dinner     2\n",
       "1       10.34  1.66    Male     No  Sun  Dinner     3\n",
       "2       21.01  3.50    Male     No  Sun  Dinner     3\n",
       "3       23.68  3.31    Male     No  Sun  Dinner     2\n",
       "4       24.59  3.61  Female     No  Sun  Dinner     4"
      ]
     },
     "execution_count": 51,
     "metadata": {},
     "output_type": "execute_result"
    }
   ],
   "source": [
    "dados.head()"
   ]
  },
  {
   "cell_type": "code",
   "execution_count": 55,
   "metadata": {},
   "outputs": [
    {
     "data": {
      "text/html": [
       "<div>\n",
       "<style scoped>\n",
       "    .dataframe tbody tr th:only-of-type {\n",
       "        vertical-align: middle;\n",
       "    }\n",
       "\n",
       "    .dataframe tbody tr th {\n",
       "        vertical-align: top;\n",
       "    }\n",
       "\n",
       "    .dataframe thead th {\n",
       "        text-align: right;\n",
       "    }\n",
       "</style>\n",
       "<table border=\"1\" class=\"dataframe\">\n",
       "  <thead>\n",
       "    <tr style=\"text-align: right;\">\n",
       "      <th></th>\n",
       "      <th>variavel</th>\n",
       "      <th>descricao</th>\n",
       "      <th>tipo</th>\n",
       "      <th>subtipo</th>\n",
       "    </tr>\n",
       "  </thead>\n",
       "  <tbody>\n",
       "    <tr>\n",
       "      <th>0</th>\n",
       "      <td>total_bill</td>\n",
       "      <td>Representa o valor total da conta em dólares</td>\n",
       "      <td>quantitativa</td>\n",
       "      <td>contínua</td>\n",
       "    </tr>\n",
       "    <tr>\n",
       "      <th>1</th>\n",
       "      <td>tip</td>\n",
       "      <td>Representa o valor da gorjeta em dólares</td>\n",
       "      <td>quantitativa</td>\n",
       "      <td>contínua</td>\n",
       "    </tr>\n",
       "    <tr>\n",
       "      <th>2</th>\n",
       "      <td>sex</td>\n",
       "      <td>Indica o sexo da pessoa (Masculino ou Feminino)</td>\n",
       "      <td>qualitativa</td>\n",
       "      <td>nominal</td>\n",
       "    </tr>\n",
       "    <tr>\n",
       "      <th>3</th>\n",
       "      <td>smoker</td>\n",
       "      <td>Indica se a pessoa é fumante ou não</td>\n",
       "      <td>qualitativa</td>\n",
       "      <td>nominal</td>\n",
       "    </tr>\n",
       "    <tr>\n",
       "      <th>4</th>\n",
       "      <td>day</td>\n",
       "      <td>Indica o dia da semana em que a refeição ocorreu</td>\n",
       "      <td>qualitativa</td>\n",
       "      <td>nominal</td>\n",
       "    </tr>\n",
       "    <tr>\n",
       "      <th>5</th>\n",
       "      <td>time</td>\n",
       "      <td>Indica se a refeição ocorreu no almoço ou jantar</td>\n",
       "      <td>qualitativa</td>\n",
       "      <td>nominal</td>\n",
       "    </tr>\n",
       "    <tr>\n",
       "      <th>6</th>\n",
       "      <td>size</td>\n",
       "      <td>Indica o número de pessoas no grupo</td>\n",
       "      <td>quantitativa</td>\n",
       "      <td>discreta</td>\n",
       "    </tr>\n",
       "  </tbody>\n",
       "</table>\n",
       "</div>"
      ],
      "text/plain": [
       "     variavel                                         descricao          tipo  \\\n",
       "0  total_bill      Representa o valor total da conta em dólares  quantitativa   \n",
       "1         tip          Representa o valor da gorjeta em dólares  quantitativa   \n",
       "2         sex   Indica o sexo da pessoa (Masculino ou Feminino)   qualitativa   \n",
       "3      smoker               Indica se a pessoa é fumante ou não   qualitativa   \n",
       "4         day  Indica o dia da semana em que a refeição ocorreu   qualitativa   \n",
       "5        time  Indica se a refeição ocorreu no almoço ou jantar   qualitativa   \n",
       "6        size               Indica o número de pessoas no grupo  quantitativa   \n",
       "\n",
       "    subtipo  \n",
       "0  contínua  \n",
       "1  contínua  \n",
       "2   nominal  \n",
       "3   nominal  \n",
       "4   nominal  \n",
       "5   nominal  \n",
       "6  discreta  "
      ]
     },
     "execution_count": 55,
     "metadata": {},
     "output_type": "execute_result"
    }
   ],
   "source": [
    "dados_dict.head(10)"
   ]
  },
  {
   "cell_type": "markdown",
   "metadata": {},
   "source": [
    "* Verificando estrutura:"
   ]
  },
  {
   "cell_type": "code",
   "execution_count": 43,
   "metadata": {},
   "outputs": [
    {
     "name": "stdout",
     "output_type": "stream",
     "text": [
      "<class 'pandas.core.frame.DataFrame'>\n",
      "RangeIndex: 244 entries, 0 to 243\n",
      "Data columns (total 7 columns):\n",
      " #   Column      Non-Null Count  Dtype  \n",
      "---  ------      --------------  -----  \n",
      " 0   total_bill  244 non-null    float64\n",
      " 1   tip         244 non-null    float64\n",
      " 2   sex         244 non-null    object \n",
      " 3   smoker      244 non-null    object \n",
      " 4   day         244 non-null    object \n",
      " 5   time        244 non-null    object \n",
      " 6   size        244 non-null    int64  \n",
      "dtypes: float64(2), int64(1), object(4)\n",
      "memory usage: 13.5+ KB\n"
     ]
    }
   ],
   "source": [
    "dados.info()"
   ]
  },
  {
   "cell_type": "markdown",
   "metadata": {},
   "source": [
    "Valores númericos:"
   ]
  },
  {
   "cell_type": "code",
   "execution_count": 44,
   "metadata": {},
   "outputs": [
    {
     "data": {
      "text/html": [
       "<div>\n",
       "<style scoped>\n",
       "    .dataframe tbody tr th:only-of-type {\n",
       "        vertical-align: middle;\n",
       "    }\n",
       "\n",
       "    .dataframe tbody tr th {\n",
       "        vertical-align: top;\n",
       "    }\n",
       "\n",
       "    .dataframe thead th {\n",
       "        text-align: right;\n",
       "    }\n",
       "</style>\n",
       "<table border=\"1\" class=\"dataframe\">\n",
       "  <thead>\n",
       "    <tr style=\"text-align: right;\">\n",
       "      <th></th>\n",
       "      <th>count</th>\n",
       "      <th>mean</th>\n",
       "      <th>std</th>\n",
       "      <th>min</th>\n",
       "      <th>25%</th>\n",
       "      <th>50%</th>\n",
       "      <th>75%</th>\n",
       "      <th>max</th>\n",
       "    </tr>\n",
       "  </thead>\n",
       "  <tbody>\n",
       "    <tr>\n",
       "      <th>total_bill</th>\n",
       "      <td>244.0</td>\n",
       "      <td>19.785943</td>\n",
       "      <td>8.902412</td>\n",
       "      <td>3.07</td>\n",
       "      <td>13.3475</td>\n",
       "      <td>17.795</td>\n",
       "      <td>24.1275</td>\n",
       "      <td>50.81</td>\n",
       "    </tr>\n",
       "    <tr>\n",
       "      <th>tip</th>\n",
       "      <td>244.0</td>\n",
       "      <td>2.998279</td>\n",
       "      <td>1.383638</td>\n",
       "      <td>1.00</td>\n",
       "      <td>2.0000</td>\n",
       "      <td>2.900</td>\n",
       "      <td>3.5625</td>\n",
       "      <td>10.00</td>\n",
       "    </tr>\n",
       "    <tr>\n",
       "      <th>size</th>\n",
       "      <td>244.0</td>\n",
       "      <td>2.569672</td>\n",
       "      <td>0.951100</td>\n",
       "      <td>1.00</td>\n",
       "      <td>2.0000</td>\n",
       "      <td>2.000</td>\n",
       "      <td>3.0000</td>\n",
       "      <td>6.00</td>\n",
       "    </tr>\n",
       "  </tbody>\n",
       "</table>\n",
       "</div>"
      ],
      "text/plain": [
       "            count       mean       std   min      25%     50%      75%    max\n",
       "total_bill  244.0  19.785943  8.902412  3.07  13.3475  17.795  24.1275  50.81\n",
       "tip         244.0   2.998279  1.383638  1.00   2.0000   2.900   3.5625  10.00\n",
       "size        244.0   2.569672  0.951100  1.00   2.0000   2.000   3.0000   6.00"
      ]
     },
     "execution_count": 44,
     "metadata": {},
     "output_type": "execute_result"
    }
   ],
   "source": [
    "dados.describe().T"
   ]
  },
  {
   "cell_type": "markdown",
   "metadata": {},
   "source": [
    "Valores de string:"
   ]
  },
  {
   "cell_type": "code",
   "execution_count": 45,
   "metadata": {},
   "outputs": [
    {
     "data": {
      "text/html": [
       "<div>\n",
       "<style scoped>\n",
       "    .dataframe tbody tr th:only-of-type {\n",
       "        vertical-align: middle;\n",
       "    }\n",
       "\n",
       "    .dataframe tbody tr th {\n",
       "        vertical-align: top;\n",
       "    }\n",
       "\n",
       "    .dataframe thead th {\n",
       "        text-align: right;\n",
       "    }\n",
       "</style>\n",
       "<table border=\"1\" class=\"dataframe\">\n",
       "  <thead>\n",
       "    <tr style=\"text-align: right;\">\n",
       "      <th></th>\n",
       "      <th>count</th>\n",
       "      <th>unique</th>\n",
       "      <th>top</th>\n",
       "      <th>freq</th>\n",
       "    </tr>\n",
       "  </thead>\n",
       "  <tbody>\n",
       "    <tr>\n",
       "      <th>sex</th>\n",
       "      <td>244</td>\n",
       "      <td>2</td>\n",
       "      <td>Male</td>\n",
       "      <td>157</td>\n",
       "    </tr>\n",
       "    <tr>\n",
       "      <th>smoker</th>\n",
       "      <td>244</td>\n",
       "      <td>2</td>\n",
       "      <td>No</td>\n",
       "      <td>151</td>\n",
       "    </tr>\n",
       "    <tr>\n",
       "      <th>day</th>\n",
       "      <td>244</td>\n",
       "      <td>4</td>\n",
       "      <td>Sat</td>\n",
       "      <td>87</td>\n",
       "    </tr>\n",
       "    <tr>\n",
       "      <th>time</th>\n",
       "      <td>244</td>\n",
       "      <td>2</td>\n",
       "      <td>Dinner</td>\n",
       "      <td>176</td>\n",
       "    </tr>\n",
       "  </tbody>\n",
       "</table>\n",
       "</div>"
      ],
      "text/plain": [
       "       count unique     top freq\n",
       "sex      244      2    Male  157\n",
       "smoker   244      2      No  151\n",
       "day      244      4     Sat   87\n",
       "time     244      2  Dinner  176"
      ]
     },
     "execution_count": 45,
     "metadata": {},
     "output_type": "execute_result"
    }
   ],
   "source": [
    "dados.describe(include='object').T"
   ]
  },
  {
   "cell_type": "markdown",
   "metadata": {},
   "source": [
    "## Tratamento e Transformação de dados:"
   ]
  },
  {
   "cell_type": "markdown",
   "metadata": {},
   "source": [
    "* Verificando os Valores Faltantes:"
   ]
  },
  {
   "cell_type": "code",
   "execution_count": 46,
   "metadata": {},
   "outputs": [
    {
     "name": "stdout",
     "output_type": "stream",
     "text": [
      "Não há valores nulos na tabela.\n"
     ]
    }
   ],
   "source": [
    "valores_nulos = dados.isnull().values.any()\n",
    "\n",
    "if valores_nulos:\n",
    "    print(\"Há valores nulos na tabela.\")\n",
    "else:\n",
    "    print(\"Não há valores nulos na tabela.\")"
   ]
  },
  {
   "cell_type": "code",
   "execution_count": 47,
   "metadata": {},
   "outputs": [
    {
     "name": "stdout",
     "output_type": "stream",
     "text": [
      "Verificando valores faltantes : \n",
      "\n",
      "total_bill    0\n",
      "tip           0\n",
      "sex           0\n",
      "smoker        0\n",
      "day           0\n",
      "time          0\n",
      "size          0\n",
      "dtype: int64\n"
     ]
    }
   ],
   "source": [
    "print(f'Verificando valores faltantes : \\n\\n{dados.isna().sum()}')"
   ]
  },
  {
   "cell_type": "markdown",
   "metadata": {},
   "source": [
    "Acima vemos que não há valores nulos no dataset."
   ]
  },
  {
   "cell_type": "markdown",
   "metadata": {},
   "source": [
    "* Verificando os Valores discrepantes:"
   ]
  },
  {
   "cell_type": "code",
   "execution_count": 52,
   "metadata": {},
   "outputs": [],
   "source": [
    "# Função para identificar outliers usando o IQR\n",
    "def detect_outliers_iqr(dados, column):\n",
    "    Q1 = dados[column].quantile(0.25)  # Primeiro quartil\n",
    "    Q3 = dados[column].quantile(0.75)  # Terceiro quartil\n",
    "    IQR = Q3 - Q1                     # Intervalo Interquartil\n",
    "    \n",
    "    lower_bound = Q1 - 1.5 * IQR      # Limite inferior\n",
    "    upper_bound = Q3 + 1.5 * IQR      # Limite superior\n",
    "    \n",
    "    outliers = dados[(dados[column] < lower_bound) | (dados[column] > upper_bound)]\n",
    "    return outliers"
   ]
  },
  {
   "cell_type": "code",
   "execution_count": 54,
   "metadata": {},
   "outputs": [
    {
     "name": "stdout",
     "output_type": "stream",
     "text": [
      "Outliers na coluna 'total_bill':\n",
      "     total_bill    tip     sex smoker   day    time  size\n",
      "59        48.27   6.73    Male     No   Sat  Dinner     4\n",
      "102       44.30   2.50  Female    Yes   Sat  Dinner     3\n",
      "142       41.19   5.00    Male     No  Thur   Lunch     5\n",
      "156       48.17   5.00    Male     No   Sun  Dinner     6\n",
      "170       50.81  10.00    Male    Yes   Sat  Dinner     3\n",
      "182       45.35   3.50    Male    Yes   Sun  Dinner     3\n",
      "184       40.55   3.00    Male    Yes   Sun  Dinner     2\n",
      "197       43.11   5.00  Female    Yes  Thur   Lunch     4\n",
      "212       48.33   9.00    Male     No   Sat  Dinner     4\n",
      "\n",
      "Outliers na coluna 'tip':\n",
      "     total_bill    tip     sex smoker   day    time  size\n",
      "23        39.42   7.58    Male     No   Sat  Dinner     4\n",
      "47        32.40   6.00    Male     No   Sun  Dinner     4\n",
      "59        48.27   6.73    Male     No   Sat  Dinner     4\n",
      "141       34.30   6.70    Male     No  Thur   Lunch     6\n",
      "170       50.81  10.00    Male    Yes   Sat  Dinner     3\n",
      "183       23.17   6.50    Male    Yes   Sun  Dinner     4\n",
      "212       48.33   9.00    Male     No   Sat  Dinner     4\n",
      "214       28.17   6.50  Female    Yes   Sat  Dinner     3\n",
      "239       29.03   5.92    Male     No   Sat  Dinner     3\n",
      "\n",
      "Outliers na coluna 'size':\n",
      "     total_bill   tip     sex smoker   day    time  size\n",
      "125       29.80  4.20  Female     No  Thur   Lunch     6\n",
      "141       34.30  6.70    Male     No  Thur   Lunch     6\n",
      "142       41.19  5.00    Male     No  Thur   Lunch     5\n",
      "143       27.05  5.00  Female     No  Thur   Lunch     6\n",
      "155       29.85  5.14  Female     No   Sun  Dinner     5\n",
      "156       48.17  5.00    Male     No   Sun  Dinner     6\n",
      "185       20.69  5.00    Male     No   Sun  Dinner     5\n",
      "187       30.46  2.00    Male    Yes   Sun  Dinner     5\n",
      "216       28.15  3.00    Male    Yes   Sat  Dinner     5\n",
      "\n"
     ]
    }
   ],
   "source": [
    "# Detectando outliers apenas para colunas numéricas\n",
    "for col in dados.select_dtypes(include=[np.number]).columns:  # Filtra apenas colunas numéricas\n",
    "    outliers = detect_outliers_iqr(dados, col)\n",
    "    print(f\"Outliers na coluna '{col}':\\n{outliers}\\n\")"
   ]
  },
  {
   "cell_type": "markdown",
   "metadata": {},
   "source": [
    "Acima temos uma lista com os valores discrepantes das colunas númericas."
   ]
  },
  {
   "cell_type": "markdown",
   "metadata": {},
   "source": [
    "* Estruturação de Variáveis:"
   ]
  },
  {
   "cell_type": "code",
   "execution_count": 34,
   "metadata": {},
   "outputs": [],
   "source": [
    "# Definindo a variável-alvo\n",
    "target_variable = 'tip'\n",
    "\n",
    "# Identificando variáveis inúteis (nenhuma nesse caso)\n",
    "useless_variables = (\n",
    "    dados_dict\n",
    "    .query(\"tipo == 'inútil'\")\n",
    "    .variavel\n",
    "    .to_list()\n",
    ")\n",
    "\n",
    "# Variáveis nominais (não incluímos a variável-alvo)\n",
    "nominal_variables = (\n",
    "    dados_dict\n",
    "    .query(\"subtipo == 'nominal' and variavel != @target_variable\")\n",
    "    .variavel\n",
    "    .to_list()\n",
    ")\n",
    "\n",
    "# Variáveis ordinais (nenhuma foi definida como ordinal no dicionário)\n",
    "ordinal_variables = (\n",
    "    dados_dict\n",
    "    .query(\"subtipo == 'ordinal' and variavel != @target_variable\")\n",
    "    .variavel\n",
    "    .to_list()\n",
    ")\n",
    "\n",
    "# Variáveis contínuas\n",
    "continuous_variables = (\n",
    "    dados_dict\n",
    "    .query(\"subtipo == 'contínua' and variavel != @target_variable\")\n",
    "    .variavel\n",
    "    .to_list()\n",
    ")\n",
    "\n",
    "# Variáveis discretas\n",
    "discrete_variables = (\n",
    "    dados_dict\n",
    "    .query(\"subtipo == 'discreta' and variavel != @target_variable\")\n",
    "    .variavel\n",
    "    .to_list()\n",
    ")"
   ]
  },
  {
   "cell_type": "markdown",
   "metadata": {},
   "source": [
    "* Separando X (variáveis explicativas) e y (variável-alvo):"
   ]
  },
  {
   "cell_type": "code",
   "execution_count": null,
   "metadata": {},
   "outputs": [],
   "source": [
    "X = dados.drop(columns=[target_variable] + useless_variables)\n",
    "y = dados[target_variable]"
   ]
  },
  {
   "cell_type": "code",
   "execution_count": 36,
   "metadata": {},
   "outputs": [
    {
     "name": "stdout",
     "output_type": "stream",
     "text": [
      "Variáveis nominais: ['sex', 'smoker', 'day', 'time']\n",
      "Variáveis contínuas: ['total_bill']\n",
      "Variáveis discretas: ['size']\n",
      "\n",
      "X (features):\n",
      "      total_bill     sex smoker   day    time  size\n",
      "0         16.99  Female     No   Sun  Dinner     2\n",
      "1         10.34    Male     No   Sun  Dinner     3\n",
      "2         21.01    Male     No   Sun  Dinner     3\n",
      "3         23.68    Male     No   Sun  Dinner     2\n",
      "4         24.59  Female     No   Sun  Dinner     4\n",
      "..          ...     ...    ...   ...     ...   ...\n",
      "239       29.03    Male     No   Sat  Dinner     3\n",
      "240       27.18  Female    Yes   Sat  Dinner     2\n",
      "241       22.67    Male    Yes   Sat  Dinner     2\n",
      "242       17.82    Male     No   Sat  Dinner     2\n",
      "243       18.78  Female     No  Thur  Dinner     2\n",
      "\n",
      "[244 rows x 6 columns]\n",
      "\n",
      "y (target):\n",
      " 0      1.01\n",
      "1      1.66\n",
      "2      3.50\n",
      "3      3.31\n",
      "4      3.61\n",
      "       ... \n",
      "239    5.92\n",
      "240    2.00\n",
      "241    2.00\n",
      "242    1.75\n",
      "243    3.00\n",
      "Name: tip, Length: 244, dtype: float64\n"
     ]
    }
   ],
   "source": [
    "print(\"Variáveis nominais:\", nominal_variables)\n",
    "print(\"Variáveis contínuas:\", continuous_variables)\n",
    "print(\"Variáveis discretas:\", discrete_variables)\n",
    "print(\"\\nX (features):\\n\", X)\n",
    "print(\"\\ny (target):\\n\", y)"
   ]
  },
  {
   "cell_type": "markdown",
   "metadata": {},
   "source": [
    "O código acima organiza e prepara os dados de forma sistemática para análise ou modelagem. Ele facilita a aplicação de diferentes técnicas a cada tipo de variável, como codificação (para nominais) ou normalização (para contínuas)"
   ]
  },
  {
   "cell_type": "markdown",
   "metadata": {},
   "source": [
    "* Pipelines de pré-processamento por tipo de variável:"
   ]
  },
  {
   "cell_type": "code",
   "execution_count": null,
   "metadata": {},
   "outputs": [],
   "source": [
    "\n",
    "nominal_preprocessor = Pipeline(steps=[\n",
    "    (\"missing\", SimpleImputer(strategy='most_frequent')),  # Substituir valores faltantes pela moda\n",
    "    (\"encoding\", OneHotEncoder(sparse_output=False)),  # Codificação one-hot\n",
    "])\n",
    "\n",
    "continuous_preprocessor = Pipeline(steps=[\n",
    "    (\"missing\", SimpleImputer(strategy='mean')),  # Substituir valores faltantes pela média\n",
    "    (\"normalization\", StandardScaler()),  # Normalização (média = 0, desvio padrão = 1)\n",
    "])\n",
    "\n",
    "discrete_preprocessor = Pipeline(steps=[\n",
    "    (\"missing\", KNNImputer()),  # Substituir valores faltantes com base nos vizinhos mais próximos\n",
    "    (\"normalization\", StandardScaler()),  # Normalização\n",
    "])\n"
   ]
  },
  {
   "cell_type": "markdown",
   "metadata": {},
   "source": [
    "Esse código acima organiza pipelines para pré-processar variáveis diferentes (nominais, ordinais, contínuas e discretas). Cada tipo de variável tem necessidades específicas, como tratamento de valores faltantes ou codificação."
   ]
  },
  {
   "cell_type": "markdown",
   "metadata": {},
   "source": [
    "* Selecionando variáveis com base no dados_dict:"
   ]
  },
  {
   "cell_type": "code",
   "execution_count": 38,
   "metadata": {},
   "outputs": [],
   "source": [
    "# Criando o transformador por tipo de variável\n",
    "preprocessor = ColumnTransformer(transformers=[\n",
    "    (\"nominal\", nominal_preprocessor, nominal_variables),\n",
    "    (\"continuous\", continuous_preprocessor, continuous_variables),\n",
    "    (\"discrete\", discrete_preprocessor, discrete_variables),\n",
    "])"
   ]
  },
  {
   "cell_type": "markdown",
   "metadata": {},
   "source": [
    "As variáveis nominais, contínuas e discretas são extraídas do dicionário de dados com base no subtipo. Isso assegura que cada tipo de dado seja tratado com o pipeline apropriado."
   ]
  },
  {
   "cell_type": "markdown",
   "metadata": {},
   "source": [
    "*  Aplicando o preprocessor aos dados:"
   ]
  },
  {
   "cell_type": "code",
   "execution_count": null,
   "metadata": {},
   "outputs": [],
   "source": [
    "X_preprocessed = preprocessor.fit_transform(X)"
   ]
  },
  {
   "cell_type": "markdown",
   "metadata": {},
   "source": [
    "Acima Treina o pipeline no dataset (fit) e transforma os dados (transform) de acordo com os passos definidos."
   ]
  },
  {
   "cell_type": "code",
   "execution_count": null,
   "metadata": {},
   "outputs": [
    {
     "name": "stdout",
     "output_type": "stream",
     "text": [
      "Dados pré-processados:\n",
      "[[ 1.          0.          1.         ...  0.         -0.31471131\n",
      "  -0.60019263]\n",
      " [ 0.          1.          1.         ...  0.         -1.06323531\n",
      "   0.45338292]\n",
      " [ 0.          1.          1.         ...  0.          0.1377799\n",
      "   0.45338292]\n",
      " ...\n",
      " [ 0.          1.          0.         ...  0.          0.3246295\n",
      "  -0.60019263]\n",
      " [ 0.          1.          1.         ...  0.         -0.2212865\n",
      "  -0.60019263]\n",
      " [ 1.          0.          1.         ...  0.         -0.1132289\n",
      "  -0.60019263]]\n"
     ]
    }
   ],
   "source": [
    "print(\"Dados pré-processados:\")\n",
    "print(X_preprocessed)"
   ]
  },
  {
   "cell_type": "markdown",
   "metadata": {},
   "source": [
    "Acima estão os resultados dos passos anteriores."
   ]
  }
 ],
 "metadata": {
  "kernelspec": {
   "display_name": "base",
   "language": "python",
   "name": "python3"
  },
  "language_info": {
   "codemirror_mode": {
    "name": "ipython",
    "version": 3
   },
   "file_extension": ".py",
   "mimetype": "text/x-python",
   "name": "python",
   "nbconvert_exporter": "python",
   "pygments_lexer": "ipython3",
   "version": "3.11.7"
  }
 },
 "nbformat": 4,
 "nbformat_minor": 2
}
