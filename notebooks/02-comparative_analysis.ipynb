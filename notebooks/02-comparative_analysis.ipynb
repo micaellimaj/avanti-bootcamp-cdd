{
 "cells": [
  {
   "cell_type": "markdown",
   "metadata": {},
   "source": [
    "# Comparação de Modelos de ML"
   ]
  },
  {
   "cell_type": "markdown",
   "metadata": {},
   "source": [
    "* Bibliotecas:"
   ]
  },
  {
   "cell_type": "code",
   "execution_count": 79,
   "metadata": {},
   "outputs": [],
   "source": [
    "import pandas as pd\n",
    "import numpy as np\n",
    "import seaborn as sns\n",
    "import matplotlib.pyplot as plt\n",
    "from sklearn.impute import SimpleImputer, KNNImputer\n",
    "from sklearn.pipeline import Pipeline\n",
    "from sklearn.compose import ColumnTransformer\n",
    "from sklearn.preprocessing import OneHotEncoder, OrdinalEncoder, StandardScaler\n",
    "from sklearn.linear_model import LinearRegression\n",
    "from sklearn.model_selection import train_test_split\n",
    "from sklearn.metrics import mean_absolute_error, mean_squared_error, r2_score\n",
    "from sklearn.model_selection import cross_val_score\n",
    "from sklearn.linear_model import LogisticRegression\n",
    "from sklearn.metrics import accuracy_score, classification_report, confusion_matrix, f1_score, roc_auc_score\n",
    "import joblib"
   ]
  },
  {
   "cell_type": "markdown",
   "metadata": {},
   "source": [
    "* Leitura dos dados:"
   ]
  },
  {
   "cell_type": "code",
   "execution_count": 40,
   "metadata": {},
   "outputs": [],
   "source": [
    "dados = pd.read_csv('https://raw.githubusercontent.com/atlantico-academy/datasets/refs/heads/main/tips.csv')"
   ]
  },
  {
   "cell_type": "code",
   "execution_count": 41,
   "metadata": {},
   "outputs": [],
   "source": [
    "dados_dict = pd.read_csv('../data/external/dictionary.csv')"
   ]
  },
  {
   "cell_type": "code",
   "execution_count": 42,
   "metadata": {},
   "outputs": [
    {
     "data": {
      "text/html": [
       "<div>\n",
       "<style scoped>\n",
       "    .dataframe tbody tr th:only-of-type {\n",
       "        vertical-align: middle;\n",
       "    }\n",
       "\n",
       "    .dataframe tbody tr th {\n",
       "        vertical-align: top;\n",
       "    }\n",
       "\n",
       "    .dataframe thead th {\n",
       "        text-align: right;\n",
       "    }\n",
       "</style>\n",
       "<table border=\"1\" class=\"dataframe\">\n",
       "  <thead>\n",
       "    <tr style=\"text-align: right;\">\n",
       "      <th></th>\n",
       "      <th>total_bill</th>\n",
       "      <th>tip</th>\n",
       "      <th>sex</th>\n",
       "      <th>smoker</th>\n",
       "      <th>day</th>\n",
       "      <th>time</th>\n",
       "      <th>size</th>\n",
       "    </tr>\n",
       "  </thead>\n",
       "  <tbody>\n",
       "    <tr>\n",
       "      <th>0</th>\n",
       "      <td>16.99</td>\n",
       "      <td>1.01</td>\n",
       "      <td>Female</td>\n",
       "      <td>No</td>\n",
       "      <td>Sun</td>\n",
       "      <td>Dinner</td>\n",
       "      <td>2</td>\n",
       "    </tr>\n",
       "    <tr>\n",
       "      <th>1</th>\n",
       "      <td>10.34</td>\n",
       "      <td>1.66</td>\n",
       "      <td>Male</td>\n",
       "      <td>No</td>\n",
       "      <td>Sun</td>\n",
       "      <td>Dinner</td>\n",
       "      <td>3</td>\n",
       "    </tr>\n",
       "    <tr>\n",
       "      <th>2</th>\n",
       "      <td>21.01</td>\n",
       "      <td>3.50</td>\n",
       "      <td>Male</td>\n",
       "      <td>No</td>\n",
       "      <td>Sun</td>\n",
       "      <td>Dinner</td>\n",
       "      <td>3</td>\n",
       "    </tr>\n",
       "    <tr>\n",
       "      <th>3</th>\n",
       "      <td>23.68</td>\n",
       "      <td>3.31</td>\n",
       "      <td>Male</td>\n",
       "      <td>No</td>\n",
       "      <td>Sun</td>\n",
       "      <td>Dinner</td>\n",
       "      <td>2</td>\n",
       "    </tr>\n",
       "    <tr>\n",
       "      <th>4</th>\n",
       "      <td>24.59</td>\n",
       "      <td>3.61</td>\n",
       "      <td>Female</td>\n",
       "      <td>No</td>\n",
       "      <td>Sun</td>\n",
       "      <td>Dinner</td>\n",
       "      <td>4</td>\n",
       "    </tr>\n",
       "  </tbody>\n",
       "</table>\n",
       "</div>"
      ],
      "text/plain": [
       "   total_bill   tip     sex smoker  day    time  size\n",
       "0       16.99  1.01  Female     No  Sun  Dinner     2\n",
       "1       10.34  1.66    Male     No  Sun  Dinner     3\n",
       "2       21.01  3.50    Male     No  Sun  Dinner     3\n",
       "3       23.68  3.31    Male     No  Sun  Dinner     2\n",
       "4       24.59  3.61  Female     No  Sun  Dinner     4"
      ]
     },
     "execution_count": 42,
     "metadata": {},
     "output_type": "execute_result"
    }
   ],
   "source": [
    "dados.head()"
   ]
  },
  {
   "cell_type": "code",
   "execution_count": 43,
   "metadata": {},
   "outputs": [
    {
     "data": {
      "text/html": [
       "<div>\n",
       "<style scoped>\n",
       "    .dataframe tbody tr th:only-of-type {\n",
       "        vertical-align: middle;\n",
       "    }\n",
       "\n",
       "    .dataframe tbody tr th {\n",
       "        vertical-align: top;\n",
       "    }\n",
       "\n",
       "    .dataframe thead th {\n",
       "        text-align: right;\n",
       "    }\n",
       "</style>\n",
       "<table border=\"1\" class=\"dataframe\">\n",
       "  <thead>\n",
       "    <tr style=\"text-align: right;\">\n",
       "      <th></th>\n",
       "      <th>variavel</th>\n",
       "      <th>descricao</th>\n",
       "      <th>tipo</th>\n",
       "      <th>subtipo</th>\n",
       "    </tr>\n",
       "  </thead>\n",
       "  <tbody>\n",
       "    <tr>\n",
       "      <th>0</th>\n",
       "      <td>total_bill</td>\n",
       "      <td>Representa o valor total da conta em dólares</td>\n",
       "      <td>quantitativa</td>\n",
       "      <td>contínua</td>\n",
       "    </tr>\n",
       "    <tr>\n",
       "      <th>1</th>\n",
       "      <td>tip</td>\n",
       "      <td>Representa o valor da gorjeta em dólares</td>\n",
       "      <td>quantitativa</td>\n",
       "      <td>contínua</td>\n",
       "    </tr>\n",
       "    <tr>\n",
       "      <th>2</th>\n",
       "      <td>sex</td>\n",
       "      <td>Indica o sexo da pessoa (Masculino ou Feminino)</td>\n",
       "      <td>qualitativa</td>\n",
       "      <td>nominal</td>\n",
       "    </tr>\n",
       "    <tr>\n",
       "      <th>3</th>\n",
       "      <td>smoker</td>\n",
       "      <td>Indica se a pessoa é fumante ou não</td>\n",
       "      <td>qualitativa</td>\n",
       "      <td>nominal</td>\n",
       "    </tr>\n",
       "    <tr>\n",
       "      <th>4</th>\n",
       "      <td>day</td>\n",
       "      <td>Indica o dia da semana em que a refeição ocorreu</td>\n",
       "      <td>qualitativa</td>\n",
       "      <td>nominal</td>\n",
       "    </tr>\n",
       "    <tr>\n",
       "      <th>5</th>\n",
       "      <td>time</td>\n",
       "      <td>Indica se a refeição ocorreu no almoço ou jantar</td>\n",
       "      <td>qualitativa</td>\n",
       "      <td>nominal</td>\n",
       "    </tr>\n",
       "    <tr>\n",
       "      <th>6</th>\n",
       "      <td>size</td>\n",
       "      <td>Indica o número de pessoas no grupo</td>\n",
       "      <td>quantitativa</td>\n",
       "      <td>discreta</td>\n",
       "    </tr>\n",
       "  </tbody>\n",
       "</table>\n",
       "</div>"
      ],
      "text/plain": [
       "     variavel                                         descricao          tipo  \\\n",
       "0  total_bill      Representa o valor total da conta em dólares  quantitativa   \n",
       "1         tip          Representa o valor da gorjeta em dólares  quantitativa   \n",
       "2         sex   Indica o sexo da pessoa (Masculino ou Feminino)   qualitativa   \n",
       "3      smoker               Indica se a pessoa é fumante ou não   qualitativa   \n",
       "4         day  Indica o dia da semana em que a refeição ocorreu   qualitativa   \n",
       "5        time  Indica se a refeição ocorreu no almoço ou jantar   qualitativa   \n",
       "6        size               Indica o número de pessoas no grupo  quantitativa   \n",
       "\n",
       "    subtipo  \n",
       "0  contínua  \n",
       "1  contínua  \n",
       "2   nominal  \n",
       "3   nominal  \n",
       "4   nominal  \n",
       "5   nominal  \n",
       "6  discreta  "
      ]
     },
     "execution_count": 43,
     "metadata": {},
     "output_type": "execute_result"
    }
   ],
   "source": [
    "dados_dict.head(10)"
   ]
  },
  {
   "cell_type": "markdown",
   "metadata": {},
   "source": [
    "* Verificando estrutura:"
   ]
  },
  {
   "cell_type": "code",
   "execution_count": 44,
   "metadata": {},
   "outputs": [
    {
     "name": "stdout",
     "output_type": "stream",
     "text": [
      "<class 'pandas.core.frame.DataFrame'>\n",
      "RangeIndex: 244 entries, 0 to 243\n",
      "Data columns (total 7 columns):\n",
      " #   Column      Non-Null Count  Dtype  \n",
      "---  ------      --------------  -----  \n",
      " 0   total_bill  244 non-null    float64\n",
      " 1   tip         244 non-null    float64\n",
      " 2   sex         244 non-null    object \n",
      " 3   smoker      244 non-null    object \n",
      " 4   day         244 non-null    object \n",
      " 5   time        244 non-null    object \n",
      " 6   size        244 non-null    int64  \n",
      "dtypes: float64(2), int64(1), object(4)\n",
      "memory usage: 13.5+ KB\n"
     ]
    }
   ],
   "source": [
    "dados.info()"
   ]
  },
  {
   "cell_type": "markdown",
   "metadata": {},
   "source": [
    "Valores númericos:"
   ]
  },
  {
   "cell_type": "code",
   "execution_count": 45,
   "metadata": {},
   "outputs": [
    {
     "data": {
      "text/html": [
       "<div>\n",
       "<style scoped>\n",
       "    .dataframe tbody tr th:only-of-type {\n",
       "        vertical-align: middle;\n",
       "    }\n",
       "\n",
       "    .dataframe tbody tr th {\n",
       "        vertical-align: top;\n",
       "    }\n",
       "\n",
       "    .dataframe thead th {\n",
       "        text-align: right;\n",
       "    }\n",
       "</style>\n",
       "<table border=\"1\" class=\"dataframe\">\n",
       "  <thead>\n",
       "    <tr style=\"text-align: right;\">\n",
       "      <th></th>\n",
       "      <th>count</th>\n",
       "      <th>mean</th>\n",
       "      <th>std</th>\n",
       "      <th>min</th>\n",
       "      <th>25%</th>\n",
       "      <th>50%</th>\n",
       "      <th>75%</th>\n",
       "      <th>max</th>\n",
       "    </tr>\n",
       "  </thead>\n",
       "  <tbody>\n",
       "    <tr>\n",
       "      <th>total_bill</th>\n",
       "      <td>244.0</td>\n",
       "      <td>19.785943</td>\n",
       "      <td>8.902412</td>\n",
       "      <td>3.07</td>\n",
       "      <td>13.3475</td>\n",
       "      <td>17.795</td>\n",
       "      <td>24.1275</td>\n",
       "      <td>50.81</td>\n",
       "    </tr>\n",
       "    <tr>\n",
       "      <th>tip</th>\n",
       "      <td>244.0</td>\n",
       "      <td>2.998279</td>\n",
       "      <td>1.383638</td>\n",
       "      <td>1.00</td>\n",
       "      <td>2.0000</td>\n",
       "      <td>2.900</td>\n",
       "      <td>3.5625</td>\n",
       "      <td>10.00</td>\n",
       "    </tr>\n",
       "    <tr>\n",
       "      <th>size</th>\n",
       "      <td>244.0</td>\n",
       "      <td>2.569672</td>\n",
       "      <td>0.951100</td>\n",
       "      <td>1.00</td>\n",
       "      <td>2.0000</td>\n",
       "      <td>2.000</td>\n",
       "      <td>3.0000</td>\n",
       "      <td>6.00</td>\n",
       "    </tr>\n",
       "  </tbody>\n",
       "</table>\n",
       "</div>"
      ],
      "text/plain": [
       "            count       mean       std   min      25%     50%      75%    max\n",
       "total_bill  244.0  19.785943  8.902412  3.07  13.3475  17.795  24.1275  50.81\n",
       "tip         244.0   2.998279  1.383638  1.00   2.0000   2.900   3.5625  10.00\n",
       "size        244.0   2.569672  0.951100  1.00   2.0000   2.000   3.0000   6.00"
      ]
     },
     "execution_count": 45,
     "metadata": {},
     "output_type": "execute_result"
    }
   ],
   "source": [
    "dados.describe().T"
   ]
  },
  {
   "cell_type": "markdown",
   "metadata": {},
   "source": [
    "Valores de string:"
   ]
  },
  {
   "cell_type": "code",
   "execution_count": 46,
   "metadata": {},
   "outputs": [
    {
     "data": {
      "text/html": [
       "<div>\n",
       "<style scoped>\n",
       "    .dataframe tbody tr th:only-of-type {\n",
       "        vertical-align: middle;\n",
       "    }\n",
       "\n",
       "    .dataframe tbody tr th {\n",
       "        vertical-align: top;\n",
       "    }\n",
       "\n",
       "    .dataframe thead th {\n",
       "        text-align: right;\n",
       "    }\n",
       "</style>\n",
       "<table border=\"1\" class=\"dataframe\">\n",
       "  <thead>\n",
       "    <tr style=\"text-align: right;\">\n",
       "      <th></th>\n",
       "      <th>count</th>\n",
       "      <th>unique</th>\n",
       "      <th>top</th>\n",
       "      <th>freq</th>\n",
       "    </tr>\n",
       "  </thead>\n",
       "  <tbody>\n",
       "    <tr>\n",
       "      <th>sex</th>\n",
       "      <td>244</td>\n",
       "      <td>2</td>\n",
       "      <td>Male</td>\n",
       "      <td>157</td>\n",
       "    </tr>\n",
       "    <tr>\n",
       "      <th>smoker</th>\n",
       "      <td>244</td>\n",
       "      <td>2</td>\n",
       "      <td>No</td>\n",
       "      <td>151</td>\n",
       "    </tr>\n",
       "    <tr>\n",
       "      <th>day</th>\n",
       "      <td>244</td>\n",
       "      <td>4</td>\n",
       "      <td>Sat</td>\n",
       "      <td>87</td>\n",
       "    </tr>\n",
       "    <tr>\n",
       "      <th>time</th>\n",
       "      <td>244</td>\n",
       "      <td>2</td>\n",
       "      <td>Dinner</td>\n",
       "      <td>176</td>\n",
       "    </tr>\n",
       "  </tbody>\n",
       "</table>\n",
       "</div>"
      ],
      "text/plain": [
       "       count unique     top freq\n",
       "sex      244      2    Male  157\n",
       "smoker   244      2      No  151\n",
       "day      244      4     Sat   87\n",
       "time     244      2  Dinner  176"
      ]
     },
     "execution_count": 46,
     "metadata": {},
     "output_type": "execute_result"
    }
   ],
   "source": [
    "dados.describe(include='object').T"
   ]
  },
  {
   "cell_type": "markdown",
   "metadata": {},
   "source": [
    "## Tratamento e Transformação de dados:"
   ]
  },
  {
   "cell_type": "markdown",
   "metadata": {},
   "source": [
    "* Verificando os Valores Faltantes:"
   ]
  },
  {
   "cell_type": "code",
   "execution_count": 47,
   "metadata": {},
   "outputs": [
    {
     "name": "stdout",
     "output_type": "stream",
     "text": [
      "Não há valores nulos na tabela.\n"
     ]
    }
   ],
   "source": [
    "valores_nulos = dados.isnull().values.any()\n",
    "\n",
    "if valores_nulos:\n",
    "    print(\"Há valores nulos na tabela.\")\n",
    "else:\n",
    "    print(\"Não há valores nulos na tabela.\")"
   ]
  },
  {
   "cell_type": "code",
   "execution_count": 48,
   "metadata": {},
   "outputs": [
    {
     "name": "stdout",
     "output_type": "stream",
     "text": [
      "Verificando valores faltantes : \n",
      "\n",
      "total_bill    0\n",
      "tip           0\n",
      "sex           0\n",
      "smoker        0\n",
      "day           0\n",
      "time          0\n",
      "size          0\n",
      "dtype: int64\n"
     ]
    }
   ],
   "source": [
    "print(f'Verificando valores faltantes : \\n\\n{dados.isna().sum()}')"
   ]
  },
  {
   "cell_type": "markdown",
   "metadata": {},
   "source": [
    "Acima vemos que não há valores nulos no dataset."
   ]
  },
  {
   "cell_type": "markdown",
   "metadata": {},
   "source": [
    "* Verificando os Valores discrepantes:"
   ]
  },
  {
   "cell_type": "code",
   "execution_count": 49,
   "metadata": {},
   "outputs": [],
   "source": [
    "# Função para identificar outliers usando o IQR\n",
    "def detect_outliers_iqr(dados, column):\n",
    "    Q1 = dados[column].quantile(0.25)  # Primeiro quartil\n",
    "    Q3 = dados[column].quantile(0.75)  # Terceiro quartil\n",
    "    IQR = Q3 - Q1                     # Intervalo Interquartil\n",
    "    \n",
    "    lower_bound = Q1 - 1.5 * IQR      # Limite inferior\n",
    "    upper_bound = Q3 + 1.5 * IQR      # Limite superior\n",
    "    \n",
    "    outliers = dados[(dados[column] < lower_bound) | (dados[column] > upper_bound)]\n",
    "    return outliers"
   ]
  },
  {
   "cell_type": "code",
   "execution_count": 50,
   "metadata": {},
   "outputs": [
    {
     "name": "stdout",
     "output_type": "stream",
     "text": [
      "Outliers na coluna 'total_bill':\n",
      "     total_bill    tip     sex smoker   day    time  size\n",
      "59        48.27   6.73    Male     No   Sat  Dinner     4\n",
      "102       44.30   2.50  Female    Yes   Sat  Dinner     3\n",
      "142       41.19   5.00    Male     No  Thur   Lunch     5\n",
      "156       48.17   5.00    Male     No   Sun  Dinner     6\n",
      "170       50.81  10.00    Male    Yes   Sat  Dinner     3\n",
      "182       45.35   3.50    Male    Yes   Sun  Dinner     3\n",
      "184       40.55   3.00    Male    Yes   Sun  Dinner     2\n",
      "197       43.11   5.00  Female    Yes  Thur   Lunch     4\n",
      "212       48.33   9.00    Male     No   Sat  Dinner     4\n",
      "\n",
      "Outliers na coluna 'tip':\n",
      "     total_bill    tip     sex smoker   day    time  size\n",
      "23        39.42   7.58    Male     No   Sat  Dinner     4\n",
      "47        32.40   6.00    Male     No   Sun  Dinner     4\n",
      "59        48.27   6.73    Male     No   Sat  Dinner     4\n",
      "141       34.30   6.70    Male     No  Thur   Lunch     6\n",
      "170       50.81  10.00    Male    Yes   Sat  Dinner     3\n",
      "183       23.17   6.50    Male    Yes   Sun  Dinner     4\n",
      "212       48.33   9.00    Male     No   Sat  Dinner     4\n",
      "214       28.17   6.50  Female    Yes   Sat  Dinner     3\n",
      "239       29.03   5.92    Male     No   Sat  Dinner     3\n",
      "\n",
      "Outliers na coluna 'size':\n",
      "     total_bill   tip     sex smoker   day    time  size\n",
      "125       29.80  4.20  Female     No  Thur   Lunch     6\n",
      "141       34.30  6.70    Male     No  Thur   Lunch     6\n",
      "142       41.19  5.00    Male     No  Thur   Lunch     5\n",
      "143       27.05  5.00  Female     No  Thur   Lunch     6\n",
      "155       29.85  5.14  Female     No   Sun  Dinner     5\n",
      "156       48.17  5.00    Male     No   Sun  Dinner     6\n",
      "185       20.69  5.00    Male     No   Sun  Dinner     5\n",
      "187       30.46  2.00    Male    Yes   Sun  Dinner     5\n",
      "216       28.15  3.00    Male    Yes   Sat  Dinner     5\n",
      "\n"
     ]
    }
   ],
   "source": [
    "# Detectando outliers apenas para colunas numéricas\n",
    "for col in dados.select_dtypes(include=[np.number]).columns:  # Filtra apenas colunas numéricas\n",
    "    outliers = detect_outliers_iqr(dados, col)\n",
    "    print(f\"Outliers na coluna '{col}':\\n{outliers}\\n\")"
   ]
  },
  {
   "cell_type": "markdown",
   "metadata": {},
   "source": [
    "Acima temos uma lista com os valores discrepantes das colunas númericas."
   ]
  },
  {
   "cell_type": "markdown",
   "metadata": {},
   "source": [
    "* Estruturação de Variáveis:"
   ]
  },
  {
   "cell_type": "code",
   "execution_count": 51,
   "metadata": {},
   "outputs": [],
   "source": [
    "# Definindo a variável-alvo\n",
    "target_variable = 'tip'\n",
    "\n",
    "# Identificando variáveis inúteis (nenhuma nesse caso)\n",
    "useless_variables = (\n",
    "    dados_dict\n",
    "    .query(\"tipo == 'inútil'\")\n",
    "    .variavel\n",
    "    .to_list()\n",
    ")\n",
    "\n",
    "# Variáveis nominais (não incluímos a variável-alvo)\n",
    "nominal_variables = (\n",
    "    dados_dict\n",
    "    .query(\"subtipo == 'nominal' and variavel != @target_variable\")\n",
    "    .variavel\n",
    "    .to_list()\n",
    ")\n",
    "\n",
    "# Variáveis ordinais (nenhuma foi definida como ordinal no dicionário)\n",
    "ordinal_variables = (\n",
    "    dados_dict\n",
    "    .query(\"subtipo == 'ordinal' and variavel != @target_variable\")\n",
    "    .variavel\n",
    "    .to_list()\n",
    ")\n",
    "\n",
    "# Variáveis contínuas\n",
    "continuous_variables = (\n",
    "    dados_dict\n",
    "    .query(\"subtipo == 'contínua' and variavel != @target_variable\")\n",
    "    .variavel\n",
    "    .to_list()\n",
    ")\n",
    "\n",
    "# Variáveis discretas\n",
    "discrete_variables = (\n",
    "    dados_dict\n",
    "    .query(\"subtipo == 'discreta' and variavel != @target_variable\")\n",
    "    .variavel\n",
    "    .to_list()\n",
    ")"
   ]
  },
  {
   "cell_type": "markdown",
   "metadata": {},
   "source": [
    "* Separando X (variáveis explicativas) e y (variável-alvo):"
   ]
  },
  {
   "cell_type": "code",
   "execution_count": 52,
   "metadata": {},
   "outputs": [],
   "source": [
    "X = dados.drop(columns=[target_variable] + useless_variables)\n",
    "y = dados[target_variable]"
   ]
  },
  {
   "cell_type": "code",
   "execution_count": 53,
   "metadata": {},
   "outputs": [
    {
     "name": "stdout",
     "output_type": "stream",
     "text": [
      "Variáveis nominais: ['sex', 'smoker', 'day', 'time']\n",
      "Variáveis contínuas: ['total_bill']\n",
      "Variáveis discretas: ['size']\n",
      "\n",
      "X (features):\n",
      "      total_bill     sex smoker   day    time  size\n",
      "0         16.99  Female     No   Sun  Dinner     2\n",
      "1         10.34    Male     No   Sun  Dinner     3\n",
      "2         21.01    Male     No   Sun  Dinner     3\n",
      "3         23.68    Male     No   Sun  Dinner     2\n",
      "4         24.59  Female     No   Sun  Dinner     4\n",
      "..          ...     ...    ...   ...     ...   ...\n",
      "239       29.03    Male     No   Sat  Dinner     3\n",
      "240       27.18  Female    Yes   Sat  Dinner     2\n",
      "241       22.67    Male    Yes   Sat  Dinner     2\n",
      "242       17.82    Male     No   Sat  Dinner     2\n",
      "243       18.78  Female     No  Thur  Dinner     2\n",
      "\n",
      "[244 rows x 6 columns]\n",
      "\n",
      "y (target):\n",
      " 0      1.01\n",
      "1      1.66\n",
      "2      3.50\n",
      "3      3.31\n",
      "4      3.61\n",
      "       ... \n",
      "239    5.92\n",
      "240    2.00\n",
      "241    2.00\n",
      "242    1.75\n",
      "243    3.00\n",
      "Name: tip, Length: 244, dtype: float64\n"
     ]
    }
   ],
   "source": [
    "print(\"Variáveis nominais:\", nominal_variables)\n",
    "print(\"Variáveis contínuas:\", continuous_variables)\n",
    "print(\"Variáveis discretas:\", discrete_variables)\n",
    "print(\"\\nX (features):\\n\", X)\n",
    "print(\"\\ny (target):\\n\", y)"
   ]
  },
  {
   "cell_type": "markdown",
   "metadata": {},
   "source": [
    "O código acima organiza e prepara os dados de forma sistemática para análise ou modelagem. Ele facilita a aplicação de diferentes técnicas a cada tipo de variável, como codificação (para nominais) ou normalização (para contínuas)"
   ]
  },
  {
   "cell_type": "markdown",
   "metadata": {},
   "source": [
    "* Pipelines de pré-processamento por tipo de variável:"
   ]
  },
  {
   "cell_type": "code",
   "execution_count": 54,
   "metadata": {},
   "outputs": [],
   "source": [
    "\n",
    "nominal_preprocessor = Pipeline(steps=[\n",
    "    (\"missing\", SimpleImputer(strategy='most_frequent')),  # Substituir valores faltantes pela moda\n",
    "    (\"encoding\", OneHotEncoder(sparse_output=False)),  # Codificação one-hot\n",
    "])\n",
    "\n",
    "continuous_preprocessor = Pipeline(steps=[\n",
    "    (\"missing\", SimpleImputer(strategy='mean')),  # Substituir valores faltantes pela média\n",
    "    (\"normalization\", StandardScaler()),  # Normalização (média = 0, desvio padrão = 1)\n",
    "])\n",
    "\n",
    "discrete_preprocessor = Pipeline(steps=[\n",
    "    (\"missing\", KNNImputer()),  # Substituir valores faltantes com base nos vizinhos mais próximos\n",
    "    (\"normalization\", StandardScaler()),  # Normalização\n",
    "])\n"
   ]
  },
  {
   "cell_type": "markdown",
   "metadata": {},
   "source": [
    "Esse código acima organiza pipelines para pré-processar variáveis diferentes (nominais, ordinais, contínuas e discretas). Cada tipo de variável tem necessidades específicas, como tratamento de valores faltantes ou codificação."
   ]
  },
  {
   "cell_type": "markdown",
   "metadata": {},
   "source": [
    "* Selecionando variáveis com base no dados_dict:"
   ]
  },
  {
   "cell_type": "code",
   "execution_count": 55,
   "metadata": {},
   "outputs": [],
   "source": [
    "# Criando o transformador por tipo de variável\n",
    "preprocessor = ColumnTransformer(transformers=[\n",
    "    (\"nominal\", nominal_preprocessor, nominal_variables),\n",
    "    (\"continuous\", continuous_preprocessor, continuous_variables),\n",
    "    (\"discrete\", discrete_preprocessor, discrete_variables),\n",
    "])"
   ]
  },
  {
   "cell_type": "markdown",
   "metadata": {},
   "source": [
    "As variáveis nominais, contínuas e discretas são extraídas do dicionário de dados com base no subtipo. Isso assegura que cada tipo de dado seja tratado com o pipeline apropriado."
   ]
  },
  {
   "cell_type": "markdown",
   "metadata": {},
   "source": [
    "*  Aplicando o preprocessor aos dados:"
   ]
  },
  {
   "cell_type": "code",
   "execution_count": 56,
   "metadata": {},
   "outputs": [],
   "source": [
    "X_preprocessed = preprocessor.fit_transform(X)"
   ]
  },
  {
   "cell_type": "markdown",
   "metadata": {},
   "source": [
    "Acima Treina o pipeline no dataset (fit) e transforma os dados (transform) de acordo com os passos definidos."
   ]
  },
  {
   "cell_type": "code",
   "execution_count": 57,
   "metadata": {},
   "outputs": [
    {
     "name": "stdout",
     "output_type": "stream",
     "text": [
      "Dados pré-processados:\n",
      "[[ 1.          0.          1.         ...  0.         -0.31471131\n",
      "  -0.60019263]\n",
      " [ 0.          1.          1.         ...  0.         -1.06323531\n",
      "   0.45338292]\n",
      " [ 0.          1.          1.         ...  0.          0.1377799\n",
      "   0.45338292]\n",
      " ...\n",
      " [ 0.          1.          0.         ...  0.          0.3246295\n",
      "  -0.60019263]\n",
      " [ 0.          1.          1.         ...  0.         -0.2212865\n",
      "  -0.60019263]\n",
      " [ 1.          0.          1.         ...  0.         -0.1132289\n",
      "  -0.60019263]]\n"
     ]
    }
   ],
   "source": [
    "print(\"Dados pré-processados:\")\n",
    "print(X_preprocessed)"
   ]
  },
  {
   "cell_type": "markdown",
   "metadata": {},
   "source": [
    "Acima estão os resultados dos passos anteriores."
   ]
  },
  {
   "cell_type": "markdown",
   "metadata": {},
   "source": [
    "## Análise Comparativa de Modelos"
   ]
  },
  {
   "cell_type": "markdown",
   "metadata": {},
   "source": [
    "### **Modelo 1 : Regressão**"
   ]
  },
  {
   "cell_type": "markdown",
   "metadata": {},
   "source": [
    "*  ### Divisão de treino e teste:"
   ]
  },
  {
   "cell_type": "code",
   "execution_count": 65,
   "metadata": {},
   "outputs": [],
   "source": [
    "X_train, X_test, y_train, y_test = train_test_split(X, y, test_size=0.2, random_state=42)"
   ]
  },
  {
   "cell_type": "code",
   "execution_count": 21,
   "metadata": {},
   "outputs": [],
   "source": [
    "pipeline = Pipeline(steps=[\n",
    "    (\"preprocessor\", preprocessor),\n",
    "    (\"model\", LinearRegression()),\n",
    "])"
   ]
  },
  {
   "cell_type": "code",
   "execution_count": 22,
   "metadata": {},
   "outputs": [
    {
     "data": {
      "text/html": [
       "<style>#sk-container-id-1 {color: black;background-color: white;}#sk-container-id-1 pre{padding: 0;}#sk-container-id-1 div.sk-toggleable {background-color: white;}#sk-container-id-1 label.sk-toggleable__label {cursor: pointer;display: block;width: 100%;margin-bottom: 0;padding: 0.3em;box-sizing: border-box;text-align: center;}#sk-container-id-1 label.sk-toggleable__label-arrow:before {content: \"▸\";float: left;margin-right: 0.25em;color: #696969;}#sk-container-id-1 label.sk-toggleable__label-arrow:hover:before {color: black;}#sk-container-id-1 div.sk-estimator:hover label.sk-toggleable__label-arrow:before {color: black;}#sk-container-id-1 div.sk-toggleable__content {max-height: 0;max-width: 0;overflow: hidden;text-align: left;background-color: #f0f8ff;}#sk-container-id-1 div.sk-toggleable__content pre {margin: 0.2em;color: black;border-radius: 0.25em;background-color: #f0f8ff;}#sk-container-id-1 input.sk-toggleable__control:checked~div.sk-toggleable__content {max-height: 200px;max-width: 100%;overflow: auto;}#sk-container-id-1 input.sk-toggleable__control:checked~label.sk-toggleable__label-arrow:before {content: \"▾\";}#sk-container-id-1 div.sk-estimator input.sk-toggleable__control:checked~label.sk-toggleable__label {background-color: #d4ebff;}#sk-container-id-1 div.sk-label input.sk-toggleable__control:checked~label.sk-toggleable__label {background-color: #d4ebff;}#sk-container-id-1 input.sk-hidden--visually {border: 0;clip: rect(1px 1px 1px 1px);clip: rect(1px, 1px, 1px, 1px);height: 1px;margin: -1px;overflow: hidden;padding: 0;position: absolute;width: 1px;}#sk-container-id-1 div.sk-estimator {font-family: monospace;background-color: #f0f8ff;border: 1px dotted black;border-radius: 0.25em;box-sizing: border-box;margin-bottom: 0.5em;}#sk-container-id-1 div.sk-estimator:hover {background-color: #d4ebff;}#sk-container-id-1 div.sk-parallel-item::after {content: \"\";width: 100%;border-bottom: 1px solid gray;flex-grow: 1;}#sk-container-id-1 div.sk-label:hover label.sk-toggleable__label {background-color: #d4ebff;}#sk-container-id-1 div.sk-serial::before {content: \"\";position: absolute;border-left: 1px solid gray;box-sizing: border-box;top: 0;bottom: 0;left: 50%;z-index: 0;}#sk-container-id-1 div.sk-serial {display: flex;flex-direction: column;align-items: center;background-color: white;padding-right: 0.2em;padding-left: 0.2em;position: relative;}#sk-container-id-1 div.sk-item {position: relative;z-index: 1;}#sk-container-id-1 div.sk-parallel {display: flex;align-items: stretch;justify-content: center;background-color: white;position: relative;}#sk-container-id-1 div.sk-item::before, #sk-container-id-1 div.sk-parallel-item::before {content: \"\";position: absolute;border-left: 1px solid gray;box-sizing: border-box;top: 0;bottom: 0;left: 50%;z-index: -1;}#sk-container-id-1 div.sk-parallel-item {display: flex;flex-direction: column;z-index: 1;position: relative;background-color: white;}#sk-container-id-1 div.sk-parallel-item:first-child::after {align-self: flex-end;width: 50%;}#sk-container-id-1 div.sk-parallel-item:last-child::after {align-self: flex-start;width: 50%;}#sk-container-id-1 div.sk-parallel-item:only-child::after {width: 0;}#sk-container-id-1 div.sk-dashed-wrapped {border: 1px dashed gray;margin: 0 0.4em 0.5em 0.4em;box-sizing: border-box;padding-bottom: 0.4em;background-color: white;}#sk-container-id-1 div.sk-label label {font-family: monospace;font-weight: bold;display: inline-block;line-height: 1.2em;}#sk-container-id-1 div.sk-label-container {text-align: center;}#sk-container-id-1 div.sk-container {/* jupyter's `normalize.less` sets `[hidden] { display: none; }` but bootstrap.min.css set `[hidden] { display: none !important; }` so we also need the `!important` here to be able to override the default hidden behavior on the sphinx rendered scikit-learn.org. See: https://github.com/scikit-learn/scikit-learn/issues/21755 */display: inline-block !important;position: relative;}#sk-container-id-1 div.sk-text-repr-fallback {display: none;}</style><div id=\"sk-container-id-1\" class=\"sk-top-container\"><div class=\"sk-text-repr-fallback\"><pre>Pipeline(steps=[(&#x27;preprocessor&#x27;,\n",
       "                 ColumnTransformer(transformers=[(&#x27;nominal&#x27;,\n",
       "                                                  Pipeline(steps=[(&#x27;missing&#x27;,\n",
       "                                                                   SimpleImputer(strategy=&#x27;most_frequent&#x27;)),\n",
       "                                                                  (&#x27;encoding&#x27;,\n",
       "                                                                   OneHotEncoder(sparse_output=False))]),\n",
       "                                                  [&#x27;sex&#x27;, &#x27;smoker&#x27;, &#x27;day&#x27;,\n",
       "                                                   &#x27;time&#x27;]),\n",
       "                                                 (&#x27;continuous&#x27;,\n",
       "                                                  Pipeline(steps=[(&#x27;missing&#x27;,\n",
       "                                                                   SimpleImputer()),\n",
       "                                                                  (&#x27;normalization&#x27;,\n",
       "                                                                   StandardScaler())]),\n",
       "                                                  [&#x27;total_bill&#x27;]),\n",
       "                                                 (&#x27;discrete&#x27;,\n",
       "                                                  Pipeline(steps=[(&#x27;missing&#x27;,\n",
       "                                                                   KNNImputer()),\n",
       "                                                                  (&#x27;normalization&#x27;,\n",
       "                                                                   StandardScaler())]),\n",
       "                                                  [&#x27;size&#x27;])])),\n",
       "                (&#x27;model&#x27;, LinearRegression())])</pre><b>In a Jupyter environment, please rerun this cell to show the HTML representation or trust the notebook. <br />On GitHub, the HTML representation is unable to render, please try loading this page with nbviewer.org.</b></div><div class=\"sk-container\" hidden><div class=\"sk-item sk-dashed-wrapped\"><div class=\"sk-label-container\"><div class=\"sk-label sk-toggleable\"><input class=\"sk-toggleable__control sk-hidden--visually\" id=\"sk-estimator-id-1\" type=\"checkbox\" ><label for=\"sk-estimator-id-1\" class=\"sk-toggleable__label sk-toggleable__label-arrow\">Pipeline</label><div class=\"sk-toggleable__content\"><pre>Pipeline(steps=[(&#x27;preprocessor&#x27;,\n",
       "                 ColumnTransformer(transformers=[(&#x27;nominal&#x27;,\n",
       "                                                  Pipeline(steps=[(&#x27;missing&#x27;,\n",
       "                                                                   SimpleImputer(strategy=&#x27;most_frequent&#x27;)),\n",
       "                                                                  (&#x27;encoding&#x27;,\n",
       "                                                                   OneHotEncoder(sparse_output=False))]),\n",
       "                                                  [&#x27;sex&#x27;, &#x27;smoker&#x27;, &#x27;day&#x27;,\n",
       "                                                   &#x27;time&#x27;]),\n",
       "                                                 (&#x27;continuous&#x27;,\n",
       "                                                  Pipeline(steps=[(&#x27;missing&#x27;,\n",
       "                                                                   SimpleImputer()),\n",
       "                                                                  (&#x27;normalization&#x27;,\n",
       "                                                                   StandardScaler())]),\n",
       "                                                  [&#x27;total_bill&#x27;]),\n",
       "                                                 (&#x27;discrete&#x27;,\n",
       "                                                  Pipeline(steps=[(&#x27;missing&#x27;,\n",
       "                                                                   KNNImputer()),\n",
       "                                                                  (&#x27;normalization&#x27;,\n",
       "                                                                   StandardScaler())]),\n",
       "                                                  [&#x27;size&#x27;])])),\n",
       "                (&#x27;model&#x27;, LinearRegression())])</pre></div></div></div><div class=\"sk-serial\"><div class=\"sk-item sk-dashed-wrapped\"><div class=\"sk-label-container\"><div class=\"sk-label sk-toggleable\"><input class=\"sk-toggleable__control sk-hidden--visually\" id=\"sk-estimator-id-2\" type=\"checkbox\" ><label for=\"sk-estimator-id-2\" class=\"sk-toggleable__label sk-toggleable__label-arrow\">preprocessor: ColumnTransformer</label><div class=\"sk-toggleable__content\"><pre>ColumnTransformer(transformers=[(&#x27;nominal&#x27;,\n",
       "                                 Pipeline(steps=[(&#x27;missing&#x27;,\n",
       "                                                  SimpleImputer(strategy=&#x27;most_frequent&#x27;)),\n",
       "                                                 (&#x27;encoding&#x27;,\n",
       "                                                  OneHotEncoder(sparse_output=False))]),\n",
       "                                 [&#x27;sex&#x27;, &#x27;smoker&#x27;, &#x27;day&#x27;, &#x27;time&#x27;]),\n",
       "                                (&#x27;continuous&#x27;,\n",
       "                                 Pipeline(steps=[(&#x27;missing&#x27;, SimpleImputer()),\n",
       "                                                 (&#x27;normalization&#x27;,\n",
       "                                                  StandardScaler())]),\n",
       "                                 [&#x27;total_bill&#x27;]),\n",
       "                                (&#x27;discrete&#x27;,\n",
       "                                 Pipeline(steps=[(&#x27;missing&#x27;, KNNImputer()),\n",
       "                                                 (&#x27;normalization&#x27;,\n",
       "                                                  StandardScaler())]),\n",
       "                                 [&#x27;size&#x27;])])</pre></div></div></div><div class=\"sk-parallel\"><div class=\"sk-parallel-item\"><div class=\"sk-item\"><div class=\"sk-label-container\"><div class=\"sk-label sk-toggleable\"><input class=\"sk-toggleable__control sk-hidden--visually\" id=\"sk-estimator-id-3\" type=\"checkbox\" ><label for=\"sk-estimator-id-3\" class=\"sk-toggleable__label sk-toggleable__label-arrow\">nominal</label><div class=\"sk-toggleable__content\"><pre>[&#x27;sex&#x27;, &#x27;smoker&#x27;, &#x27;day&#x27;, &#x27;time&#x27;]</pre></div></div></div><div class=\"sk-serial\"><div class=\"sk-item\"><div class=\"sk-serial\"><div class=\"sk-item\"><div class=\"sk-estimator sk-toggleable\"><input class=\"sk-toggleable__control sk-hidden--visually\" id=\"sk-estimator-id-4\" type=\"checkbox\" ><label for=\"sk-estimator-id-4\" class=\"sk-toggleable__label sk-toggleable__label-arrow\">SimpleImputer</label><div class=\"sk-toggleable__content\"><pre>SimpleImputer(strategy=&#x27;most_frequent&#x27;)</pre></div></div></div><div class=\"sk-item\"><div class=\"sk-estimator sk-toggleable\"><input class=\"sk-toggleable__control sk-hidden--visually\" id=\"sk-estimator-id-5\" type=\"checkbox\" ><label for=\"sk-estimator-id-5\" class=\"sk-toggleable__label sk-toggleable__label-arrow\">OneHotEncoder</label><div class=\"sk-toggleable__content\"><pre>OneHotEncoder(sparse_output=False)</pre></div></div></div></div></div></div></div></div><div class=\"sk-parallel-item\"><div class=\"sk-item\"><div class=\"sk-label-container\"><div class=\"sk-label sk-toggleable\"><input class=\"sk-toggleable__control sk-hidden--visually\" id=\"sk-estimator-id-6\" type=\"checkbox\" ><label for=\"sk-estimator-id-6\" class=\"sk-toggleable__label sk-toggleable__label-arrow\">continuous</label><div class=\"sk-toggleable__content\"><pre>[&#x27;total_bill&#x27;]</pre></div></div></div><div class=\"sk-serial\"><div class=\"sk-item\"><div class=\"sk-serial\"><div class=\"sk-item\"><div class=\"sk-estimator sk-toggleable\"><input class=\"sk-toggleable__control sk-hidden--visually\" id=\"sk-estimator-id-7\" type=\"checkbox\" ><label for=\"sk-estimator-id-7\" class=\"sk-toggleable__label sk-toggleable__label-arrow\">SimpleImputer</label><div class=\"sk-toggleable__content\"><pre>SimpleImputer()</pre></div></div></div><div class=\"sk-item\"><div class=\"sk-estimator sk-toggleable\"><input class=\"sk-toggleable__control sk-hidden--visually\" id=\"sk-estimator-id-8\" type=\"checkbox\" ><label for=\"sk-estimator-id-8\" class=\"sk-toggleable__label sk-toggleable__label-arrow\">StandardScaler</label><div class=\"sk-toggleable__content\"><pre>StandardScaler()</pre></div></div></div></div></div></div></div></div><div class=\"sk-parallel-item\"><div class=\"sk-item\"><div class=\"sk-label-container\"><div class=\"sk-label sk-toggleable\"><input class=\"sk-toggleable__control sk-hidden--visually\" id=\"sk-estimator-id-9\" type=\"checkbox\" ><label for=\"sk-estimator-id-9\" class=\"sk-toggleable__label sk-toggleable__label-arrow\">discrete</label><div class=\"sk-toggleable__content\"><pre>[&#x27;size&#x27;]</pre></div></div></div><div class=\"sk-serial\"><div class=\"sk-item\"><div class=\"sk-serial\"><div class=\"sk-item\"><div class=\"sk-estimator sk-toggleable\"><input class=\"sk-toggleable__control sk-hidden--visually\" id=\"sk-estimator-id-10\" type=\"checkbox\" ><label for=\"sk-estimator-id-10\" class=\"sk-toggleable__label sk-toggleable__label-arrow\">KNNImputer</label><div class=\"sk-toggleable__content\"><pre>KNNImputer()</pre></div></div></div><div class=\"sk-item\"><div class=\"sk-estimator sk-toggleable\"><input class=\"sk-toggleable__control sk-hidden--visually\" id=\"sk-estimator-id-11\" type=\"checkbox\" ><label for=\"sk-estimator-id-11\" class=\"sk-toggleable__label sk-toggleable__label-arrow\">StandardScaler</label><div class=\"sk-toggleable__content\"><pre>StandardScaler()</pre></div></div></div></div></div></div></div></div></div></div><div class=\"sk-item\"><div class=\"sk-estimator sk-toggleable\"><input class=\"sk-toggleable__control sk-hidden--visually\" id=\"sk-estimator-id-12\" type=\"checkbox\" ><label for=\"sk-estimator-id-12\" class=\"sk-toggleable__label sk-toggleable__label-arrow\">LinearRegression</label><div class=\"sk-toggleable__content\"><pre>LinearRegression()</pre></div></div></div></div></div></div></div>"
      ],
      "text/plain": [
       "Pipeline(steps=[('preprocessor',\n",
       "                 ColumnTransformer(transformers=[('nominal',\n",
       "                                                  Pipeline(steps=[('missing',\n",
       "                                                                   SimpleImputer(strategy='most_frequent')),\n",
       "                                                                  ('encoding',\n",
       "                                                                   OneHotEncoder(sparse_output=False))]),\n",
       "                                                  ['sex', 'smoker', 'day',\n",
       "                                                   'time']),\n",
       "                                                 ('continuous',\n",
       "                                                  Pipeline(steps=[('missing',\n",
       "                                                                   SimpleImputer()),\n",
       "                                                                  ('normalization',\n",
       "                                                                   StandardScaler())]),\n",
       "                                                  ['total_bill']),\n",
       "                                                 ('discrete',\n",
       "                                                  Pipeline(steps=[('missing',\n",
       "                                                                   KNNImputer()),\n",
       "                                                                  ('normalization',\n",
       "                                                                   StandardScaler())]),\n",
       "                                                  ['size'])])),\n",
       "                ('model', LinearRegression())])"
      ]
     },
     "execution_count": 22,
     "metadata": {},
     "output_type": "execute_result"
    }
   ],
   "source": [
    "# Ajustar o pipeline\n",
    "pipeline.fit(X_train, y_train)"
   ]
  },
  {
   "cell_type": "markdown",
   "metadata": {},
   "source": [
    "* ### Avaliar o modelo no conjunto de teste:"
   ]
  },
  {
   "cell_type": "code",
   "execution_count": 23,
   "metadata": {},
   "outputs": [],
   "source": [
    "# Fazer previsões no conjunto de teste\n",
    "y_pred = pipeline.predict(X_test)"
   ]
  },
  {
   "cell_type": "code",
   "execution_count": 24,
   "metadata": {},
   "outputs": [],
   "source": [
    "mae = mean_absolute_error(y_test, y_pred)\n",
    "mse = mean_squared_error(y_test, y_pred)\n",
    "r2 = r2_score(y_test, y_pred)"
   ]
  },
  {
   "cell_type": "code",
   "execution_count": 25,
   "metadata": {},
   "outputs": [
    {
     "name": "stdout",
     "output_type": "stream",
     "text": [
      "Mean Absolute Error (MAE): 0.6671331480264893\n",
      "Mean Squared Error (MSE): 0.7033566017436103\n",
      "R² Score: 0.43730181943482516\n"
     ]
    }
   ],
   "source": [
    "print(\"Mean Absolute Error (MAE):\", mae)\n",
    "print(\"Mean Squared Error (MSE):\", mse)\n",
    "print(\"R² Score:\", r2)"
   ]
  },
  {
   "cell_type": "markdown",
   "metadata": {},
   "source": [
    "**Mean Absolute Error (MAE): 0.667** :\n",
    "Isso significa que, em média, o modelo erra as previsões em 0.667 unidades (provavelmente na mesma escala que os valores reais, como gorjetas). Um MAE menor é sempre melhor."
   ]
  },
  {
   "cell_type": "markdown",
   "metadata": {},
   "source": [
    "**Mean Squared Error (MSE): 0.703**:\n",
    "Assim como o MAE, mede o erro médio, mas penaliza erros maiores devido ao quadrado das diferenças. É útil para encontrar grandes discrepâncias, mas menos intuitivo que o MAE. Não parece haver erros extremamente altos nas previsões."
   ]
  },
  {
   "cell_type": "markdown",
   "metadata": {},
   "source": [
    "**R² Score: 0.437**:\n",
    "O R² mede quanto da variabilidade nos dados é explicada pelo modelo. Um valor de 0.437 indica que o modelo explica 43,7% da variância nos dados. O modelo explica menos da metade da variância, o que sugere que pode haver espaço para melhorias (dados adicionais ou modelos mais complexos podem ajudar).\n",
    "\n"
   ]
  },
  {
   "cell_type": "markdown",
   "metadata": {},
   "source": [
    "*  ### Analisar os coeficientes do modelo:"
   ]
  },
  {
   "cell_type": "markdown",
   "metadata": {},
   "source": [
    " os coeficientes podem ser analisados para entender a relação entre as variáveis independentes e a variável dependente."
   ]
  },
  {
   "cell_type": "code",
   "execution_count": 26,
   "metadata": {},
   "outputs": [],
   "source": [
    "# Obter os nomes das colunas após o pré-processamento\n",
    "preprocessor = pipeline.named_steps[\"preprocessor\"]\n",
    "processed_features = preprocessor.get_feature_names_out()"
   ]
  },
  {
   "cell_type": "code",
   "execution_count": 27,
   "metadata": {},
   "outputs": [],
   "source": [
    "# Obter os coeficientes da regressão linear\n",
    "model = pipeline.named_steps[\"model\"]\n",
    "coefs = model.coef_\n",
    "features = X_train.columns"
   ]
  },
  {
   "cell_type": "code",
   "execution_count": 28,
   "metadata": {},
   "outputs": [
    {
     "name": "stdout",
     "output_type": "stream",
     "text": [
      "                   Feature  Coefficient\n",
      "10  continuous__total_bill     0.828432\n",
      "11          discrete__size     0.219073\n",
      "4         nominal__day_Fri     0.104075\n",
      "2       nominal__smoker_No     0.096177\n",
      "6         nominal__day_Sun     0.053282\n",
      "9      nominal__time_Lunch     0.047479\n",
      "1        nominal__sex_Male     0.014410\n",
      "0      nominal__sex_Female    -0.014410\n",
      "8     nominal__time_Dinner    -0.047479\n",
      "7        nominal__day_Thur    -0.075646\n",
      "5         nominal__day_Sat    -0.081710\n",
      "3      nominal__smoker_Yes    -0.096177\n"
     ]
    }
   ],
   "source": [
    "# Criar o DataFrame com os coeficientes e as features\n",
    "coef_df = pd.DataFrame({\"Feature\": processed_features, \"Coefficient\": coefs})\n",
    "print(coef_df.sort_values(by=\"Coefficient\", ascending=False))"
   ]
  },
  {
   "cell_type": "markdown",
   "metadata": {},
   "source": [
    "Os coeficientes mostram como cada feature influencia a variável alvo (dentro da escala dos dados). Vamos analisar os maiores impactos:"
   ]
  },
  {
   "cell_type": "markdown",
   "metadata": {},
   "source": [
    "**Positivos relevantes**:\n",
    "1. **continuous__total_bill (0.828)**: Essa variável tem a maior influência positiva, o que sugere que, à medida que a conta aumenta, a gorjeta também aumenta proporcionalmente.\n",
    "2. **discrete__size (0.219)**: Tamanho da mesa também tem um impacto positivo, mas menor.\n"
   ]
  },
  {
   "cell_type": "markdown",
   "metadata": {},
   "source": [
    "**Negativos relevantes**:\n",
    "1. **nominal__smoker_Yes (-0.096)**: Fumantes tendem a dar gorjetas menores.\n",
    "2. **nominal__day_Sat (-0.082)**: Aos sábados, as gorjetas são ligeiramente menores."
   ]
  },
  {
   "cell_type": "markdown",
   "metadata": {},
   "source": [
    "As variáveis total_bill e size são as mais impactantes para prever gorjetas. Algumas variáveis categóricas, como o dia da semana ou se a pessoa fuma, têm menos influência. Se os resultados fazem sentido no contexto, o modelo parece capturar relações razoáveis."
   ]
  },
  {
   "cell_type": "markdown",
   "metadata": {},
   "source": [
    "* ### Validar o modelo com validação cruzada:"
   ]
  },
  {
   "cell_type": "code",
   "execution_count": 29,
   "metadata": {},
   "outputs": [
    {
     "name": "stdout",
     "output_type": "stream",
     "text": [
      "Cross-Validation R² Scores: [0.52819606 0.59245311 0.40773384 0.20031853 0.37848938]\n",
      "Mean R² Score: 0.4214381833780753\n"
     ]
    }
   ],
   "source": [
    "# Realizar validação cruzada\n",
    "cv_scores = cross_val_score(pipeline, X, y, cv=5, scoring=\"r2\")\n",
    "print(\"Cross-Validation R² Scores:\", cv_scores)\n",
    "print(\"Mean R² Score:\", cv_scores.mean())"
   ]
  },
  {
   "cell_type": "markdown",
   "metadata": {},
   "source": [
    "**Cross-Validation R² Scores: Variam de 0.200 a 0.592** -> \n",
    "Isso indica que o modelo tem desempenho inconsistente dependendo da divisão dos dados. A média de 0.421 confirma o desempenho moderado do modelo. Pode ser útil tentar outro modelo (como Random Forest ou Gradient Boosting) para melhorar a estabilidade e a explicação da variância"
   ]
  },
  {
   "cell_type": "markdown",
   "metadata": {},
   "source": [
    "* ### Fazer previsões em novos dados:"
   ]
  },
  {
   "cell_type": "code",
   "execution_count": 30,
   "metadata": {},
   "outputs": [],
   "source": [
    "# Exemplo de novos dados para previsão\n",
    "new_data = pd.DataFrame({\n",
    "    \"total_bill\": [20.53, 35.45],\n",
    "    \"sex\": [\"Male\", \"Female\"],\n",
    "    \"smoker\": [\"No\", \"Yes\"],\n",
    "    \"day\": [\"Fri\", \"Sat\"],\n",
    "    \"time\": [\"Dinner\", \"Lunch\"],\n",
    "    \"size\": [2, 4]\n",
    "})"
   ]
  },
  {
   "cell_type": "code",
   "execution_count": 31,
   "metadata": {},
   "outputs": [
    {
     "name": "stdout",
     "output_type": "stream",
     "text": [
      "Predicted Tips: [3.16738843 4.73527568]\n"
     ]
    }
   ],
   "source": [
    "# Aplicar as transformações e prever\n",
    "predictions = pipeline.predict(new_data)\n",
    "print(\"Predicted Tips:\", predictions)"
   ]
  },
  {
   "cell_type": "markdown",
   "metadata": {},
   "source": [
    "**Predicted Tips: [3.167, 4.735]**:\n",
    "Essas previsões são valores plausíveis, mas, novamente, a precisão vai depender de quão bem o modelo generaliza para novos exemplos."
   ]
  },
  {
   "cell_type": "markdown",
   "metadata": {},
   "source": [
    "* ### Salvar o Modelo Treinado:"
   ]
  },
  {
   "cell_type": "code",
   "execution_count": 32,
   "metadata": {},
   "outputs": [
    {
     "data": {
      "text/plain": [
       "['pipeline_model.pkl']"
      ]
     },
     "execution_count": 32,
     "metadata": {},
     "output_type": "execute_result"
    }
   ],
   "source": [
    "# Salvar o pipeline treinado\n",
    "joblib.dump(pipeline, \"pipeline_model.pkl\")"
   ]
  },
  {
   "cell_type": "code",
   "execution_count": 33,
   "metadata": {},
   "outputs": [],
   "source": [
    "# Carregar o pipeline salvo\n",
    "loaded_pipeline = joblib.load(\"pipeline_model.pkl\")"
   ]
  },
  {
   "cell_type": "markdown",
   "metadata": {},
   "source": [
    "### **Modelo2: Classificação**"
   ]
  },
  {
   "cell_type": "code",
   "execution_count": 66,
   "metadata": {},
   "outputs": [
    {
     "name": "stdout",
     "output_type": "stream",
     "text": [
      "Categorias geradas: ['Muito Baixa', 'Alta', 'Muito Alta', 'Baixa']\n",
      "Categories (4, object): ['Muito Baixa' < 'Baixa' < 'Alta' < 'Muito Alta']\n"
     ]
    }
   ],
   "source": [
    "# Divida y em quartis (4 categorias)\n",
    "y_categorical = pd.qcut(y, q=4, labels=[\"Muito Baixa\", \"Baixa\", \"Alta\", \"Muito Alta\"])\n",
    "print(\"Categorias geradas:\", y_categorical.unique())"
   ]
  },
  {
   "cell_type": "code",
   "execution_count": 69,
   "metadata": {},
   "outputs": [
    {
     "name": "stdout",
     "output_type": "stream",
     "text": [
      "Tamanho de y_categorical: 244\n"
     ]
    }
   ],
   "source": [
    "y_categorical = pd.qcut(y, q=4, labels=[\"Muito Baixa\", \"Baixa\", \"Alta\", \"Muito Alta\"])\n",
    "\n",
    "# Verifique o tamanho de y_categorical\n",
    "print(\"Tamanho de y_categorical:\", len(y_categorical))\n"
   ]
  },
  {
   "cell_type": "code",
   "execution_count": 70,
   "metadata": {},
   "outputs": [],
   "source": [
    "# Agora, divida os dados em treino e teste\n",
    "X_train, X_test, y_train, y_test = train_test_split(X, y_categorical, test_size=0.2, random_state=42)"
   ]
  },
  {
   "cell_type": "code",
   "execution_count": 71,
   "metadata": {},
   "outputs": [
    {
     "name": "stdout",
     "output_type": "stream",
     "text": [
      "Tamanho de X_train: 195\n",
      "Tamanho de y_train: 195\n"
     ]
    }
   ],
   "source": [
    "# Verifique os tamanhos após a divisão\n",
    "print(\"Tamanho de X_train:\", X_train.shape[0])\n",
    "print(\"Tamanho de y_train:\", len(y_train))"
   ]
  },
  {
   "cell_type": "code",
   "execution_count": 72,
   "metadata": {},
   "outputs": [],
   "source": [
    "pipeline1 = Pipeline(steps=[\n",
    "    (\"preprocessor\", preprocessor),\n",
    "    (\"model\", LogisticRegression()),\n",
    "])"
   ]
  },
  {
   "cell_type": "code",
   "execution_count": 73,
   "metadata": {},
   "outputs": [
    {
     "data": {
      "text/html": [
       "<style>#sk-container-id-2 {color: black;background-color: white;}#sk-container-id-2 pre{padding: 0;}#sk-container-id-2 div.sk-toggleable {background-color: white;}#sk-container-id-2 label.sk-toggleable__label {cursor: pointer;display: block;width: 100%;margin-bottom: 0;padding: 0.3em;box-sizing: border-box;text-align: center;}#sk-container-id-2 label.sk-toggleable__label-arrow:before {content: \"▸\";float: left;margin-right: 0.25em;color: #696969;}#sk-container-id-2 label.sk-toggleable__label-arrow:hover:before {color: black;}#sk-container-id-2 div.sk-estimator:hover label.sk-toggleable__label-arrow:before {color: black;}#sk-container-id-2 div.sk-toggleable__content {max-height: 0;max-width: 0;overflow: hidden;text-align: left;background-color: #f0f8ff;}#sk-container-id-2 div.sk-toggleable__content pre {margin: 0.2em;color: black;border-radius: 0.25em;background-color: #f0f8ff;}#sk-container-id-2 input.sk-toggleable__control:checked~div.sk-toggleable__content {max-height: 200px;max-width: 100%;overflow: auto;}#sk-container-id-2 input.sk-toggleable__control:checked~label.sk-toggleable__label-arrow:before {content: \"▾\";}#sk-container-id-2 div.sk-estimator input.sk-toggleable__control:checked~label.sk-toggleable__label {background-color: #d4ebff;}#sk-container-id-2 div.sk-label input.sk-toggleable__control:checked~label.sk-toggleable__label {background-color: #d4ebff;}#sk-container-id-2 input.sk-hidden--visually {border: 0;clip: rect(1px 1px 1px 1px);clip: rect(1px, 1px, 1px, 1px);height: 1px;margin: -1px;overflow: hidden;padding: 0;position: absolute;width: 1px;}#sk-container-id-2 div.sk-estimator {font-family: monospace;background-color: #f0f8ff;border: 1px dotted black;border-radius: 0.25em;box-sizing: border-box;margin-bottom: 0.5em;}#sk-container-id-2 div.sk-estimator:hover {background-color: #d4ebff;}#sk-container-id-2 div.sk-parallel-item::after {content: \"\";width: 100%;border-bottom: 1px solid gray;flex-grow: 1;}#sk-container-id-2 div.sk-label:hover label.sk-toggleable__label {background-color: #d4ebff;}#sk-container-id-2 div.sk-serial::before {content: \"\";position: absolute;border-left: 1px solid gray;box-sizing: border-box;top: 0;bottom: 0;left: 50%;z-index: 0;}#sk-container-id-2 div.sk-serial {display: flex;flex-direction: column;align-items: center;background-color: white;padding-right: 0.2em;padding-left: 0.2em;position: relative;}#sk-container-id-2 div.sk-item {position: relative;z-index: 1;}#sk-container-id-2 div.sk-parallel {display: flex;align-items: stretch;justify-content: center;background-color: white;position: relative;}#sk-container-id-2 div.sk-item::before, #sk-container-id-2 div.sk-parallel-item::before {content: \"\";position: absolute;border-left: 1px solid gray;box-sizing: border-box;top: 0;bottom: 0;left: 50%;z-index: -1;}#sk-container-id-2 div.sk-parallel-item {display: flex;flex-direction: column;z-index: 1;position: relative;background-color: white;}#sk-container-id-2 div.sk-parallel-item:first-child::after {align-self: flex-end;width: 50%;}#sk-container-id-2 div.sk-parallel-item:last-child::after {align-self: flex-start;width: 50%;}#sk-container-id-2 div.sk-parallel-item:only-child::after {width: 0;}#sk-container-id-2 div.sk-dashed-wrapped {border: 1px dashed gray;margin: 0 0.4em 0.5em 0.4em;box-sizing: border-box;padding-bottom: 0.4em;background-color: white;}#sk-container-id-2 div.sk-label label {font-family: monospace;font-weight: bold;display: inline-block;line-height: 1.2em;}#sk-container-id-2 div.sk-label-container {text-align: center;}#sk-container-id-2 div.sk-container {/* jupyter's `normalize.less` sets `[hidden] { display: none; }` but bootstrap.min.css set `[hidden] { display: none !important; }` so we also need the `!important` here to be able to override the default hidden behavior on the sphinx rendered scikit-learn.org. See: https://github.com/scikit-learn/scikit-learn/issues/21755 */display: inline-block !important;position: relative;}#sk-container-id-2 div.sk-text-repr-fallback {display: none;}</style><div id=\"sk-container-id-2\" class=\"sk-top-container\"><div class=\"sk-text-repr-fallback\"><pre>Pipeline(steps=[(&#x27;preprocessor&#x27;,\n",
       "                 ColumnTransformer(transformers=[(&#x27;nominal&#x27;,\n",
       "                                                  Pipeline(steps=[(&#x27;missing&#x27;,\n",
       "                                                                   SimpleImputer(strategy=&#x27;most_frequent&#x27;)),\n",
       "                                                                  (&#x27;encoding&#x27;,\n",
       "                                                                   OneHotEncoder(sparse_output=False))]),\n",
       "                                                  [&#x27;sex&#x27;, &#x27;smoker&#x27;, &#x27;day&#x27;,\n",
       "                                                   &#x27;time&#x27;]),\n",
       "                                                 (&#x27;continuous&#x27;,\n",
       "                                                  Pipeline(steps=[(&#x27;missing&#x27;,\n",
       "                                                                   SimpleImputer()),\n",
       "                                                                  (&#x27;normalization&#x27;,\n",
       "                                                                   StandardScaler())]),\n",
       "                                                  [&#x27;total_bill&#x27;]),\n",
       "                                                 (&#x27;discrete&#x27;,\n",
       "                                                  Pipeline(steps=[(&#x27;missing&#x27;,\n",
       "                                                                   KNNImputer()),\n",
       "                                                                  (&#x27;normalization&#x27;,\n",
       "                                                                   StandardScaler())]),\n",
       "                                                  [&#x27;size&#x27;])])),\n",
       "                (&#x27;model&#x27;, LogisticRegression())])</pre><b>In a Jupyter environment, please rerun this cell to show the HTML representation or trust the notebook. <br />On GitHub, the HTML representation is unable to render, please try loading this page with nbviewer.org.</b></div><div class=\"sk-container\" hidden><div class=\"sk-item sk-dashed-wrapped\"><div class=\"sk-label-container\"><div class=\"sk-label sk-toggleable\"><input class=\"sk-toggleable__control sk-hidden--visually\" id=\"sk-estimator-id-13\" type=\"checkbox\" ><label for=\"sk-estimator-id-13\" class=\"sk-toggleable__label sk-toggleable__label-arrow\">Pipeline</label><div class=\"sk-toggleable__content\"><pre>Pipeline(steps=[(&#x27;preprocessor&#x27;,\n",
       "                 ColumnTransformer(transformers=[(&#x27;nominal&#x27;,\n",
       "                                                  Pipeline(steps=[(&#x27;missing&#x27;,\n",
       "                                                                   SimpleImputer(strategy=&#x27;most_frequent&#x27;)),\n",
       "                                                                  (&#x27;encoding&#x27;,\n",
       "                                                                   OneHotEncoder(sparse_output=False))]),\n",
       "                                                  [&#x27;sex&#x27;, &#x27;smoker&#x27;, &#x27;day&#x27;,\n",
       "                                                   &#x27;time&#x27;]),\n",
       "                                                 (&#x27;continuous&#x27;,\n",
       "                                                  Pipeline(steps=[(&#x27;missing&#x27;,\n",
       "                                                                   SimpleImputer()),\n",
       "                                                                  (&#x27;normalization&#x27;,\n",
       "                                                                   StandardScaler())]),\n",
       "                                                  [&#x27;total_bill&#x27;]),\n",
       "                                                 (&#x27;discrete&#x27;,\n",
       "                                                  Pipeline(steps=[(&#x27;missing&#x27;,\n",
       "                                                                   KNNImputer()),\n",
       "                                                                  (&#x27;normalization&#x27;,\n",
       "                                                                   StandardScaler())]),\n",
       "                                                  [&#x27;size&#x27;])])),\n",
       "                (&#x27;model&#x27;, LogisticRegression())])</pre></div></div></div><div class=\"sk-serial\"><div class=\"sk-item sk-dashed-wrapped\"><div class=\"sk-label-container\"><div class=\"sk-label sk-toggleable\"><input class=\"sk-toggleable__control sk-hidden--visually\" id=\"sk-estimator-id-14\" type=\"checkbox\" ><label for=\"sk-estimator-id-14\" class=\"sk-toggleable__label sk-toggleable__label-arrow\">preprocessor: ColumnTransformer</label><div class=\"sk-toggleable__content\"><pre>ColumnTransformer(transformers=[(&#x27;nominal&#x27;,\n",
       "                                 Pipeline(steps=[(&#x27;missing&#x27;,\n",
       "                                                  SimpleImputer(strategy=&#x27;most_frequent&#x27;)),\n",
       "                                                 (&#x27;encoding&#x27;,\n",
       "                                                  OneHotEncoder(sparse_output=False))]),\n",
       "                                 [&#x27;sex&#x27;, &#x27;smoker&#x27;, &#x27;day&#x27;, &#x27;time&#x27;]),\n",
       "                                (&#x27;continuous&#x27;,\n",
       "                                 Pipeline(steps=[(&#x27;missing&#x27;, SimpleImputer()),\n",
       "                                                 (&#x27;normalization&#x27;,\n",
       "                                                  StandardScaler())]),\n",
       "                                 [&#x27;total_bill&#x27;]),\n",
       "                                (&#x27;discrete&#x27;,\n",
       "                                 Pipeline(steps=[(&#x27;missing&#x27;, KNNImputer()),\n",
       "                                                 (&#x27;normalization&#x27;,\n",
       "                                                  StandardScaler())]),\n",
       "                                 [&#x27;size&#x27;])])</pre></div></div></div><div class=\"sk-parallel\"><div class=\"sk-parallel-item\"><div class=\"sk-item\"><div class=\"sk-label-container\"><div class=\"sk-label sk-toggleable\"><input class=\"sk-toggleable__control sk-hidden--visually\" id=\"sk-estimator-id-15\" type=\"checkbox\" ><label for=\"sk-estimator-id-15\" class=\"sk-toggleable__label sk-toggleable__label-arrow\">nominal</label><div class=\"sk-toggleable__content\"><pre>[&#x27;sex&#x27;, &#x27;smoker&#x27;, &#x27;day&#x27;, &#x27;time&#x27;]</pre></div></div></div><div class=\"sk-serial\"><div class=\"sk-item\"><div class=\"sk-serial\"><div class=\"sk-item\"><div class=\"sk-estimator sk-toggleable\"><input class=\"sk-toggleable__control sk-hidden--visually\" id=\"sk-estimator-id-16\" type=\"checkbox\" ><label for=\"sk-estimator-id-16\" class=\"sk-toggleable__label sk-toggleable__label-arrow\">SimpleImputer</label><div class=\"sk-toggleable__content\"><pre>SimpleImputer(strategy=&#x27;most_frequent&#x27;)</pre></div></div></div><div class=\"sk-item\"><div class=\"sk-estimator sk-toggleable\"><input class=\"sk-toggleable__control sk-hidden--visually\" id=\"sk-estimator-id-17\" type=\"checkbox\" ><label for=\"sk-estimator-id-17\" class=\"sk-toggleable__label sk-toggleable__label-arrow\">OneHotEncoder</label><div class=\"sk-toggleable__content\"><pre>OneHotEncoder(sparse_output=False)</pre></div></div></div></div></div></div></div></div><div class=\"sk-parallel-item\"><div class=\"sk-item\"><div class=\"sk-label-container\"><div class=\"sk-label sk-toggleable\"><input class=\"sk-toggleable__control sk-hidden--visually\" id=\"sk-estimator-id-18\" type=\"checkbox\" ><label for=\"sk-estimator-id-18\" class=\"sk-toggleable__label sk-toggleable__label-arrow\">continuous</label><div class=\"sk-toggleable__content\"><pre>[&#x27;total_bill&#x27;]</pre></div></div></div><div class=\"sk-serial\"><div class=\"sk-item\"><div class=\"sk-serial\"><div class=\"sk-item\"><div class=\"sk-estimator sk-toggleable\"><input class=\"sk-toggleable__control sk-hidden--visually\" id=\"sk-estimator-id-19\" type=\"checkbox\" ><label for=\"sk-estimator-id-19\" class=\"sk-toggleable__label sk-toggleable__label-arrow\">SimpleImputer</label><div class=\"sk-toggleable__content\"><pre>SimpleImputer()</pre></div></div></div><div class=\"sk-item\"><div class=\"sk-estimator sk-toggleable\"><input class=\"sk-toggleable__control sk-hidden--visually\" id=\"sk-estimator-id-20\" type=\"checkbox\" ><label for=\"sk-estimator-id-20\" class=\"sk-toggleable__label sk-toggleable__label-arrow\">StandardScaler</label><div class=\"sk-toggleable__content\"><pre>StandardScaler()</pre></div></div></div></div></div></div></div></div><div class=\"sk-parallel-item\"><div class=\"sk-item\"><div class=\"sk-label-container\"><div class=\"sk-label sk-toggleable\"><input class=\"sk-toggleable__control sk-hidden--visually\" id=\"sk-estimator-id-21\" type=\"checkbox\" ><label for=\"sk-estimator-id-21\" class=\"sk-toggleable__label sk-toggleable__label-arrow\">discrete</label><div class=\"sk-toggleable__content\"><pre>[&#x27;size&#x27;]</pre></div></div></div><div class=\"sk-serial\"><div class=\"sk-item\"><div class=\"sk-serial\"><div class=\"sk-item\"><div class=\"sk-estimator sk-toggleable\"><input class=\"sk-toggleable__control sk-hidden--visually\" id=\"sk-estimator-id-22\" type=\"checkbox\" ><label for=\"sk-estimator-id-22\" class=\"sk-toggleable__label sk-toggleable__label-arrow\">KNNImputer</label><div class=\"sk-toggleable__content\"><pre>KNNImputer()</pre></div></div></div><div class=\"sk-item\"><div class=\"sk-estimator sk-toggleable\"><input class=\"sk-toggleable__control sk-hidden--visually\" id=\"sk-estimator-id-23\" type=\"checkbox\" ><label for=\"sk-estimator-id-23\" class=\"sk-toggleable__label sk-toggleable__label-arrow\">StandardScaler</label><div class=\"sk-toggleable__content\"><pre>StandardScaler()</pre></div></div></div></div></div></div></div></div></div></div><div class=\"sk-item\"><div class=\"sk-estimator sk-toggleable\"><input class=\"sk-toggleable__control sk-hidden--visually\" id=\"sk-estimator-id-24\" type=\"checkbox\" ><label for=\"sk-estimator-id-24\" class=\"sk-toggleable__label sk-toggleable__label-arrow\">LogisticRegression</label><div class=\"sk-toggleable__content\"><pre>LogisticRegression()</pre></div></div></div></div></div></div></div>"
      ],
      "text/plain": [
       "Pipeline(steps=[('preprocessor',\n",
       "                 ColumnTransformer(transformers=[('nominal',\n",
       "                                                  Pipeline(steps=[('missing',\n",
       "                                                                   SimpleImputer(strategy='most_frequent')),\n",
       "                                                                  ('encoding',\n",
       "                                                                   OneHotEncoder(sparse_output=False))]),\n",
       "                                                  ['sex', 'smoker', 'day',\n",
       "                                                   'time']),\n",
       "                                                 ('continuous',\n",
       "                                                  Pipeline(steps=[('missing',\n",
       "                                                                   SimpleImputer()),\n",
       "                                                                  ('normalization',\n",
       "                                                                   StandardScaler())]),\n",
       "                                                  ['total_bill']),\n",
       "                                                 ('discrete',\n",
       "                                                  Pipeline(steps=[('missing',\n",
       "                                                                   KNNImputer()),\n",
       "                                                                  ('normalization',\n",
       "                                                                   StandardScaler())]),\n",
       "                                                  ['size'])])),\n",
       "                ('model', LogisticRegression())])"
      ]
     },
     "execution_count": 73,
     "metadata": {},
     "output_type": "execute_result"
    }
   ],
   "source": [
    "# Treinar o pipeline\n",
    "pipeline1.fit(X_train, y_train)"
   ]
  },
  {
   "cell_type": "markdown",
   "metadata": {},
   "source": [
    "* ###  Avaliação do modelo:"
   ]
  },
  {
   "cell_type": "code",
   "execution_count": 74,
   "metadata": {},
   "outputs": [],
   "source": [
    "# Fazer previsões\n",
    "y_pred = pipeline1.predict(X_test)"
   ]
  },
  {
   "cell_type": "code",
   "execution_count": 75,
   "metadata": {},
   "outputs": [
    {
     "name": "stdout",
     "output_type": "stream",
     "text": [
      "              precision    recall  f1-score   support\n",
      "\n",
      "        Alta       0.58      0.78      0.67         9\n",
      "       Baixa       1.00      0.11      0.20         9\n",
      "  Muito Alta       0.45      0.56      0.50         9\n",
      " Muito Baixa       0.68      0.77      0.72        22\n",
      "\n",
      "    accuracy                           0.61        49\n",
      "   macro avg       0.68      0.55      0.52        49\n",
      "weighted avg       0.68      0.61      0.58        49\n",
      "\n"
     ]
    }
   ],
   "source": [
    "print(classification_report(y_test, y_pred))"
   ]
  },
  {
   "cell_type": "markdown",
   "metadata": {},
   "source": [
    "**MATRIX DE CONFUSÃO**"
   ]
  },
  {
   "cell_type": "code",
   "execution_count": 76,
   "metadata": {},
   "outputs": [
    {
     "data": {
      "image/png": "[encoded data removed]",
      "text/plain": [
       "<Figure size 640x480 with 2 Axes>"
      ]
     },
     "metadata": {},
     "output_type": "display_data"
    }
   ],
   "source": [
    "cm = confusion_matrix(y_test, y_pred, labels=pipeline1.classes_)\n",
    "sns.heatmap(cm, annot=True, fmt='d', xticklabels=pipeline1.classes_, yticklabels=pipeline1.classes_)\n",
    "plt.xlabel(\"Predicted\")\n",
    "plt.ylabel(\"Actual\")\n",
    "plt.title(\"Confusion Matrix\")\n",
    "plt.show()"
   ]
  },
  {
   "cell_type": "markdown",
   "metadata": {},
   "source": [
    "-> Métricas por classe:"
   ]
  },
  {
   "cell_type": "markdown",
   "metadata": {},
   "source": [
    "\n",
    "* **Alta**:\n",
    "1. **Precision (0.58)**: 58% das previsões de \"Alta\" estavam corretas.\n",
    "2. **Recall (0.78)**: O modelo identificou corretamente 78% das instâncias reais de \"Alta\".\n",
    "3. **F1-Score (0.67)**: Combinação balanceada de precisão e recall.\n",
    "\n",
    "* **Baixa**:\n",
    "1. **Precision (1.00)**: Todas as previsões de \"Baixa\" estavam corretas (quando houve previsão).\n",
    "2. **Recall (0.11)**: Apenas 11% das instâncias reais de \"Baixa\" foram identificadas pelo modelo.\n",
    "3. **F1-Score (0.20)**: O baixo recall prejudica o equilíbrio entre precisão e recall.\n",
    "\n",
    "* **Muito Alta**:\n",
    "1. **Precision (0.45)**: Apenas 45% das previsões de \"Muito Alta\" estavam corretas.\n",
    "2. **Recall (0.56)**: O modelo identificou corretamente 56% das instâncias reais de \"Muito Alta\".\n",
    "3. **F1-Score (0.50)**: Indica um desempenho moderado.\n",
    "\n",
    "* **Muito Baixa**:\n",
    "1. **Precision (0.68)**: 68% das previsões de \"Muito Baixa\" estavam corretas.\n",
    "2. **Recall (0.77)**: O modelo identificou corretamente 77% das instâncias reais de \"Muito Baixa\".\n",
    "3. **F1-Score (0.72)**: Melhor equilíbrio entre precisão e recall."
   ]
  },
  {
   "cell_type": "markdown",
   "metadata": {},
   "source": [
    "-> Métricas gerais:"
   ]
  },
  {
   "cell_type": "markdown",
   "metadata": {},
   "source": [
    "* **Acurácia (0.61)**: O modelo previu corretamente 61% das instâncias no conjunto de teste.\n",
    "* **Macro Avg**:\n",
    "    * Média não ponderada das métricas para todas as classes, útil quando as classes têm tamanhos semelhantes.\n",
    "    * **Precision (0.68), Recall (0.55), F1-Score (0.52)**: Indicam que o modelo tem mais dificuldade em prever classes menos representadas.\n",
    "* Weighted Avg:\n",
    "    * Média ponderada pelas ocorrências das classes.\n",
    "    * **Precision (0.68), Recall (0.61), F1-Score (0.58):** Mostram o desempenho geral ajustado aos desequilíbrios do conjunto de dados."
   ]
  },
  {
   "cell_type": "markdown",
   "metadata": {},
   "source": [
    "* ### Validação Cruzada"
   ]
  },
  {
   "cell_type": "markdown",
   "metadata": {},
   "source": [
    "**Cross-Validation**: "
   ]
  },
  {
   "cell_type": "markdown",
   "metadata": {},
   "source": [
    "Se quiser validar o modelo em múltiplas divisões, pode usar validação cruzada:"
   ]
  },
  {
   "cell_type": "code",
   "execution_count": 82,
   "metadata": {},
   "outputs": [
    {
     "name": "stdout",
     "output_type": "stream",
     "text": [
      "Validação Cruzada - Acurácia Média: 0.47\n"
     ]
    }
   ],
   "source": [
    "cv_scores = cross_val_score(pipeline1, X, y_categorical, cv=5, scoring=\"accuracy\")\n",
    "print(f\"Validação Cruzada - Acurácia Média: {cv_scores.mean():.2f}\")"
   ]
  },
  {
   "cell_type": "markdown",
   "metadata": {},
   "source": [
    "A acurácia média de 0.47 na validação cruzada indica que, ao testar o modelo em subconjuntos diferentes dos dados, o desempenho foi menor do que no conjunto de teste. Isso pode significar que o modelo está sensível à divisão dos dados, possivelmente devido à quantidade limitada de dados ou desequilíbrios nas classes."
   ]
  },
  {
   "cell_type": "markdown",
   "metadata": {},
   "source": [
    "* ### Predição:"
   ]
  },
  {
   "cell_type": "markdown",
   "metadata": {},
   "source": [
    "Dados de exemplo para predição:"
   ]
  },
  {
   "cell_type": "code",
   "execution_count": 83,
   "metadata": {},
   "outputs": [],
   "source": [
    "novos_dados = pd.DataFrame({\n",
    "    \"total_bill\": [25.0, 40.5],\n",
    "    \"size\": [2, 4],\n",
    "    \"sex\": [\"Female\", \"Male\"],\n",
    "    \"smoker\": [\"No\", \"Yes\"],\n",
    "    \"day\": [\"Sun\", \"Thur\"],\n",
    "    \"time\": [\"Dinner\", \"Lunch\"]\n",
    "})"
   ]
  },
  {
   "cell_type": "markdown",
   "metadata": {},
   "source": [
    "**Predizer classes**"
   ]
  },
  {
   "cell_type": "markdown",
   "metadata": {},
   "source": [
    "Para obter as categorias previstas:"
   ]
  },
  {
   "cell_type": "code",
   "execution_count": 84,
   "metadata": {},
   "outputs": [
    {
     "name": "stdout",
     "output_type": "stream",
     "text": [
      "Previsões de classes: ['Alta' 'Muito Alta']\n"
     ]
    }
   ],
   "source": [
    "pred_classes = pipeline1.predict(novos_dados)\n",
    "print(\"Previsões de classes:\", pred_classes)"
   ]
  },
  {
   "cell_type": "markdown",
   "metadata": {},
   "source": [
    "As previsões de classes são:\n",
    "\n",
    "* Exemplo 1: \"Alta\"\n",
    "* Exemplo 2: \"Muito Alta\"\n",
    "\n",
    "Isso indica que, com base nos dados de entrada, o modelo classificou o primeiro exemplo como pertencente à categoria \"Alta\" e o segundo como \"Muito Alta\".\n",
    "\n"
   ]
  },
  {
   "cell_type": "markdown",
   "metadata": {},
   "source": [
    "**Predizer probabilidades**"
   ]
  },
  {
   "cell_type": "markdown",
   "metadata": {},
   "source": [
    "Se quiser obter a probabilidade associada a cada classe:"
   ]
  },
  {
   "cell_type": "code",
   "execution_count": 85,
   "metadata": {},
   "outputs": [
    {
     "name": "stdout",
     "output_type": "stream",
     "text": [
      "Probabilidades das classes:\n",
      "[[0.45405149 0.21506185 0.27894255 0.0519441 ]\n",
      " [0.15053493 0.01594897 0.83058902 0.00292708]]\n"
     ]
    }
   ],
   "source": [
    "pred_probas = pipeline1.predict_proba(novos_dados)\n",
    "print(\"Probabilidades das classes:\")\n",
    "print(pred_probas)"
   ]
  },
  {
   "cell_type": "markdown",
   "metadata": {},
   "source": [
    "* **EXEMPLO 1** : Probabilidade mais alta para \"Alta\" (45.4%), que corresponde à previsão feita.\n",
    "* **EXEMPLO 2** : Probabilidade mais alta para \"Muito Alta\" (83.1%), que corresponde à previsão feita."
   ]
  }
 ],
 "metadata": {
  "kernelspec": {
   "display_name": "base",
   "language": "python",
   "name": "python3"
  },
  "language_info": {
   "codemirror_mode": {
    "name": "ipython",
    "version": 3
   },
   "file_extension": ".py",
   "mimetype": "text/x-python",
   "name": "python",
   "nbconvert_exporter": "python",
   "pygments_lexer": "ipython3",
   "version": "3.11.7"
  }
 },
 "nbformat": 4,
 "nbformat_minor": 2
}
