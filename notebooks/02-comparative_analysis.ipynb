{
 "cells": [
  {
   "cell_type": "markdown",
   "metadata": {},
   "source": [
    "# Comparação de Modelos de Machine Learning para predição de Gorjetas"
   ]
  },
  {
   "cell_type": "markdown",
   "metadata": {},
   "source": [
    "Este caderno é voltado para a comparação de modelos de regressão e classificação, com o objetivo de identificar os melhores modelos para a previsão e classificação dos dados. O processo é dividido em várias etapas cruciais:\n",
    "\n",
    "* **Tratamento e Transformação de Dados**:\n",
    "    * A primeira etapa envolve a preparação dos dados para análise. Isso inclui a limpeza de dados faltantes, normalização, codificação de variáveis categóricas e outras transformações necessárias para garantir que os dados estejam prontos para alimentar os modelos.\n",
    "\n",
    "* **Treinamento e Avaliação de Modelos**:\n",
    "    * Nessa etapa, diferentes modelos de regressão (como LinearRegression, KNeighborsRegressor, SVR, DummyRegressor) e classificação (como LogisticRegression, KNeighborsClassifier) são treinados e avaliados. Para cada modelo, são calculadas métricas de desempenho como precisão, recall, F1-score, MAE, MSE e R², permitindo uma comparação detalhada de sua eficácia.\n",
    "\n",
    "* **Comparação de Modelos** :\n",
    "    * Através de uma análise comparativa, são avaliadas as forças e fraquezas de cada modelo com base nos resultados obtidos. Essa comparação abrange tanto as métricas de avaliação quanto as predições de cada modelo, considerando a adequação a diferentes tipos de dados e a capacidade de captura de padrões.\n",
    "\n",
    "* **Geração de Insights**:\n",
    "    * Por fim, são extraídos insights com base nas comparações entre os modelos. São apresentados gráficos e tabelas para ilustrar a performance de cada abordagem, destacando as melhores opções para o problema em questão. O objetivo é entender quais modelos têm o melhor desempenho em termos de generalização, precisão e adequação ao contexto dos dados."
   ]
  },
  {
   "cell_type": "markdown",
   "metadata": {},
   "source": [
    "## Tratamento e Transformação de dados"
   ]
  },
  {
   "cell_type": "markdown",
   "metadata": {},
   "source": [
    "* Bibliotecas:"
   ]
  },
  {
   "cell_type": "code",
   "execution_count": 1,
   "metadata": {},
   "outputs": [],
   "source": [
    "import pandas as pd\n",
    "import numpy as np\n",
    "import seaborn as sns\n",
    "import matplotlib.pyplot as plt\n",
    "from sklearn.impute import SimpleImputer, KNNImputer\n",
    "from sklearn.pipeline import Pipeline\n",
    "from sklearn.compose import ColumnTransformer\n",
    "from sklearn.preprocessing import OneHotEncoder, OrdinalEncoder, StandardScaler\n",
    "from sklearn.linear_model import LinearRegression\n",
    "from sklearn.model_selection import train_test_split,  ShuffleSplit, KFold, cross_validate\n",
    "from sklearn.metrics import mean_absolute_error, mean_squared_error, r2_score\n",
    "from sklearn.model_selection import cross_val_score, cross_val_predict\n",
    "from sklearn.linear_model import LogisticRegression\n",
    "from sklearn.neighbors import KNeighborsRegressor\n",
    "from sklearn.dummy import DummyRegressor\n",
    "from sklearn.svm import SVR\n",
    "from sklearn.inspection import permutation_importance\n",
    "from sklearn.metrics import accuracy_score, classification_report, confusion_matrix, f1_score, roc_auc_score\n",
    "from sklearn.ensemble import RandomForestClassifier\n",
    "from sklearn.neighbors import KNeighborsClassifier\n",
    "import joblib"
   ]
  },
  {
   "cell_type": "markdown",
   "metadata": {},
   "source": [
    "* Leitura dos dados:"
   ]
  },
  {
   "cell_type": "code",
   "execution_count": 2,
   "metadata": {},
   "outputs": [],
   "source": [
    "dados = pd.read_csv('https://raw.githubusercontent.com/atlantico-academy/datasets/refs/heads/main/tips.csv')"
   ]
  },
  {
   "cell_type": "code",
   "execution_count": 3,
   "metadata": {},
   "outputs": [],
   "source": [
    "dados_dict = pd.read_csv('../data/external/dictionary.csv')"
   ]
  },
  {
   "cell_type": "code",
   "execution_count": 4,
   "metadata": {},
   "outputs": [
    {
     "data": {
      "text/html": [
       "<div>\n",
       "<style scoped>\n",
       "    .dataframe tbody tr th:only-of-type {\n",
       "        vertical-align: middle;\n",
       "    }\n",
       "\n",
       "    .dataframe tbody tr th {\n",
       "        vertical-align: top;\n",
       "    }\n",
       "\n",
       "    .dataframe thead th {\n",
       "        text-align: right;\n",
       "    }\n",
       "</style>\n",
       "<table border=\"1\" class=\"dataframe\">\n",
       "  <thead>\n",
       "    <tr style=\"text-align: right;\">\n",
       "      <th></th>\n",
       "      <th>total_bill</th>\n",
       "      <th>tip</th>\n",
       "      <th>sex</th>\n",
       "      <th>smoker</th>\n",
       "      <th>day</th>\n",
       "      <th>time</th>\n",
       "      <th>size</th>\n",
       "    </tr>\n",
       "  </thead>\n",
       "  <tbody>\n",
       "    <tr>\n",
       "      <th>0</th>\n",
       "      <td>16.99</td>\n",
       "      <td>1.01</td>\n",
       "      <td>Female</td>\n",
       "      <td>No</td>\n",
       "      <td>Sun</td>\n",
       "      <td>Dinner</td>\n",
       "      <td>2</td>\n",
       "    </tr>\n",
       "    <tr>\n",
       "      <th>1</th>\n",
       "      <td>10.34</td>\n",
       "      <td>1.66</td>\n",
       "      <td>Male</td>\n",
       "      <td>No</td>\n",
       "      <td>Sun</td>\n",
       "      <td>Dinner</td>\n",
       "      <td>3</td>\n",
       "    </tr>\n",
       "    <tr>\n",
       "      <th>2</th>\n",
       "      <td>21.01</td>\n",
       "      <td>3.50</td>\n",
       "      <td>Male</td>\n",
       "      <td>No</td>\n",
       "      <td>Sun</td>\n",
       "      <td>Dinner</td>\n",
       "      <td>3</td>\n",
       "    </tr>\n",
       "    <tr>\n",
       "      <th>3</th>\n",
       "      <td>23.68</td>\n",
       "      <td>3.31</td>\n",
       "      <td>Male</td>\n",
       "      <td>No</td>\n",
       "      <td>Sun</td>\n",
       "      <td>Dinner</td>\n",
       "      <td>2</td>\n",
       "    </tr>\n",
       "    <tr>\n",
       "      <th>4</th>\n",
       "      <td>24.59</td>\n",
       "      <td>3.61</td>\n",
       "      <td>Female</td>\n",
       "      <td>No</td>\n",
       "      <td>Sun</td>\n",
       "      <td>Dinner</td>\n",
       "      <td>4</td>\n",
       "    </tr>\n",
       "  </tbody>\n",
       "</table>\n",
       "</div>"
      ],
      "text/plain": [
       "   total_bill   tip     sex smoker  day    time  size\n",
       "0       16.99  1.01  Female     No  Sun  Dinner     2\n",
       "1       10.34  1.66    Male     No  Sun  Dinner     3\n",
       "2       21.01  3.50    Male     No  Sun  Dinner     3\n",
       "3       23.68  3.31    Male     No  Sun  Dinner     2\n",
       "4       24.59  3.61  Female     No  Sun  Dinner     4"
      ]
     },
     "execution_count": 4,
     "metadata": {},
     "output_type": "execute_result"
    }
   ],
   "source": [
    "dados.head()"
   ]
  },
  {
   "cell_type": "code",
   "execution_count": 5,
   "metadata": {},
   "outputs": [
    {
     "data": {
      "text/html": [
       "<div>\n",
       "<style scoped>\n",
       "    .dataframe tbody tr th:only-of-type {\n",
       "        vertical-align: middle;\n",
       "    }\n",
       "\n",
       "    .dataframe tbody tr th {\n",
       "        vertical-align: top;\n",
       "    }\n",
       "\n",
       "    .dataframe thead th {\n",
       "        text-align: right;\n",
       "    }\n",
       "</style>\n",
       "<table border=\"1\" class=\"dataframe\">\n",
       "  <thead>\n",
       "    <tr style=\"text-align: right;\">\n",
       "      <th></th>\n",
       "      <th>variavel</th>\n",
       "      <th>descricao</th>\n",
       "      <th>tipo</th>\n",
       "      <th>subtipo</th>\n",
       "    </tr>\n",
       "  </thead>\n",
       "  <tbody>\n",
       "    <tr>\n",
       "      <th>0</th>\n",
       "      <td>total_bill</td>\n",
       "      <td>Representa o valor total da conta em dólares</td>\n",
       "      <td>quantitativa</td>\n",
       "      <td>contínua</td>\n",
       "    </tr>\n",
       "    <tr>\n",
       "      <th>1</th>\n",
       "      <td>tip</td>\n",
       "      <td>Representa o valor da gorjeta em dólares</td>\n",
       "      <td>quantitativa</td>\n",
       "      <td>contínua</td>\n",
       "    </tr>\n",
       "    <tr>\n",
       "      <th>2</th>\n",
       "      <td>sex</td>\n",
       "      <td>Indica o sexo da pessoa (Masculino ou Feminino)</td>\n",
       "      <td>qualitativa</td>\n",
       "      <td>nominal</td>\n",
       "    </tr>\n",
       "    <tr>\n",
       "      <th>3</th>\n",
       "      <td>smoker</td>\n",
       "      <td>Indica se a pessoa é fumante ou não</td>\n",
       "      <td>qualitativa</td>\n",
       "      <td>nominal</td>\n",
       "    </tr>\n",
       "    <tr>\n",
       "      <th>4</th>\n",
       "      <td>day</td>\n",
       "      <td>Indica o dia da semana em que a refeição ocorreu</td>\n",
       "      <td>qualitativa</td>\n",
       "      <td>nominal</td>\n",
       "    </tr>\n",
       "    <tr>\n",
       "      <th>5</th>\n",
       "      <td>time</td>\n",
       "      <td>Indica se a refeição ocorreu no almoço ou jantar</td>\n",
       "      <td>qualitativa</td>\n",
       "      <td>nominal</td>\n",
       "    </tr>\n",
       "    <tr>\n",
       "      <th>6</th>\n",
       "      <td>size</td>\n",
       "      <td>Indica o número de pessoas no grupo</td>\n",
       "      <td>quantitativa</td>\n",
       "      <td>discreta</td>\n",
       "    </tr>\n",
       "  </tbody>\n",
       "</table>\n",
       "</div>"
      ],
      "text/plain": [
       "     variavel                                         descricao          tipo  \\\n",
       "0  total_bill      Representa o valor total da conta em dólares  quantitativa   \n",
       "1         tip          Representa o valor da gorjeta em dólares  quantitativa   \n",
       "2         sex   Indica o sexo da pessoa (Masculino ou Feminino)   qualitativa   \n",
       "3      smoker               Indica se a pessoa é fumante ou não   qualitativa   \n",
       "4         day  Indica o dia da semana em que a refeição ocorreu   qualitativa   \n",
       "5        time  Indica se a refeição ocorreu no almoço ou jantar   qualitativa   \n",
       "6        size               Indica o número de pessoas no grupo  quantitativa   \n",
       "\n",
       "    subtipo  \n",
       "0  contínua  \n",
       "1  contínua  \n",
       "2   nominal  \n",
       "3   nominal  \n",
       "4   nominal  \n",
       "5   nominal  \n",
       "6  discreta  "
      ]
     },
     "execution_count": 5,
     "metadata": {},
     "output_type": "execute_result"
    }
   ],
   "source": [
    "dados_dict.head(10)"
   ]
  },
  {
   "cell_type": "markdown",
   "metadata": {},
   "source": [
    "* Verificando estrutura:"
   ]
  },
  {
   "cell_type": "code",
   "execution_count": 6,
   "metadata": {},
   "outputs": [
    {
     "name": "stdout",
     "output_type": "stream",
     "text": [
      "<class 'pandas.core.frame.DataFrame'>\n",
      "RangeIndex: 244 entries, 0 to 243\n",
      "Data columns (total 7 columns):\n",
      " #   Column      Non-Null Count  Dtype  \n",
      "---  ------      --------------  -----  \n",
      " 0   total_bill  244 non-null    float64\n",
      " 1   tip         244 non-null    float64\n",
      " 2   sex         244 non-null    object \n",
      " 3   smoker      244 non-null    object \n",
      " 4   day         244 non-null    object \n",
      " 5   time        244 non-null    object \n",
      " 6   size        244 non-null    int64  \n",
      "dtypes: float64(2), int64(1), object(4)\n",
      "memory usage: 13.5+ KB\n"
     ]
    }
   ],
   "source": [
    "dados.info()"
   ]
  },
  {
   "cell_type": "markdown",
   "metadata": {},
   "source": [
    "Valores númericos:"
   ]
  },
  {
   "cell_type": "code",
   "execution_count": 7,
   "metadata": {},
   "outputs": [
    {
     "data": {
      "text/html": [
       "<div>\n",
       "<style scoped>\n",
       "    .dataframe tbody tr th:only-of-type {\n",
       "        vertical-align: middle;\n",
       "    }\n",
       "\n",
       "    .dataframe tbody tr th {\n",
       "        vertical-align: top;\n",
       "    }\n",
       "\n",
       "    .dataframe thead th {\n",
       "        text-align: right;\n",
       "    }\n",
       "</style>\n",
       "<table border=\"1\" class=\"dataframe\">\n",
       "  <thead>\n",
       "    <tr style=\"text-align: right;\">\n",
       "      <th></th>\n",
       "      <th>count</th>\n",
       "      <th>mean</th>\n",
       "      <th>std</th>\n",
       "      <th>min</th>\n",
       "      <th>25%</th>\n",
       "      <th>50%</th>\n",
       "      <th>75%</th>\n",
       "      <th>max</th>\n",
       "    </tr>\n",
       "  </thead>\n",
       "  <tbody>\n",
       "    <tr>\n",
       "      <th>total_bill</th>\n",
       "      <td>244.0</td>\n",
       "      <td>19.785943</td>\n",
       "      <td>8.902412</td>\n",
       "      <td>3.07</td>\n",
       "      <td>13.3475</td>\n",
       "      <td>17.795</td>\n",
       "      <td>24.1275</td>\n",
       "      <td>50.81</td>\n",
       "    </tr>\n",
       "    <tr>\n",
       "      <th>tip</th>\n",
       "      <td>244.0</td>\n",
       "      <td>2.998279</td>\n",
       "      <td>1.383638</td>\n",
       "      <td>1.00</td>\n",
       "      <td>2.0000</td>\n",
       "      <td>2.900</td>\n",
       "      <td>3.5625</td>\n",
       "      <td>10.00</td>\n",
       "    </tr>\n",
       "    <tr>\n",
       "      <th>size</th>\n",
       "      <td>244.0</td>\n",
       "      <td>2.569672</td>\n",
       "      <td>0.951100</td>\n",
       "      <td>1.00</td>\n",
       "      <td>2.0000</td>\n",
       "      <td>2.000</td>\n",
       "      <td>3.0000</td>\n",
       "      <td>6.00</td>\n",
       "    </tr>\n",
       "  </tbody>\n",
       "</table>\n",
       "</div>"
      ],
      "text/plain": [
       "            count       mean       std   min      25%     50%      75%    max\n",
       "total_bill  244.0  19.785943  8.902412  3.07  13.3475  17.795  24.1275  50.81\n",
       "tip         244.0   2.998279  1.383638  1.00   2.0000   2.900   3.5625  10.00\n",
       "size        244.0   2.569672  0.951100  1.00   2.0000   2.000   3.0000   6.00"
      ]
     },
     "execution_count": 7,
     "metadata": {},
     "output_type": "execute_result"
    }
   ],
   "source": [
    "dados.describe().T"
   ]
  },
  {
   "cell_type": "markdown",
   "metadata": {},
   "source": [
    "Valores de string:"
   ]
  },
  {
   "cell_type": "code",
   "execution_count": 8,
   "metadata": {},
   "outputs": [
    {
     "data": {
      "text/html": [
       "<div>\n",
       "<style scoped>\n",
       "    .dataframe tbody tr th:only-of-type {\n",
       "        vertical-align: middle;\n",
       "    }\n",
       "\n",
       "    .dataframe tbody tr th {\n",
       "        vertical-align: top;\n",
       "    }\n",
       "\n",
       "    .dataframe thead th {\n",
       "        text-align: right;\n",
       "    }\n",
       "</style>\n",
       "<table border=\"1\" class=\"dataframe\">\n",
       "  <thead>\n",
       "    <tr style=\"text-align: right;\">\n",
       "      <th></th>\n",
       "      <th>count</th>\n",
       "      <th>unique</th>\n",
       "      <th>top</th>\n",
       "      <th>freq</th>\n",
       "    </tr>\n",
       "  </thead>\n",
       "  <tbody>\n",
       "    <tr>\n",
       "      <th>sex</th>\n",
       "      <td>244</td>\n",
       "      <td>2</td>\n",
       "      <td>Male</td>\n",
       "      <td>157</td>\n",
       "    </tr>\n",
       "    <tr>\n",
       "      <th>smoker</th>\n",
       "      <td>244</td>\n",
       "      <td>2</td>\n",
       "      <td>No</td>\n",
       "      <td>151</td>\n",
       "    </tr>\n",
       "    <tr>\n",
       "      <th>day</th>\n",
       "      <td>244</td>\n",
       "      <td>4</td>\n",
       "      <td>Sat</td>\n",
       "      <td>87</td>\n",
       "    </tr>\n",
       "    <tr>\n",
       "      <th>time</th>\n",
       "      <td>244</td>\n",
       "      <td>2</td>\n",
       "      <td>Dinner</td>\n",
       "      <td>176</td>\n",
       "    </tr>\n",
       "  </tbody>\n",
       "</table>\n",
       "</div>"
      ],
      "text/plain": [
       "       count unique     top freq\n",
       "sex      244      2    Male  157\n",
       "smoker   244      2      No  151\n",
       "day      244      4     Sat   87\n",
       "time     244      2  Dinner  176"
      ]
     },
     "execution_count": 8,
     "metadata": {},
     "output_type": "execute_result"
    }
   ],
   "source": [
    "dados.describe(include='object').T"
   ]
  },
  {
   "cell_type": "markdown",
   "metadata": {},
   "source": [
    "* Verificando os Valores Faltantes:"
   ]
  },
  {
   "cell_type": "code",
   "execution_count": 9,
   "metadata": {},
   "outputs": [
    {
     "name": "stdout",
     "output_type": "stream",
     "text": [
      "Não há valores nulos na tabela.\n"
     ]
    }
   ],
   "source": [
    "valores_nulos = dados.isnull().values.any()\n",
    "\n",
    "if valores_nulos:\n",
    "    print(\"Há valores nulos na tabela.\")\n",
    "else:\n",
    "    print(\"Não há valores nulos na tabela.\")"
   ]
  },
  {
   "cell_type": "code",
   "execution_count": 10,
   "metadata": {},
   "outputs": [
    {
     "name": "stdout",
     "output_type": "stream",
     "text": [
      "Verificando valores faltantes : \n",
      "\n",
      "total_bill    0\n",
      "tip           0\n",
      "sex           0\n",
      "smoker        0\n",
      "day           0\n",
      "time          0\n",
      "size          0\n",
      "dtype: int64\n"
     ]
    }
   ],
   "source": [
    "print(f'Verificando valores faltantes : \\n\\n{dados.isna().sum()}')"
   ]
  },
  {
   "cell_type": "markdown",
   "metadata": {},
   "source": [
    "Acima vemos que não há valores nulos no dataset."
   ]
  },
  {
   "cell_type": "markdown",
   "metadata": {},
   "source": [
    "* Verificando os Valores discrepantes:"
   ]
  },
  {
   "cell_type": "code",
   "execution_count": 11,
   "metadata": {},
   "outputs": [],
   "source": [
    "# Função para identificar outliers usando o IQR\n",
    "def detect_outliers_iqr(dados, column):\n",
    "    Q1 = dados[column].quantile(0.25)  # Primeiro quartil\n",
    "    Q3 = dados[column].quantile(0.75)  # Terceiro quartil\n",
    "    IQR = Q3 - Q1                     # Intervalo Interquartil\n",
    "    \n",
    "    lower_bound = Q1 - 1.5 * IQR      # Limite inferior\n",
    "    upper_bound = Q3 + 1.5 * IQR      # Limite superior\n",
    "    \n",
    "    outliers = dados[(dados[column] < lower_bound) | (dados[column] > upper_bound)]\n",
    "    return outliers"
   ]
  },
  {
   "cell_type": "code",
   "execution_count": 12,
   "metadata": {},
   "outputs": [
    {
     "name": "stdout",
     "output_type": "stream",
     "text": [
      "Outliers na coluna 'total_bill':\n",
      "     total_bill    tip     sex smoker   day    time  size\n",
      "59        48.27   6.73    Male     No   Sat  Dinner     4\n",
      "102       44.30   2.50  Female    Yes   Sat  Dinner     3\n",
      "142       41.19   5.00    Male     No  Thur   Lunch     5\n",
      "156       48.17   5.00    Male     No   Sun  Dinner     6\n",
      "170       50.81  10.00    Male    Yes   Sat  Dinner     3\n",
      "182       45.35   3.50    Male    Yes   Sun  Dinner     3\n",
      "184       40.55   3.00    Male    Yes   Sun  Dinner     2\n",
      "197       43.11   5.00  Female    Yes  Thur   Lunch     4\n",
      "212       48.33   9.00    Male     No   Sat  Dinner     4\n",
      "\n",
      "Outliers na coluna 'tip':\n",
      "     total_bill    tip     sex smoker   day    time  size\n",
      "23        39.42   7.58    Male     No   Sat  Dinner     4\n",
      "47        32.40   6.00    Male     No   Sun  Dinner     4\n",
      "59        48.27   6.73    Male     No   Sat  Dinner     4\n",
      "141       34.30   6.70    Male     No  Thur   Lunch     6\n",
      "170       50.81  10.00    Male    Yes   Sat  Dinner     3\n",
      "183       23.17   6.50    Male    Yes   Sun  Dinner     4\n",
      "212       48.33   9.00    Male     No   Sat  Dinner     4\n",
      "214       28.17   6.50  Female    Yes   Sat  Dinner     3\n",
      "239       29.03   5.92    Male     No   Sat  Dinner     3\n",
      "\n",
      "Outliers na coluna 'size':\n",
      "     total_bill   tip     sex smoker   day    time  size\n",
      "125       29.80  4.20  Female     No  Thur   Lunch     6\n",
      "141       34.30  6.70    Male     No  Thur   Lunch     6\n",
      "142       41.19  5.00    Male     No  Thur   Lunch     5\n",
      "143       27.05  5.00  Female     No  Thur   Lunch     6\n",
      "155       29.85  5.14  Female     No   Sun  Dinner     5\n",
      "156       48.17  5.00    Male     No   Sun  Dinner     6\n",
      "185       20.69  5.00    Male     No   Sun  Dinner     5\n",
      "187       30.46  2.00    Male    Yes   Sun  Dinner     5\n",
      "216       28.15  3.00    Male    Yes   Sat  Dinner     5\n",
      "\n"
     ]
    }
   ],
   "source": [
    "# Detectando outliers apenas para colunas numéricas\n",
    "for col in dados.select_dtypes(include=[np.number]).columns:  # Filtra apenas colunas numéricas\n",
    "    outliers = detect_outliers_iqr(dados, col)\n",
    "    print(f\"Outliers na coluna '{col}':\\n{outliers}\\n\")"
   ]
  },
  {
   "cell_type": "markdown",
   "metadata": {},
   "source": [
    "Acima temos uma lista com os valores discrepantes das colunas numéricas."
   ]
  },
  {
   "cell_type": "markdown",
   "metadata": {},
   "source": [
    "* Estruturação de Variáveis:"
   ]
  },
  {
   "cell_type": "code",
   "execution_count": 13,
   "metadata": {},
   "outputs": [],
   "source": [
    "# Definindo a variável-alvo\n",
    "target_variable = 'tip'\n",
    "\n",
    "# Identificando variáveis inúteis (nenhuma nesse caso)\n",
    "useless_variables = (\n",
    "    dados_dict\n",
    "    .query(\"tipo == 'inútil'\")\n",
    "    .variavel\n",
    "    .to_list()\n",
    ")\n",
    "\n",
    "# Variáveis nominais (não incluímos a variável-alvo)\n",
    "nominal_variables = (\n",
    "    dados_dict\n",
    "    .query(\"subtipo == 'nominal' and variavel != @target_variable\")\n",
    "    .variavel\n",
    "    .to_list()\n",
    ")\n",
    "\n",
    "# Variáveis ordinais (nenhuma foi definida como ordinal no dicionário)\n",
    "ordinal_variables = (\n",
    "    dados_dict\n",
    "    .query(\"subtipo == 'ordinal' and variavel != @target_variable\")\n",
    "    .variavel\n",
    "    .to_list()\n",
    ")\n",
    "\n",
    "# Variáveis contínuas\n",
    "continuous_variables = (\n",
    "    dados_dict\n",
    "    .query(\"subtipo == 'contínua' and variavel != @target_variable\")\n",
    "    .variavel\n",
    "    .to_list()\n",
    ")\n",
    "\n",
    "# Variáveis discretas\n",
    "discrete_variables = (\n",
    "    dados_dict\n",
    "    .query(\"subtipo == 'discreta' and variavel != @target_variable\")\n",
    "    .variavel\n",
    "    .to_list()\n",
    ")"
   ]
  },
  {
   "cell_type": "markdown",
   "metadata": {},
   "source": [
    "* Separando X (variáveis explicativas) e y (variável-alvo):"
   ]
  },
  {
   "cell_type": "code",
   "execution_count": 14,
   "metadata": {},
   "outputs": [],
   "source": [
    "X = dados.drop(columns=[target_variable] + useless_variables)\n",
    "y = dados[target_variable]"
   ]
  },
  {
   "cell_type": "code",
   "execution_count": 15,
   "metadata": {},
   "outputs": [
    {
     "name": "stdout",
     "output_type": "stream",
     "text": [
      "Variáveis nominais: ['sex', 'smoker', 'day', 'time']\n",
      "Variáveis contínuas: ['total_bill']\n",
      "Variáveis discretas: ['size']\n",
      "\n",
      "X (features):\n",
      "      total_bill     sex smoker   day    time  size\n",
      "0         16.99  Female     No   Sun  Dinner     2\n",
      "1         10.34    Male     No   Sun  Dinner     3\n",
      "2         21.01    Male     No   Sun  Dinner     3\n",
      "3         23.68    Male     No   Sun  Dinner     2\n",
      "4         24.59  Female     No   Sun  Dinner     4\n",
      "..          ...     ...    ...   ...     ...   ...\n",
      "239       29.03    Male     No   Sat  Dinner     3\n",
      "240       27.18  Female    Yes   Sat  Dinner     2\n",
      "241       22.67    Male    Yes   Sat  Dinner     2\n",
      "242       17.82    Male     No   Sat  Dinner     2\n",
      "243       18.78  Female     No  Thur  Dinner     2\n",
      "\n",
      "[244 rows x 6 columns]\n",
      "\n",
      "y (target):\n",
      " 0      1.01\n",
      "1      1.66\n",
      "2      3.50\n",
      "3      3.31\n",
      "4      3.61\n",
      "       ... \n",
      "239    5.92\n",
      "240    2.00\n",
      "241    2.00\n",
      "242    1.75\n",
      "243    3.00\n",
      "Name: tip, Length: 244, dtype: float64\n"
     ]
    }
   ],
   "source": [
    "print(\"Variáveis nominais:\", nominal_variables)\n",
    "print(\"Variáveis contínuas:\", continuous_variables)\n",
    "print(\"Variáveis discretas:\", discrete_variables)\n",
    "print(\"\\nX (features):\\n\", X)\n",
    "print(\"\\ny (target):\\n\", y)"
   ]
  },
  {
   "cell_type": "markdown",
   "metadata": {},
   "source": [
    "O código acima organiza e prepara os dados de forma sistemática para análise ou modelagem. Ele facilita a aplicação de diferentes técnicas a cada tipo de variável, como codificação (para nominais) ou normalização (para contínuas)"
   ]
  },
  {
   "cell_type": "markdown",
   "metadata": {},
   "source": [
    "* Pipelines de pré-processamento por tipo de variável:"
   ]
  },
  {
   "cell_type": "code",
   "execution_count": 16,
   "metadata": {},
   "outputs": [],
   "source": [
    "\n",
    "nominal_preprocessor = Pipeline(steps=[\n",
    "    (\"missing\", SimpleImputer(strategy='most_frequent')),  # Substituir valores faltantes pela moda\n",
    "    (\"encoding\", OneHotEncoder(sparse_output=False)),  # Codificação one-hot\n",
    "])\n",
    "\n",
    "continuous_preprocessor = Pipeline(steps=[\n",
    "    (\"missing\", SimpleImputer(strategy='mean')),  # Substituir valores faltantes pela média\n",
    "    (\"normalization\", StandardScaler()),  # Normalização (média = 0, desvio padrão = 1)\n",
    "])\n",
    "\n",
    "discrete_preprocessor = Pipeline(steps=[\n",
    "    (\"missing\", KNNImputer()),  # Substituir valores faltantes com base nos vizinhos mais próximos\n",
    "    (\"normalization\", StandardScaler()),  # Normalização\n",
    "])\n"
   ]
  },
  {
   "cell_type": "markdown",
   "metadata": {},
   "source": [
    "Esse código acima organiza pipelines para pré-processar variáveis diferentes (nominais, ordinais, contínuas e discretas). Cada tipo de variável tem necessidades específicas, como tratamento de valores faltantes ou codificação."
   ]
  },
  {
   "cell_type": "markdown",
   "metadata": {},
   "source": [
    "* Selecionando variáveis com base no dados_dict:"
   ]
  },
  {
   "cell_type": "code",
   "execution_count": 17,
   "metadata": {},
   "outputs": [],
   "source": [
    "# Criando o transformador por tipo de variável\n",
    "preprocessor = ColumnTransformer(transformers=[\n",
    "    (\"nominal\", nominal_preprocessor, nominal_variables),\n",
    "    (\"continuous\", continuous_preprocessor, continuous_variables),\n",
    "    (\"discrete\", discrete_preprocessor, discrete_variables),\n",
    "])"
   ]
  },
  {
   "cell_type": "markdown",
   "metadata": {},
   "source": [
    "As variáveis nominais, contínuas e discretas são extraídas do dicionário de dados com base no subtipo. Isso assegura que cada tipo de dado seja tratado com o pipeline apropriado."
   ]
  },
  {
   "cell_type": "markdown",
   "metadata": {},
   "source": [
    "* Aplicando preprocessor:"
   ]
  },
  {
   "cell_type": "code",
   "execution_count": 18,
   "metadata": {},
   "outputs": [],
   "source": [
    "X_preprocessed = preprocessor.fit_transform(X)"
   ]
  },
  {
   "cell_type": "markdown",
   "metadata": {},
   "source": [
    "Acima Treina o pipeline no dataset (fit) e transforma os dados (transform) de acordo com os passos definidos."
   ]
  },
  {
   "cell_type": "code",
   "execution_count": 19,
   "metadata": {},
   "outputs": [
    {
     "name": "stdout",
     "output_type": "stream",
     "text": [
      "Dados pré-processados:\n",
      "[[ 1.          0.          1.         ...  0.         -0.31471131\n",
      "  -0.60019263]\n",
      " [ 0.          1.          1.         ...  0.         -1.06323531\n",
      "   0.45338292]\n",
      " [ 0.          1.          1.         ...  0.          0.1377799\n",
      "   0.45338292]\n",
      " ...\n",
      " [ 0.          1.          0.         ...  0.          0.3246295\n",
      "  -0.60019263]\n",
      " [ 0.          1.          1.         ...  0.         -0.2212865\n",
      "  -0.60019263]\n",
      " [ 1.          0.          1.         ...  0.         -0.1132289\n",
      "  -0.60019263]]\n"
     ]
    }
   ],
   "source": [
    "print(\"Dados pré-processados:\")\n",
    "print(X_preprocessed)"
   ]
  },
  {
   "cell_type": "markdown",
   "metadata": {},
   "source": [
    "## Análise Comparativa de Modelos de Regressão"
   ]
  },
  {
   "cell_type": "markdown",
   "metadata": {},
   "source": [
    "* ### **Avaliação e validação dos Modelos**"
   ]
  },
  {
   "cell_type": "code",
   "execution_count": 20,
   "metadata": {},
   "outputs": [],
   "source": [
    "models = [DummyRegressor(strategy='mean'), LinearRegression(), KNeighborsRegressor(n_neighbors=5), SVR()]"
   ]
  },
  {
   "cell_type": "code",
   "execution_count": 21,
   "metadata": {},
   "outputs": [],
   "source": [
    "metrics = [\n",
    "    'neg_mean_absolute_error',\n",
    "    'neg_mean_squared_error',\n",
    "    'neg_mean_absolute_percentage_error',\n",
    "    'r2',\n",
    "]"
   ]
  },
  {
   "cell_type": "code",
   "execution_count": 22,
   "metadata": {},
   "outputs": [],
   "source": [
    "monte_carlo = ShuffleSplit(n_splits=10, test_size=.2, random_state=42)"
   ]
  },
  {
   "cell_type": "code",
   "execution_count": 23,
   "metadata": {},
   "outputs": [
    {
     "name": "stdout",
     "output_type": "stream",
     "text": [
      "rodando para o modelo: DummyRegressor\n",
      "rodando para o modelo: LinearRegression\n",
      "rodando para o modelo: KNeighborsRegressor\n",
      "rodando para o modelo: SVR\n"
     ]
    }
   ],
   "source": [
    "results_total = None\n",
    "for model in models:\n",
    "    model_name = model.__class__.__name__\n",
    "    print(f\"rodando para o modelo: {model_name}\")\n",
    "    approach = Pipeline(steps=[\n",
    "        ('preprocessor', preprocessor),\n",
    "        ('model', model),\n",
    "    ])\n",
    "\n",
    "    scores = cross_validate(\n",
    "        approach, X, y,\n",
    "        scoring=metrics, \n",
    "        cv=monte_carlo\n",
    "    )\n",
    "    results_model = pd.DataFrame(scores)\n",
    "    results_model['model'] = model_name\n",
    "    if results_total is None:\n",
    "        results_total = results_model\n",
    "    else:\n",
    "        results_total = pd.concat([results_total, results_model])"
   ]
  },
  {
   "cell_type": "code",
   "execution_count": 24,
   "metadata": {},
   "outputs": [
    {
     "data": {
      "text/html": [
       "<div>\n",
       "<style scoped>\n",
       "    .dataframe tbody tr th:only-of-type {\n",
       "        vertical-align: middle;\n",
       "    }\n",
       "\n",
       "    .dataframe tbody tr th {\n",
       "        vertical-align: top;\n",
       "    }\n",
       "\n",
       "    .dataframe thead th {\n",
       "        text-align: right;\n",
       "    }\n",
       "</style>\n",
       "<table border=\"1\" class=\"dataframe\">\n",
       "  <thead>\n",
       "    <tr style=\"text-align: right;\">\n",
       "      <th></th>\n",
       "      <th>model</th>\n",
       "      <th>DummyRegressor</th>\n",
       "      <th>KNeighborsRegressor</th>\n",
       "      <th>LinearRegression</th>\n",
       "      <th>SVR</th>\n",
       "    </tr>\n",
       "  </thead>\n",
       "  <tbody>\n",
       "    <tr>\n",
       "      <th rowspan=\"2\" valign=\"top\">fit_time</th>\n",
       "      <th>mean</th>\n",
       "      <td>0.013411</td>\n",
       "      <td>0.022550</td>\n",
       "      <td>0.034297</td>\n",
       "      <td>0.021402</td>\n",
       "    </tr>\n",
       "    <tr>\n",
       "      <th>std</th>\n",
       "      <td>0.006490</td>\n",
       "      <td>0.004552</td>\n",
       "      <td>0.035623</td>\n",
       "      <td>0.006740</td>\n",
       "    </tr>\n",
       "    <tr>\n",
       "      <th rowspan=\"2\" valign=\"top\">score_time</th>\n",
       "      <th>mean</th>\n",
       "      <td>0.006656</td>\n",
       "      <td>0.014626</td>\n",
       "      <td>0.013172</td>\n",
       "      <td>0.009864</td>\n",
       "    </tr>\n",
       "    <tr>\n",
       "      <th>std</th>\n",
       "      <td>0.005024</td>\n",
       "      <td>0.004642</td>\n",
       "      <td>0.005345</td>\n",
       "      <td>0.004961</td>\n",
       "    </tr>\n",
       "    <tr>\n",
       "      <th rowspan=\"2\" valign=\"top\">test_neg_mean_absolute_error</th>\n",
       "      <th>mean</th>\n",
       "      <td>-1.097528</td>\n",
       "      <td>-0.842865</td>\n",
       "      <td>-0.796831</td>\n",
       "      <td>-0.755127</td>\n",
       "    </tr>\n",
       "    <tr>\n",
       "      <th>std</th>\n",
       "      <td>0.053536</td>\n",
       "      <td>0.069564</td>\n",
       "      <td>0.061810</td>\n",
       "      <td>0.051762</td>\n",
       "    </tr>\n",
       "    <tr>\n",
       "      <th rowspan=\"2\" valign=\"top\">test_neg_mean_squared_error</th>\n",
       "      <th>mean</th>\n",
       "      <td>-1.913626</td>\n",
       "      <td>-1.248358</td>\n",
       "      <td>-1.132064</td>\n",
       "      <td>-1.051083</td>\n",
       "    </tr>\n",
       "    <tr>\n",
       "      <th>std</th>\n",
       "      <td>0.337541</td>\n",
       "      <td>0.236088</td>\n",
       "      <td>0.177299</td>\n",
       "      <td>0.164498</td>\n",
       "    </tr>\n",
       "    <tr>\n",
       "      <th rowspan=\"2\" valign=\"top\">test_neg_mean_absolute_percentage_error</th>\n",
       "      <th>mean</th>\n",
       "      <td>-0.478500</td>\n",
       "      <td>-0.339017</td>\n",
       "      <td>-0.312493</td>\n",
       "      <td>-0.296390</td>\n",
       "    </tr>\n",
       "    <tr>\n",
       "      <th>std</th>\n",
       "      <td>0.056960</td>\n",
       "      <td>0.034385</td>\n",
       "      <td>0.027163</td>\n",
       "      <td>0.024975</td>\n",
       "    </tr>\n",
       "    <tr>\n",
       "      <th rowspan=\"2\" valign=\"top\">test_r2</th>\n",
       "      <th>mean</th>\n",
       "      <td>-0.050466</td>\n",
       "      <td>0.309460</td>\n",
       "      <td>0.373997</td>\n",
       "      <td>0.420621</td>\n",
       "    </tr>\n",
       "    <tr>\n",
       "      <th>std</th>\n",
       "      <td>0.067162</td>\n",
       "      <td>0.116482</td>\n",
       "      <td>0.087094</td>\n",
       "      <td>0.058268</td>\n",
       "    </tr>\n",
       "  </tbody>\n",
       "</table>\n",
       "</div>"
      ],
      "text/plain": [
       "model                                         DummyRegressor  \\\n",
       "fit_time                                mean        0.013411   \n",
       "                                        std         0.006490   \n",
       "score_time                              mean        0.006656   \n",
       "                                        std         0.005024   \n",
       "test_neg_mean_absolute_error            mean       -1.097528   \n",
       "                                        std         0.053536   \n",
       "test_neg_mean_squared_error             mean       -1.913626   \n",
       "                                        std         0.337541   \n",
       "test_neg_mean_absolute_percentage_error mean       -0.478500   \n",
       "                                        std         0.056960   \n",
       "test_r2                                 mean       -0.050466   \n",
       "                                        std         0.067162   \n",
       "\n",
       "model                                         KNeighborsRegressor  \\\n",
       "fit_time                                mean             0.022550   \n",
       "                                        std              0.004552   \n",
       "score_time                              mean             0.014626   \n",
       "                                        std              0.004642   \n",
       "test_neg_mean_absolute_error            mean            -0.842865   \n",
       "                                        std              0.069564   \n",
       "test_neg_mean_squared_error             mean            -1.248358   \n",
       "                                        std              0.236088   \n",
       "test_neg_mean_absolute_percentage_error mean            -0.339017   \n",
       "                                        std              0.034385   \n",
       "test_r2                                 mean             0.309460   \n",
       "                                        std              0.116482   \n",
       "\n",
       "model                                         LinearRegression       SVR  \n",
       "fit_time                                mean          0.034297  0.021402  \n",
       "                                        std           0.035623  0.006740  \n",
       "score_time                              mean          0.013172  0.009864  \n",
       "                                        std           0.005345  0.004961  \n",
       "test_neg_mean_absolute_error            mean         -0.796831 -0.755127  \n",
       "                                        std           0.061810  0.051762  \n",
       "test_neg_mean_squared_error             mean         -1.132064 -1.051083  \n",
       "                                        std           0.177299  0.164498  \n",
       "test_neg_mean_absolute_percentage_error mean         -0.312493 -0.296390  \n",
       "                                        std           0.027163  0.024975  \n",
       "test_r2                                 mean          0.373997  0.420621  \n",
       "                                        std           0.087094  0.058268  "
      ]
     },
     "execution_count": 24,
     "metadata": {},
     "output_type": "execute_result"
    }
   ],
   "source": [
    "results_total.groupby('model').agg(['mean', 'std']).T"
   ]
  },
  {
   "cell_type": "markdown",
   "metadata": {},
   "source": [
    "**PREPARAÇÃO DOS DADOS PARA OS GRÁFICOS**:"
   ]
  },
  {
   "cell_type": "code",
   "execution_count": 25,
   "metadata": {},
   "outputs": [],
   "source": [
    "# Pivotar os dados para facilitar a visualização\n",
    "results_pivot = results_total.pivot_table(index='model', aggfunc=['mean', 'std'])\n",
    "\n",
    "# Renomear colunas para facilitar o acesso\n",
    "results_pivot.columns = ['_'.join(col).strip() for col in results_pivot.columns]\n",
    "\n",
    "# Resetar o índice para usar os modelos no eixo X\n",
    "results_pivot = results_pivot.reset_index()"
   ]
  },
  {
   "cell_type": "markdown",
   "metadata": {},
   "source": [
    "**Boxplot dos Tempos de Treinamento e Previsão**"
   ]
  },
  {
   "cell_type": "code",
   "execution_count": 56,
   "metadata": {},
   "outputs": [
    {
     "data": {
      "image/png": "[encoded data removed]",
      "text/plain": [
       "<Figure size 1200x600 with 2 Axes>"
      ]
     },
     "metadata": {},
     "output_type": "display_data"
    }
   ],
   "source": [
    "plt.figure(figsize=(12, 6))\n",
    "\n",
    "# Tempo de treinamento (fit_time)\n",
    "plt.subplot(1, 2, 1)\n",
    "sns.boxplot(data=results_total, x='model', y='fit_time', palette='Purples')\n",
    "plt.title('Média por Tempo de Treinamento (fit_time)')\n",
    "plt.ylabel('Tempo (segundos)')\n",
    "plt.xlabel('Modelo')\n",
    "plt.xticks(rotation=45)\n",
    "\n",
    "# Tempo de previsão (score_time)\n",
    "plt.subplot(1, 2, 2)\n",
    "sns.boxplot(data=results_total, x='model', y='score_time', palette='Purples')\n",
    "plt.title('Média por Tempo de Previsão (score_time)')\n",
    "plt.ylabel('Tempo (segundos)')\n",
    "plt.xlabel('Modelo')\n",
    "plt.xticks(rotation=45)\n",
    "\n",
    "plt.tight_layout()\n",
    "plt.show()"
   ]
  },
  {
   "cell_type": "code",
   "execution_count": 55,
   "metadata": {},
   "outputs": [
    {
     "data": {
      "image/png": "[encoded data removed]",
      "text/plain": [
       "<Figure size 1200x600 with 2 Axes>"
      ]
     },
     "metadata": {},
     "output_type": "display_data"
    }
   ],
   "source": [
    "std_results = results_total.groupby('model').std().reset_index()\n",
    "\n",
    "plt.figure(figsize=(12, 6))\n",
    "\n",
    "# Tempo de treinamento (fit_time) - desvio padrão\n",
    "plt.subplot(1, 2, 1)\n",
    "sns.barplot(data=std_results, x='model', y='fit_time', palette='Purples')\n",
    "plt.title('Desvio Padrão do Tempo de Treinamento (fit_time)')\n",
    "plt.ylabel('Tempo (segundos)')\n",
    "plt.xlabel('Modelo')\n",
    "plt.xticks(rotation=45)\n",
    "\n",
    "# Tempo de previsão (score_time) - desvio padrão\n",
    "plt.subplot(1, 2, 2)\n",
    "sns.barplot(data=std_results, x='model', y='score_time', palette='Purples')\n",
    "plt.title('Desvio Padrão do Tempo de Previsão (score_time)')\n",
    "plt.ylabel('Tempo (segundos)')\n",
    "plt.xlabel('Modelo')\n",
    "plt.xticks(rotation=45)\n",
    "\n",
    "plt.tight_layout()\n",
    "plt.show()"
   ]
  },
  {
   "cell_type": "markdown",
   "metadata": {},
   "source": [
    "**Gráficos Comparativos para Métricas**"
   ]
  },
  {
   "cell_type": "code",
   "execution_count": 53,
   "metadata": {},
   "outputs": [
    {
     "data": {
      "image/png": "[encoded data removed]",
      "text/plain": [
       "<Figure size 1200x600 with 1 Axes>"
      ]
     },
     "metadata": {},
     "output_type": "display_data"
    }
   ],
   "source": [
    "metrics_to_plot = ['mean_test_neg_mean_absolute_error', 'mean_test_r2','mean_test_neg_mean_absolute_percentage_error','mean_test_neg_mean_squared_error']\n",
    "results_melted = results_pivot.melt(id_vars='model', value_vars=metrics_to_plot, var_name='Métrica', value_name='Valor')\n",
    "\n",
    "plt.figure(figsize=(12, 6))\n",
    "sns.barplot(data=results_melted, x='model', y='Valor', hue='Métrica', palette='Purples')\n",
    "plt.title('Comparação de Métricas por Modelo (Média)')\n",
    "plt.ylabel('Valor')\n",
    "plt.xlabel('Modelo')\n",
    "plt.xticks(rotation=45)\n",
    "plt.legend(title='Métrica')\n",
    "plt.tight_layout()\n",
    "plt.show()\n"
   ]
  },
  {
   "cell_type": "code",
   "execution_count": 54,
   "metadata": {},
   "outputs": [
    {
     "data": {
      "image/png": "[encoded data removed]",
      "text/plain": [
       "<Figure size 1200x600 with 1 Axes>"
      ]
     },
     "metadata": {},
     "output_type": "display_data"
    }
   ],
   "source": [
    "metrics_to_plot = ['std_test_neg_mean_absolute_error', 'std_test_r2','std_test_neg_mean_absolute_percentage_error','std_test_neg_mean_squared_error']\n",
    "results_melted = results_pivot.melt(id_vars='model', value_vars=metrics_to_plot, var_name='Métrica', value_name='Valor')\n",
    "\n",
    "plt.figure(figsize=(12, 6))\n",
    "sns.barplot(data=results_melted, x='model', y='Valor', hue='Métrica', palette='Purples')\n",
    "plt.title('Comparação de Métricas por Modelo (Desvio Padrão)')\n",
    "plt.ylabel('Valor')\n",
    "plt.xlabel('Modelo')\n",
    "plt.xticks(rotation=45)\n",
    "plt.legend(title='Métrica')\n",
    "plt.tight_layout()\n",
    "plt.show()"
   ]
  },
  {
   "cell_type": "markdown",
   "metadata": {},
   "source": [
    "1. **Tempos de Treinamento e de Previsão**\n",
    "* **fit_time**\n",
    "   * **Média (mean)**: Indica o tempo médio necessário para treinar cada modelo.\n",
    "      * Observação: O LinearRegression tem o maior tempo médio de treinamento (0.014686), seguido pelos outros modelos com tempos similares.\n",
    "   * **Desvio padrão (std)**: Mede a variabilidade no tempo de treinamento entre execuções.\n",
    "      * Observação: LinearRegression também apresenta a maior variabilidade (0.019117), enquanto o KNeighborsRegressor e o SVR têm menor variação.\n",
    "* **score_time**\n",
    "   * **Média**: Refere-se ao tempo médio necessário para realizar predições com o modelo.\n",
    "      * Observação: O SVR tem o menor tempo médio (0.001715), enquanto o DummyRegressor é o mais lento para prever (0.004356).\n",
    "   * **Desvio padrão**: A variabilidade é baixa para todos os modelos, indicando tempos consistentes de predição.\n",
    "\n",
    "2. **Métricas de Avaliação de Erros**\n",
    "* **test_neg_mean_absolute_error (MAE)**\n",
    "   * MAE é o erro médio absoluto (valores negativos indicam erro porque estamos usando a versão \"negativa\" da métrica). Quanto mais próximo de 0, melhor.\n",
    "   * Análise:\n",
    "      * O DummyRegressor (modelo de base) tem o maior erro médio absoluto (-1.097528), pois ele apenas prevê a média, sem levar os dados em consideração.\n",
    "      * O SVR apresenta o menor erro médio absoluto (-0.755127), indicando que é o modelo com melhor desempenho em termos de previsões mais próximas dos valores reais.\n",
    "\n",
    "* **test_neg_mean_squared_error (MSE)**\n",
    "   * O MSE mede o erro médio ao quadrado, penalizando erros maiores. Valores mais próximos de 0 são melhores.\n",
    "   * Análise:\n",
    "      * O DummyRegressor tem o maior erro (-1.913626), enquanto o SVR novamente apresenta o menor erro (-1.051083), reforçando sua superioridade.\n",
    "\n",
    "* **test_neg_mean_absolute_percentage_error (MAPE)**\n",
    "   * MAPE mede o erro médio percentual absoluto. Novamente, valores mais próximos de 0 são melhores.\n",
    "   * Análise:\n",
    "      * O DummyRegressor apresenta um erro percentual alto (-47.85%), enquanto o SVR apresenta o menor erro percentual (-29.63%), mostrando que é mais confiável.\n",
    "\n",
    "\n",
    "3. **Coeficiente de Determinação (test_r2)**\n",
    "\n",
    "* O R² mede a proporção da variância explicada pelo modelo. Valores positivos próximos de 1 indicam bom desempenho, enquanto valores negativos sugerem que o modelo está pior que uma previsão baseada na média.\n",
    "* Análise:\n",
    "   * DummyRegressor: O R² negativo (-0.050466) confirma que ele não consegue explicar a variância dos dados.\n",
    "   * KNeighborsRegressor e LinearRegression: Têm R² positivos e razoáveis (0.309460 e 0.373997, respectivamente).\n",
    "   * SVR: Obteve o melhor R² (0.420621), sugerindo que é o modelo mais eficaz para capturar os padrões dos dados.\n"
   ]
  },
  {
   "cell_type": "markdown",
   "metadata": {},
   "source": [
    "* ### **Predição dos Modelos**"
   ]
  },
  {
   "cell_type": "markdown",
   "metadata": {},
   "source": [
    "Divisão em treino e teste:"
   ]
  },
  {
   "cell_type": "code",
   "execution_count": 57,
   "metadata": {},
   "outputs": [],
   "source": [
    "X_train, X_test, y_train, y_test = train_test_split(X, y, test_size=0.2, random_state=42)"
   ]
  },
  {
   "cell_type": "code",
   "execution_count": 58,
   "metadata": {},
   "outputs": [],
   "source": [
    "# Aplicar o pré-processador aos dados de treino e teste\n",
    "X_train_transformed = preprocessor.fit_transform(X_train)\n",
    "X_test_transformed = preprocessor.transform(X_test)\n"
   ]
  },
  {
   "cell_type": "code",
   "execution_count": 59,
   "metadata": {},
   "outputs": [
    {
     "name": "stdout",
     "output_type": "stream",
     "text": [
      "Shape of X_train_transformed: (195, 12)\n",
      "Shape of X_test_transformed: (49, 12)\n"
     ]
    }
   ],
   "source": [
    "# Verificando o tamanho dos dados transformados\n",
    "print(\"Shape of X_train_transformed:\", X_train_transformed.shape)\n",
    "print(\"Shape of X_test_transformed:\", X_test_transformed.shape)"
   ]
  },
  {
   "cell_type": "code",
   "execution_count": 60,
   "metadata": {},
   "outputs": [],
   "source": [
    "# Dicionário para armazenar os modelos treinados\n",
    "trained_models = {}\n",
    "# Treinando os modelos com os dados transformados\n",
    "for model in models:\n",
    "    model_name = type(model).__name__\n",
    "    model.fit(X_train_transformed, y_train)\n",
    "    trained_models[model_name] = model\n"
   ]
  },
  {
   "cell_type": "code",
   "execution_count": 61,
   "metadata": {},
   "outputs": [
    {
     "name": "stdout",
     "output_type": "stream",
     "text": [
      "Predictions for DummyRegressor:\n",
      "[3.08779487 3.08779487 3.08779487 3.08779487 3.08779487]\n",
      "Predictions for LinearRegression:\n",
      "[2.91436632 2.00292613 3.96425583 3.76380832 2.14836306]\n",
      "Predictions for KNeighborsRegressor:\n",
      "[3.18  1.976 3.534 2.834 2.786]\n",
      "Predictions for SVR:\n",
      "[3.17244791 1.86608451 4.08187114 3.148112   2.13794928]\n"
     ]
    }
   ],
   "source": [
    "# Fazendo predições\n",
    "predictions = {}\n",
    "for model_name, trained_model in trained_models.items():\n",
    "    y_pred = trained_model.predict(X_test_transformed)\n",
    "    predictions[model_name] = y_pred\n",
    "    print(f\"Predictions for {model_name}:\")\n",
    "    print(y_pred[:5])  # Exibindo as primeiras 5 predições\n"
   ]
  },
  {
   "cell_type": "markdown",
   "metadata": {},
   "source": [
    "1. **Predictions for DummyRegressor**:\n",
    "[3.08779487, 3.08779487, 3.08779487, 3.08779487, 3.08779487]\n",
    "\n",
    "* **Análise**: O DummyRegressor sempre retorna a média do valor da gorjeta no conjunto de treino.\n",
    "* **Interpretação**: Este modelo não captura nenhuma relação entre as variáveis explicativas e o valor da gorjeta. Todas as predições são idênticas e refletem apenas o valor médio de treino. Ele serve como baseline para comparação.\n",
    "\n",
    "2. **Predictions for LinearRegression**:\n",
    "[2.91436632, 2.00292613, 3.96425583, 3.76380832, 2.14836306]\n",
    "\n",
    "* **Análise**: O modelo tenta capturar uma relação linear entre as variáveis explicativas e a variável-alvo. As predições variam de 2.00 a 3.96.\n",
    "* **Interpretação**: As predições mostram variação com base nos dados, indicando que o modelo está respondendo às características dos exemplos de entrada.\n",
    "Este modelo é eficiente para relações aproximadamente lineares. No entanto, se houver relações não lineares significativas, ele pode apresentar limitações.\n",
    "\n",
    "3. **Predictions for KNeighborsRegressor**:\n",
    "[3.18, 1.976, 3.534, 2.834, 2.786]\n",
    "\n",
    "* **Análise**: O KNeighborsRegressor faz predições baseadas na média dos valores da gorjeta nos \"k\" vizinhos mais próximos no espaço das variáveis explicativas.\n",
    "* **Interpretação**: As predições refletem os valores locais, mas podem ser suavizadas pela média dos vizinhos.\n",
    "Esse modelo é mais adequado para padrões não lineares, mas depende da densidade dos dados para capturar variações corretamente.\n",
    "Algumas predições (como 1.976) diferem significativamente do valor médio, sugerindo que ele está ajustando bem a região correspondente.\n",
    "\n",
    "4. **Predictions for SVR (Support Vector Regressor)**:\n",
    "[3.17244791, 1.86608451, 4.08187114, 3.148112, 2.13794928]\n",
    "\n",
    "* **Análise**: O SVR faz predições baseando-se em um modelo que maximiza a margem para erros dentro de um limite tolerado, o que permite capturar padrões complexos e não lineares.\n",
    "* **Interpretação**:\n",
    "As predições variam amplamente (1.87 a 4.08), indicando que o modelo está capturando nuances nos dados.\n",
    "Comparado aos outros modelos, o SVR pode ser mais robusto em cenários onde a relação entre as variáveis explicativas e o valor da gorjeta é mais complicada."
   ]
  },
  {
   "cell_type": "markdown",
   "metadata": {},
   "source": [
    "## Análise Comparativa de Modelos de Classificação"
   ]
  },
  {
   "cell_type": "markdown",
   "metadata": {},
   "source": [
    "* ###  **Avaliação dos Modelos**"
   ]
  },
  {
   "cell_type": "code",
   "execution_count": 62,
   "metadata": {},
   "outputs": [],
   "source": [
    "# Definir os modelos de classificação\n",
    "models = [\n",
    "    LogisticRegression(),\n",
    "    KNeighborsClassifier()\n",
    "]"
   ]
  },
  {
   "cell_type": "code",
   "execution_count": 63,
   "metadata": {},
   "outputs": [],
   "source": [
    "# Armazenar relatórios de classificação\n",
    "reports = {}"
   ]
  },
  {
   "cell_type": "code",
   "execution_count": 64,
   "metadata": {},
   "outputs": [
    {
     "name": "stdout",
     "output_type": "stream",
     "text": [
      "Categorias geradas: ['Muito Baixa', 'Alta', 'Muito Alta', 'Baixa']\n",
      "Categories (4, object): ['Muito Baixa' < 'Baixa' < 'Alta' < 'Muito Alta']\n"
     ]
    }
   ],
   "source": [
    "# Divida y em quartis (4 categorias)\n",
    "y_categorical = pd.qcut(y, q=4, labels=[\"Muito Baixa\", \"Baixa\", \"Alta\", \"Muito Alta\"])\n",
    "print(\"Categorias geradas:\", y_categorical.unique())"
   ]
  },
  {
   "cell_type": "code",
   "execution_count": 65,
   "metadata": {},
   "outputs": [
    {
     "name": "stdout",
     "output_type": "stream",
     "text": [
      "Tamanho de y_categorical: 244\n"
     ]
    }
   ],
   "source": [
    "y_categorical = pd.qcut(y, q=4, labels=[\"Muito Baixa\", \"Baixa\", \"Alta\", \"Muito Alta\"])\n",
    "\n",
    "# Verifique o tamanho de y_categorical\n",
    "print(\"Tamanho de y_categorical:\", len(y_categorical))\n"
   ]
  },
  {
   "cell_type": "code",
   "execution_count": 66,
   "metadata": {},
   "outputs": [],
   "source": [
    "# Agora, divida os dados em treino e teste\n",
    "X_train, X_test, y_train, y_test = train_test_split(X, y_categorical, test_size=0.2, random_state=42)"
   ]
  },
  {
   "cell_type": "code",
   "execution_count": 67,
   "metadata": {},
   "outputs": [
    {
     "name": "stdout",
     "output_type": "stream",
     "text": [
      "Tamanho de X_train: 195\n",
      "Tamanho de y_train: 195\n"
     ]
    }
   ],
   "source": [
    "# Verifique os tamanhos após a divisão\n",
    "print(\"Tamanho de X_train:\", X_train.shape[0])\n",
    "print(\"Tamanho de y_train:\", len(y_train))"
   ]
  },
  {
   "cell_type": "code",
   "execution_count": 68,
   "metadata": {},
   "outputs": [
    {
     "name": "stdout",
     "output_type": "stream",
     "text": [
      "Treinando e avaliando o modelo: LogisticRegression\n",
      "Relatório de classificação para LogisticRegression:\n",
      "              precision    recall  f1-score   support\n",
      "\n",
      "        Alta       0.58      0.78      0.67         9\n",
      "       Baixa       1.00      0.11      0.20         9\n",
      "  Muito Alta       0.45      0.56      0.50         9\n",
      " Muito Baixa       0.68      0.77      0.72        22\n",
      "\n",
      "    accuracy                           0.61        49\n",
      "   macro avg       0.68      0.55      0.52        49\n",
      "weighted avg       0.68      0.61      0.58        49\n",
      "\n",
      "Treinando e avaliando o modelo: KNeighborsClassifier\n",
      "Relatório de classificação para KNeighborsClassifier:\n",
      "              precision    recall  f1-score   support\n",
      "\n",
      "        Alta       0.33      0.56      0.42         9\n",
      "       Baixa       0.33      0.33      0.33         9\n",
      "  Muito Alta       0.50      0.44      0.47         9\n",
      " Muito Baixa       0.76      0.59      0.67        22\n",
      "\n",
      "    accuracy                           0.51        49\n",
      "   macro avg       0.48      0.48      0.47        49\n",
      "weighted avg       0.56      0.51      0.52        49\n",
      "\n"
     ]
    }
   ],
   "source": [
    "# Loop para treinar cada modelo e gerar o relatório\n",
    "for model in models:\n",
    "    model_name = model.__class__.__name__\n",
    "    print(f\"Treinando e avaliando o modelo: {model_name}\")\n",
    "    \n",
    "    # Criar o pipeline\n",
    "    pipeline = Pipeline(steps=[\n",
    "        (\"preprocessor\", preprocessor),\n",
    "        (\"model\", model),\n",
    "    ])\n",
    "    \n",
    "    # Treinar o pipeline\n",
    "    pipeline.fit(X_train, y_train)\n",
    "    \n",
    "    # Fazer predições\n",
    "    y_pred = pipeline.predict(X_test)\n",
    "    \n",
    "    # Gerar o relatório de classificação\n",
    "    report = classification_report(y_test, y_pred, output_dict=False)\n",
    "    print(f\"Relatório de classificação para {model_name}:\\n{report}\")\n",
    "    \n",
    "    # Armazenar o relatório\n",
    "    reports[model_name] = classification_report(y_test, y_pred, output_dict=True)"
   ]
  },
  {
   "cell_type": "markdown",
   "metadata": {},
   "source": [
    "**MATRIX DE CONFUSÃO**"
   ]
  },
  {
   "cell_type": "code",
   "execution_count": 74,
   "metadata": {},
   "outputs": [
    {
     "name": "stdout",
     "output_type": "stream",
     "text": [
      "Gerando matriz de confusão para o modelo: LogisticRegression\n",
      "Gerando matriz de confusão para o modelo: KNeighborsClassifier\n"
     ]
    },
    {
     "data": {
      "image/png": "[encoded data removed]",
      "text/plain": [
       "<Figure size 1800x600 with 4 Axes>"
      ]
     },
     "metadata": {},
     "output_type": "display_data"
    }
   ],
   "source": [
    "# Criar subplots para comparação lado a lado\n",
    "fig, axes = plt.subplots(1, len(models), figsize=(18, 6))\n",
    "\n",
    "# Loop para gerar as matrizes de confusão\n",
    "for i, model in enumerate(models):\n",
    "    model_name = model.__class__.__name__\n",
    "    print(f\"Gerando matriz de confusão para o modelo: {model_name}\")\n",
    "    \n",
    "    # Criar o pipeline\n",
    "    pipeline = Pipeline(steps=[\n",
    "        (\"preprocessor\", preprocessor),\n",
    "        (\"model\", model),\n",
    "    ])\n",
    "    \n",
    "    # Treinar o pipeline\n",
    "    pipeline.fit(X_train, y_train)\n",
    "    \n",
    "    # Fazer predições\n",
    "    y_pred = pipeline.predict(X_test)\n",
    "    \n",
    "    # Gerar a matriz de confusão\n",
    "    cm = confusion_matrix(y_test, y_pred, labels=pipeline.classes_)\n",
    "    \n",
    "    # Plotar a matriz de confusão no subplot correspondente\n",
    "    sns.heatmap(cm, annot=True, fmt='d', xticklabels=pipeline.classes_, yticklabels=pipeline.classes_, ax=axes[i], cmap='Purples')\n",
    "    axes[i].set_title(f\"{model_name}\")\n",
    "    axes[i].set_xlabel(\"Predicted\")\n",
    "    axes[i].set_ylabel(\"Actual\")\n",
    "\n",
    "# Ajustar layout\n",
    "plt.tight_layout()\n",
    "plt.show()"
   ]
  },
  {
   "cell_type": "markdown",
   "metadata": {},
   "source": [
    "1. **Resultados da LogisticRegression** -> Classes (Alta, Baixa, Muito Alta, Muito Baixa):\n",
    "\n",
    "* **Alta**:\n",
    "    * **Precision**: 0.58 — Das vezes que o modelo previu \"Alta\", 58% estavam corretas.\n",
    "    * **Recall**: 0.78 — O modelo identificou corretamente 78% dos casos reais de \"Alta\".\n",
    "    * **F1-Score**: 0.67 — Combinação equilibrada entre precisão e recall para a classe \"Alta\".\n",
    "\n",
    "* **Baixa**:\n",
    "    * **Precision**: 1.00 — Todas as previsões para \"Baixa\" estavam corretas, mas...\n",
    "    * **Recall**: 0.11 — Apenas 11% dos casos reais de \"Baixa\" foram identificados.\n",
    "    * **F1-Score**: 0.20 — Baixo devido ao recall muito baixo.\n",
    "\n",
    "* **Muito Alta**:\n",
    "    * **Precision**: 0.45 — Previsões para \"Muito Alta\" estavam corretas em 45% dos casos.\n",
    "    * **Recall**: 0.56 — O modelo conseguiu identificar 56% dos casos reais de \"Muito Alta\".\n",
    "    * **F1-Score**: 0.50 — Moderado desempenho para essa classe.\n",
    "\n",
    "* **Muito Baixa**:\n",
    "    * **Precision**: 0.68 — Previsões para \"Muito Baixa\" estavam corretas em 68% dos casos.\n",
    "    * **Recall**: 0.77 — O modelo identificou 77% dos casos reais de \"Muito Baixa\".\n",
    "    * **F1-Score**: 0.72 — Melhor desempenho geral entre as classes.\n",
    "\n",
    "* **Métricas globais**:\n",
    "    * **Accuracy**: 0.61 — O modelo acertou 61% de todas as previsões.\n",
    "    * **Macro Avg**:\n",
    "        * **Precision**: 0.68 — Média das precisões de todas as classes, não ponderada.\n",
    "        * **Recall**: 0.55 — Média dos recalls de todas as classes.\n",
    "        * **F1-Score**: 0.52 — Média das F1-scores.\n",
    "* **Weighted Avg**:\n",
    "    * Pondera as métricas com base no número de exemplos em cada classe.\n",
    "\n",
    "* **Observações sobre LogisticRegression**:\n",
    " A classe \"Baixa\" é um ponto fraco do modelo, com recall extremamente baixo. Isso pode indicar desequilíbrio nos dados ou dificuldade do modelo em separar essa classe.\n",
    "O modelo performa melhor nas classes mais frequentes, como \"Muito Baixa\".\n",
    "\n",
    "2. **Resultados do KNeighborsClassifier** -> Classes (Alta, Baixa, Muito Alta, Muito Baixa):\n",
    "\n",
    "* **Alta**:\n",
    "    * **Precision**: 0.33 — Baixa precisão, apenas 33% das previsões estavam corretas.\n",
    "    * **Recall**: 0.56 — O modelo identificou corretamente 56% dos casos reais de \"Alta\".\n",
    "    * **F1-Score**: 0.42 — Desempenho moderado.\n",
    "\n",
    "* **Baixa**:\n",
    "    * **Precision**: 0.33 — Mesmo desempenho que \"Alta\".\n",
    "    * **Recall**: 0.33 — Apenas 33% dos casos reais foram capturados.\n",
    "    * **F1-Score**: 0.33 — Baixo desempenho geral.\n",
    "\n",
    "* **Muito Alta**:\n",
    "    * **Precision**: 0.50 — Melhor precisão entre as classes menores.\n",
    "    * **Recall**: 0.44 — 44% dos casos reais foram identificados.\n",
    "    * **F1-Score**: 0.47 — Melhor que as classes anteriores.\n",
    "\n",
    "* **Muito Baixa**:\n",
    "    * **Precision**: 0.76 — Alta precisão, 76% das previsões estavam corretas.\n",
    "    * **Recall**: 0.59 — O modelo identificou 59% dos casos reais.\n",
    "    * **F1-Score**: 0.67 — Melhor desempenho geral.\n",
    "\n",
    "* **Métricas globais**:\n",
    "    * **Accuracy**: 0.51 — O modelo acertou 51% de todas as previsões, pior que LogisticRegression.\n",
    "    * **Macro Avg**:\n",
    "        * **Precision**: 0.48 — Média das precisões é baixa.\n",
    "        * **Recall**: 0.48 — Média dos recalls é equilibrada entre as classes.\n",
    "        * **F1-Score**: 0.47 — Baixo desempenho médio.\n",
    "    * **Weighted Avg**:\n",
    "        * Reflete o mesmo comportamento com leve influência da classe \"Muito Baixa\".\n",
    "\n",
    "* **Observações sobre KNeighborsClassifier**:\n",
    "O modelo tem dificuldades com as classes menos frequentes, mas teve um desempenho relativamente bom na classe \"Muito Baixa\".\n",
    "É sensível a dados locais, então pode ser necessário ajustar o número de vizinhos (n_neighbors) ou a escala dos dados.\n"
   ]
  },
  {
   "cell_type": "markdown",
   "metadata": {},
   "source": [
    "* ### **Predição dos Modelos**"
   ]
  },
  {
   "cell_type": "code",
   "execution_count": 70,
   "metadata": {},
   "outputs": [],
   "source": [
    "novos_dados = pd.DataFrame({\n",
    "    \"total_bill\": [25.0, 40.5],\n",
    "    \"size\": [2, 4],\n",
    "    \"sex\": [\"Female\", \"Male\"],\n",
    "    \"smoker\": [\"No\", \"Yes\"],\n",
    "    \"day\": [\"Sun\", \"Thur\"],\n",
    "    \"time\": [\"Dinner\", \"Lunch\"]\n",
    "})"
   ]
  },
  {
   "cell_type": "code",
   "execution_count": 71,
   "metadata": {},
   "outputs": [],
   "source": [
    "# Dicionário para armazenar as predições\n",
    "predictions = {}"
   ]
  },
  {
   "cell_type": "code",
   "execution_count": 72,
   "metadata": {},
   "outputs": [
    {
     "name": "stdout",
     "output_type": "stream",
     "text": [
      "Fazendo previsão com o modelo: LogisticRegression\n",
      "Fazendo previsão com o modelo: KNeighborsClassifier\n",
      "Previsões de classes para LogisticRegression: ['Alta' 'Muito Alta']\n",
      "Previsões de classes para KNeighborsClassifier: ['Alta' 'Muito Alta']\n"
     ]
    }
   ],
   "source": [
    "# Loop para fazer predições com todos os modelos\n",
    "for model in models:\n",
    "    model_name = model.__class__.__name__\n",
    "    print(f\"Fazendo previsão com o modelo: {model_name}\")\n",
    "    \n",
    "    # Criar o pipeline para o modelo atual\n",
    "    pipeline = Pipeline(steps=[\n",
    "        (\"preprocessor\", preprocessor),\n",
    "        (\"model\", model),\n",
    "    ])\n",
    "    \n",
    "    # Treinar o pipeline no conjunto completo de dados\n",
    "    pipeline.fit(X, y_categorical)  # Usar o y categórico aqui\n",
    "    \n",
    "    # Fazer predições para os novos dados\n",
    "    pred_classes = pipeline.predict(novos_dados)\n",
    "    \n",
    "    # Armazenar as predições no dicionário\n",
    "    predictions[model_name] = pred_classes\n",
    "\n",
    "# Exibir as predições para cada modelo\n",
    "for model_name, preds in predictions.items():\n",
    "    print(f\"Previsões de classes para {model_name}: {preds}\")\n"
   ]
  },
  {
   "cell_type": "markdown",
   "metadata": {},
   "source": [
    "**As predições feitas pelos dois modelos de classificação — LogisticRegression e KNeighborsClassifier — retornaram as mesmas classes**:\n",
    "\n",
    "* **Primeira observação**: Previsão = \"Alta\"\n",
    "* **Segunda observação**: Previsão = \"Muito Alta\"\n",
    "\n",
    "* **Interpretação**:\n",
    "    1. **Consistência entre os modelos**:\n",
    "    * Ambos os modelos previram as mesmas classes para os dois novos dados, indicando que, apesar de suas abordagens diferentes (logística versus proximidade de vizinhos), eles encontraram padrões similares nos dados de entrada. Isso pode sugerir que as características dos novos dados são bem representadas no conjunto de treino.\n",
    "\n",
    "    2. **Classe \"Alta\"**:\n",
    "    * Para o primeiro dado, os modelos classificaram como \"Alta\". Isso implica que, com base nos padrões do conjunto de dados de treino, os atributos dessa observação correspondem a características comuns das entradas categorizadas como \"Alta\".\n",
    "\n",
    "    3. **Classe \"Muito Alta\"**:\n",
    "    * Para o segundo dado, ambos os modelos atribuíram a classe \"Muito Alta\". Isso significa que os padrões dessa observação têm maior similaridade com os dados de treino rotulados como \"Muito Alta\".\n",
    "\n",
    "    4. **Possível causa da coincidência nas predições**:\n",
    "    * **A similaridade nas predições pode ser explicada por**:\n",
    "        * As observações inseridas podem ter características marcantes que os modelos aprenderam bem.\n",
    "        * Os modelos podem ter limitações em capturar nuances de dados mais complexos, levando a predições semelhantes."
   ]
  },
  {
   "cell_type": "code",
   "execution_count": 73,
   "metadata": {},
   "outputs": [
    {
     "name": "stdout",
     "output_type": "stream",
     "text": [
      "Fazendo previsão com o modelo: LogisticRegression\n",
      "Fazendo previsão com o modelo: KNeighborsClassifier\n",
      "Previsões de classes para LogisticRegression: ['Alta' 'Muito Alta']\n",
      "Probabilidades das classes para LogisticRegression:\n",
      "Dado 1: [0.48898787 0.19861949 0.26569181 0.04670083]\n",
      "Dado 2: [0.11669773 0.02102794 0.86028388 0.00199045]\n",
      "Previsões de classes para KNeighborsClassifier: ['Alta' 'Muito Alta']\n",
      "Probabilidades das classes para KNeighborsClassifier:\n",
      "Dado 1: [0.4 0.2 0.2 0.2]\n",
      "Dado 2: [0.4 0.  0.6 0. ]\n"
     ]
    }
   ],
   "source": [
    "# Inicializar dicionários para armazenar predições e probabilidades\n",
    "predictions = {}\n",
    "probabilities = {}  # Adicionar esta linha\n",
    "\n",
    "# Loop para fazer predições e analisar probabilidades com todos os modelos\n",
    "for model in models:\n",
    "    model_name = model.__class__.__name__\n",
    "    print(f\"Fazendo previsão com o modelo: {model_name}\")\n",
    "    \n",
    "    # Criar o pipeline para o modelo atual\n",
    "    pipeline = Pipeline(steps=[\n",
    "        (\"preprocessor\", preprocessor),\n",
    "        (\"model\", model),\n",
    "    ])\n",
    "    \n",
    "    # Treinar o pipeline no conjunto completo de dados\n",
    "    pipeline.fit(X, y_categorical)  # Usar o y categórico aqui\n",
    "    \n",
    "    # Fazer predições para os novos dados\n",
    "    pred_classes = pipeline.predict(novos_dados)\n",
    "    \n",
    "    # Armazenar as predições no dicionário\n",
    "    predictions[model_name] = pred_classes\n",
    "\n",
    "    # Verificar se o modelo suporta predict_proba\n",
    "    if hasattr(pipeline.named_steps[\"model\"], \"predict_proba\"):\n",
    "        pred_probs = pipeline.predict_proba(novos_dados)\n",
    "        probabilities[model_name] = pred_probs  # Armazenar as probabilidades\n",
    "    \n",
    "# Exibir as predições para cada modelo\n",
    "for model_name, preds in predictions.items():\n",
    "    print(f\"Previsões de classes para {model_name}: {preds}\")\n",
    "    if model_name in probabilities:\n",
    "        print(f\"Probabilidades das classes para {model_name}:\")\n",
    "        for i, prob in enumerate(probabilities[model_name]):\n",
    "            print(f\"Dado {i + 1}: {prob}\")\n"
   ]
  },
  {
   "cell_type": "markdown",
   "metadata": {},
   "source": [
    "**Modelo: LogisticRegression**\n",
    "\n",
    "* **Dado 1**:\n",
    "\n",
    "    * **Alta**: 48.90% de probabilidade (maior probabilidade, justificando a classe prevista como 'Alta').\n",
    "    * **Baixa**: 19.86% de probabilidade.\n",
    "    * **Muito Alta**: 26.57% de probabilidade.\n",
    "    * **Muito Baixa**: 4.67% de probabilidade.\n",
    "    * **Interpretação**: O modelo está relativamente confiante na classe 'Alta', mas há alguma incerteza devido às probabilidades consideráveis em 'Muito Alta'.\n",
    "\n",
    "* **Dado 2**:\n",
    "\n",
    "    * **Alta**: 11.67% de probabilidade.\n",
    "    * **Baixa**: 2.10% de probabilidade.\n",
    "    * **Muito Alta**: 86.03% de probabilidade (maior probabilidade, justificando a classe prevista como 'Muito Alta').\n",
    "    * **Muito Baixa**: 0.20% de probabilidade.\n",
    "    * **Interpretação**: O modelo está altamente confiante de que a classe correta é 'Muito Alta'."
   ]
  },
  {
   "cell_type": "markdown",
   "metadata": {},
   "source": [
    "**Modelo: KNeighborsClassifier**\n",
    "\n",
    "* **Dado 1**:\n",
    "\n",
    "    * **Alta**: 40% de probabilidade (maior probabilidade, justificando a classe prevista como 'Alta').\n",
    "    * **Baixa**: 20% de probabilidade.\n",
    "    * **Muito Alta**: 20% de probabilidade.\n",
    "    * **Muito Baixa**: 20% de probabilidade.\n",
    "    * **Interpretação**: O modelo apresenta uma divisão mais equilibrada das probabilidades, sugerindo menor confiança na previsão de 'Alta'.\n",
    "\n",
    "* **Dado 2**:\n",
    "\n",
    "    * **Alta**: 40% de probabilidade.\n",
    "    * **Baixa**: 0% de probabilidade.\n",
    "    * **Muito Alta**: 60% de probabilidade (maior probabilidade, justificando a classe prevista como 'Muito Alta').\n",
    "    * **Muito Baixa**: 0% de probabilidade.\n",
    "    * **Interpretação**: Apesar de menos confiança geral comparada ao LogisticRegression, o modelo mostra uma decisão clara entre 'Alta' e 'Muito Alta', favorecendo esta última."
   ]
  },
  {
   "cell_type": "markdown",
   "metadata": {},
   "source": [
    "## Insights"
   ]
  },
  {
   "cell_type": "markdown",
   "metadata": {},
   "source": [
    "* ### **Modelos de Regressão**:"
   ]
  },
  {
   "cell_type": "markdown",
   "metadata": {},
   "source": [
    "| Métrica                | Melhor Modelo     | Justificativa                                                                 |\n",
    "|------------------------|-------------------|-------------------------------------------------------------------------------|\n",
    "| Tempo de Treinamento   | DummyRegressor    | É o mais rápido de treinar, já que apenas calcula a média.                    |\n",
    "| Tempo de Previsão      | SVR              | É o mais rápido para realizar predições.                                     |\n",
    "| MAE, MSE e MAPE        | SVR              | Apresentou os menores erros em todas as métricas.                            |\n",
    "| R²                     | SVR              | Melhor capacidade de explicação da variância dos dados com um R² de 0.420621. |\n"
   ]
  },
  {
   "cell_type": "markdown",
   "metadata": {},
   "source": [
    "O SVR (Support Vector Regression) foi o modelo com melhor desempenho geral em termos de erro e explicação dos dados (R²). No entanto, também apresenta um tempo de treinamento relativamente mais alto. O DummyRegressor serve como referência e demonstrou desempenho ruim, como esperado.\n",
    "\n",
    "Se o foco for alta precisão, o SVR é a melhor escolha. Porém, caso o tempo de treinamento seja uma restrição, o LinearRegression também é uma opção razoável."
   ]
  },
  {
   "cell_type": "markdown",
   "metadata": {},
   "source": [
    "| Modelo               | Variação das Previsões | Captura de Padrões nos Dados | Observações                                                                                      |\n",
    "|-----------------------|-----------------------|-----------------------------|--------------------------------------------------------------------------------------------------|\n",
    "| DummyRegressor       | Nenhuma (constante)   | Nenhuma                     | Serve como baseline, apenas retornando o valor médio.                                            |\n",
    "| LinearRegression     | Moderada             | Relações lineares           | Bom para capturar padrões lineares; limitações em relações mais complexas.                      |\n",
    "| KNeighborsRegressor  | Moderada             | Relações locais             | Previsões dependem da densidade dos dados; bom para padrões não lineares em regiões densas.      |\n",
    "| SVR                  | Alta                 | Relações não lineares e globais | Captura padrões mais complexos; boa variação nas predições reflete maior adaptação às entradas. |\n"
   ]
  },
  {
   "cell_type": "markdown",
   "metadata": {},
   "source": [
    "* O DummyRegressor falha em capturar qualquer padrão, sendo usado apenas como referência básica.\n",
    "* O LinearRegression é eficaz para padrões lineares, mas pode falhar em dados mais complexos.\n",
    "* O KNeighborsRegressor oferece previsões locais, adaptando-se bem em regiões densas do espaço de dados.\n",
    "* O SVR apresenta a melhor capacidade de adaptação, mostrando uma variação nas predições que reflete bem a diversidade nos dados de entrada.\n",
    "* Se o objetivo é capturar relações complexas para prever o valor da gorjeta com maior precisão, o SVR parece ser o modelo mais promissor."
   ]
  },
  {
   "cell_type": "markdown",
   "metadata": {},
   "source": [
    "* ### **Modelos de Classificação**:"
   ]
  },
  {
   "cell_type": "markdown",
   "metadata": {},
   "source": [
    "| Métrica                | Melhor Modelo           | Justificativa                                                                 |\n",
    "|------------------------|-------------------------|-------------------------------------------------------------------------------|\n",
    "| Precision (ponderada)  | LogisticRegression      | Apresentou melhor precisão ponderada com 0.68, indicando previsões mais precisas. |\n",
    "| Recall (ponderado)     | LogisticRegression      | Recall de 0.61, melhor identificação geral das classes verdadeiras.           |\n",
    "| F1-Score (ponderado)   | LogisticRegression      | Melhor equilíbrio entre precisão e recall, com F1 ponderado de 0.58.          |\n",
    "| Accuracy               | LogisticRegression      | Acurácia de 61%, maior que KNeighborsClassifier.                              |\n",
    "| Melhor desempenho em \"Muito Baixa\" | LogisticRegression      | Maior recall e F1-score para a classe mais frequente.                         |\n",
    "| Classes minoritárias   | KNeighborsClassifier    | Melhor equilíbrio para as classes menores, com precisão similar entre elas.   |\n"
   ]
  },
  {
   "cell_type": "markdown",
   "metadata": {},
   "source": [
    "* LogisticRegression apresentou melhor desempenho geral, com maior accuracy (61%) e melhores métricas ponderadas. No entanto, teve dificuldades com a classe \"Baixa\".\n",
    "* KNeighborsClassifier teve accuracy menor (51%) e maior dificuldade em capturar padrões gerais, especialmente nas classes menores."
   ]
  },
  {
   "cell_type": "markdown",
   "metadata": {},
   "source": [
    "| Modelo               | Consistência das Previsões | Captura de Padrões nos Dados  | Observações                                                                                      |\n",
    "|-----------------------|---------------------------|--------------------------------|--------------------------------------------------------------------------------------------------|\n",
    "| LogisticRegression    | Alta                     | Relações lineares e globais   | Previu as classes \"Alta\" e \"Muito Alta\" de forma consistente; confiável em dados bem estruturados. |\n",
    "| KNeighborsClassifier  | Alta                     | Relações locais               | Previu as mesmas classes que o LogisticRegression; bom para identificar padrões próximos nos dados. |\n"
   ]
  },
  {
   "cell_type": "markdown",
   "metadata": {},
   "source": [
    "* Apesar de ambos concordarem nas previsões, é importante considerar as métricas de avaliação (como precision e recall) para decidir qual modelo é mais confiável.\n",
    "* O LogisticRegression apresenta maior confiança nas previsões devido à distribuição mais pronunciada das probabilidades, especialmente para o segundo dado.\n",
    "* O KNeighborsClassifier tende a ser menos confiante nas previsões, especialmente para o primeiro dado, com uma divisão mais uniforme das probabilidades."
   ]
  }
 ],
 "metadata": {
  "kernelspec": {
   "display_name": "base",
   "language": "python",
   "name": "python3"
  },
  "language_info": {
   "codemirror_mode": {
    "name": "ipython",
    "version": 3
   },
   "file_extension": ".py",
   "mimetype": "text/x-python",
   "name": "python",
   "nbconvert_exporter": "python",
   "pygments_lexer": "ipython3",
   "version": "3.11.7"
  }
 },
 "nbformat": 4,
 "nbformat_minor": 2
}
